{
  "nbformat": 4,
  "nbformat_minor": 0,
  "metadata": {
    "colab": {
      "name": "7-regresja.ipynb",
      "provenance": [],
      "collapsed_sections": [],
      "include_colab_link": true
    },
    "kernelspec": {
      "name": "python3",
      "display_name": "Python 3"
    }
  },
  "cells": [
    {
      "cell_type": "markdown",
      "metadata": {
        "id": "view-in-github",
        "colab_type": "text"
      },
      "source": [
        "<a href=\"https://colab.research.google.com/github/DepartmentOfStatisticsPUE/air-2020/blob/master/notebooks/7_regresja.ipynb\" target=\"_parent\"><img src=\"https://colab.research.google.com/assets/colab-badge.svg\" alt=\"Open In Colab\"/></a>"
      ]
    },
    {
      "cell_type": "code",
      "metadata": {
        "id": "19r3QAbvo2_-",
        "colab_type": "code",
        "colab": {}
      },
      "source": [
        "import pandas as pd\n",
        "import numpy as np\n",
        "import statsmodels.api as sm\n",
        "import statsmodels.formula.api as smf"
      ],
      "execution_count": 0,
      "outputs": []
    },
    {
      "cell_type": "code",
      "metadata": {
        "id": "zmntrjUGpMcH",
        "colab_type": "code",
        "outputId": "15093426-c3b6-4615-9ba1-15da283be7a1",
        "colab": {
          "base_uri": "https://localhost:8080/",
          "height": 223
        }
      },
      "source": [
        "gosp = pd.read_excel(\"gospodarstwa.xlsx\")\n",
        "gosp.head()"
      ],
      "execution_count": 0,
      "outputs": [
        {
          "output_type": "execute_result",
          "data": {
            "text/html": [
              "<div>\n",
              "<style scoped>\n",
              "    .dataframe tbody tr th:only-of-type {\n",
              "        vertical-align: middle;\n",
              "    }\n",
              "\n",
              "    .dataframe tbody tr th {\n",
              "        vertical-align: top;\n",
              "    }\n",
              "\n",
              "    .dataframe thead th {\n",
              "        text-align: right;\n",
              "    }\n",
              "</style>\n",
              "<table border=\"1\" class=\"dataframe\">\n",
              "  <thead>\n",
              "    <tr style=\"text-align: right;\">\n",
              "      <th></th>\n",
              "      <th>klm</th>\n",
              "      <th>woj</th>\n",
              "      <th>trb</th>\n",
              "      <th>zut</th>\n",
              "      <th>d21</th>\n",
              "      <th>d32</th>\n",
              "      <th>d345</th>\n",
              "      <th>d347</th>\n",
              "      <th>d348</th>\n",
              "      <th>d36</th>\n",
              "      <th>d38</th>\n",
              "      <th>d61</th>\n",
              "      <th>d63</th>\n",
              "      <th>los</th>\n",
              "      <th>dochg</th>\n",
              "      <th>wydg</th>\n",
              "    </tr>\n",
              "  </thead>\n",
              "  <tbody>\n",
              "    <tr>\n",
              "      <th>0</th>\n",
              "      <td>1</td>\n",
              "      <td>2</td>\n",
              "      <td>11</td>\n",
              "      <td>5</td>\n",
              "      <td>2</td>\n",
              "      <td>1</td>\n",
              "      <td>1</td>\n",
              "      <td>2</td>\n",
              "      <td>1</td>\n",
              "      <td>69</td>\n",
              "      <td>2</td>\n",
              "      <td>3</td>\n",
              "      <td>3</td>\n",
              "      <td>1.0</td>\n",
              "      <td>1191.41</td>\n",
              "      <td>1037.29</td>\n",
              "    </tr>\n",
              "    <tr>\n",
              "      <th>1</th>\n",
              "      <td>1</td>\n",
              "      <td>2</td>\n",
              "      <td>6</td>\n",
              "      <td>1</td>\n",
              "      <td>2</td>\n",
              "      <td>1</td>\n",
              "      <td>2</td>\n",
              "      <td>2</td>\n",
              "      <td>1</td>\n",
              "      <td>74</td>\n",
              "      <td>3</td>\n",
              "      <td>4</td>\n",
              "      <td>2</td>\n",
              "      <td>2.0</td>\n",
              "      <td>821.00</td>\n",
              "      <td>887.01</td>\n",
              "    </tr>\n",
              "    <tr>\n",
              "      <th>2</th>\n",
              "      <td>1</td>\n",
              "      <td>2</td>\n",
              "      <td>3</td>\n",
              "      <td>1</td>\n",
              "      <td>1</td>\n",
              "      <td>3</td>\n",
              "      <td>1</td>\n",
              "      <td>2</td>\n",
              "      <td>1</td>\n",
              "      <td>83</td>\n",
              "      <td>3</td>\n",
              "      <td>4</td>\n",
              "      <td>1</td>\n",
              "      <td>4.0</td>\n",
              "      <td>6669.87</td>\n",
              "      <td>6792.13</td>\n",
              "    </tr>\n",
              "    <tr>\n",
              "      <th>3</th>\n",
              "      <td>1</td>\n",
              "      <td>2</td>\n",
              "      <td>12</td>\n",
              "      <td>5</td>\n",
              "      <td>2</td>\n",
              "      <td>1</td>\n",
              "      <td>3</td>\n",
              "      <td>3</td>\n",
              "      <td>2</td>\n",
              "      <td>44</td>\n",
              "      <td>2</td>\n",
              "      <td>4</td>\n",
              "      <td>1</td>\n",
              "      <td>3.0</td>\n",
              "      <td>1872.59</td>\n",
              "      <td>1806.83</td>\n",
              "    </tr>\n",
              "    <tr>\n",
              "      <th>4</th>\n",
              "      <td>1</td>\n",
              "      <td>2</td>\n",
              "      <td>1</td>\n",
              "      <td>5</td>\n",
              "      <td>1</td>\n",
              "      <td>3</td>\n",
              "      <td>1</td>\n",
              "      <td>2</td>\n",
              "      <td>1</td>\n",
              "      <td>110</td>\n",
              "      <td>5</td>\n",
              "      <td>4</td>\n",
              "      <td>2</td>\n",
              "      <td>2.0</td>\n",
              "      <td>1731.44</td>\n",
              "      <td>2795.08</td>\n",
              "    </tr>\n",
              "  </tbody>\n",
              "</table>\n",
              "</div>"
            ],
            "text/plain": [
              "   klm  woj  trb  zut  d21  d32  ...  d38  d61  d63  los    dochg     wydg\n",
              "0    1    2   11    5    2    1  ...    2    3    3  1.0  1191.41  1037.29\n",
              "1    1    2    6    1    2    1  ...    3    4    2  2.0   821.00   887.01\n",
              "2    1    2    3    1    1    3  ...    3    4    1  4.0  6669.87  6792.13\n",
              "3    1    2   12    5    2    1  ...    2    4    1  3.0  1872.59  1806.83\n",
              "4    1    2    1    5    1    3  ...    5    4    2  2.0  1731.44  2795.08\n",
              "\n",
              "[5 rows x 16 columns]"
            ]
          },
          "metadata": {
            "tags": []
          },
          "execution_count": 3
        }
      ]
    },
    {
      "cell_type": "markdown",
      "metadata": {
        "id": "nGh5xgGAp3EI",
        "colab_type": "text"
      },
      "source": [
        "Usuwamy braki danych ze zbioru oraz rekordy w których dochód jest mniejszy od lub równy 0"
      ]
    },
    {
      "cell_type": "code",
      "metadata": {
        "id": "Te3YIpBAp_5j",
        "colab_type": "code",
        "outputId": "e6d1c014-20c7-4e0a-c031-cf3f7a4d11c7",
        "colab": {
          "base_uri": "https://localhost:8080/",
          "height": 51
        }
      },
      "source": [
        "gosp2 = gosp.dropna().loc[gosp.dochg > 0]\n",
        "print(gosp.shape)  ## 32 487\n",
        "print(gosp2.shape) ## 32 291"
      ],
      "execution_count": 0,
      "outputs": [
        {
          "output_type": "stream",
          "text": [
            "(32487, 16)\n",
            "(32291, 16)\n"
          ],
          "name": "stdout"
        }
      ]
    },
    {
      "cell_type": "markdown",
      "metadata": {
        "id": "-GlPT0n_rQUP",
        "colab_type": "text"
      },
      "source": [
        "Sprawdzamy z wykresem rozrzutu czy jest zależność liniowa między wydatkami, a dochodami gospodarstw domowych"
      ]
    },
    {
      "cell_type": "code",
      "metadata": {
        "id": "0uq5wMAZrWs9",
        "colab_type": "code",
        "outputId": "bd6abaf5-0fe1-45d8-e9af-7d104cdf8894",
        "colab": {
          "base_uri": "https://localhost:8080/",
          "height": 296
        }
      },
      "source": [
        "gosp2.plot.scatter(x = \"dochg\", y = \"wydg\")"
      ],
      "execution_count": 0,
      "outputs": [
        {
          "output_type": "execute_result",
          "data": {
            "text/plain": [
              "<matplotlib.axes._subplots.AxesSubplot at 0x7fadc3f0f860>"
            ]
          },
          "metadata": {
            "tags": []
          },
          "execution_count": 10
        },
        {
          "output_type": "display_data",
          "data": {
            "image/png": "[encoded data removed]",
            "text/plain": [
              "<Figure size 432x288 with 1 Axes>"
            ]
          },
          "metadata": {
            "tags": []
          }
        }
      ]
    },
    {
      "cell_type": "code",
      "metadata": {
        "id": "Cxio2_9gsOnu",
        "colab_type": "code",
        "outputId": "ee85e0a5-cfb7-4897-8d85-e59b286e3893",
        "colab": {
          "base_uri": "https://localhost:8080/",
          "height": 34
        }
      },
      "source": [
        "model1 = smf.ols(formula = \"wydg ~ dochg\",\n",
        "                 data = gosp2)\n",
        "model1"
      ],
      "execution_count": 0,
      "outputs": [
        {
          "output_type": "execute_result",
          "data": {
            "text/plain": [
              "<statsmodels.regression.linear_model.OLS at 0x7fadc32b26a0>"
            ]
          },
          "metadata": {
            "tags": []
          },
          "execution_count": 11
        }
      ]
    },
    {
      "cell_type": "code",
      "metadata": {
        "id": "jXJoq2qptiff",
        "colab_type": "code",
        "outputId": "5fe33f0c-0b4f-442b-d606-52c33fc3cb49",
        "colab": {
          "base_uri": "https://localhost:8080/",
          "height": 34
        }
      },
      "source": [
        "model1_fit = model1.fit()\n",
        "model1_fit"
      ],
      "execution_count": 0,
      "outputs": [
        {
          "output_type": "execute_result",
          "data": {
            "text/plain": [
              "<statsmodels.regression.linear_model.RegressionResultsWrapper at 0x7fadc32a73c8>"
            ]
          },
          "metadata": {
            "tags": []
          },
          "execution_count": 12
        }
      ]
    },
    {
      "cell_type": "code",
      "metadata": {
        "id": "67DnNBHGt3fu",
        "colab_type": "code",
        "outputId": "f9074f0a-5abc-448b-86e0-ec451a15ea85",
        "colab": {
          "base_uri": "https://localhost:8080/",
          "height": 500
        }
      },
      "source": [
        "print(model1_fit.summary())"
      ],
      "execution_count": 0,
      "outputs": [
        {
          "output_type": "stream",
          "text": [
            "                            OLS Regression Results                            \n",
            "==============================================================================\n",
            "Dep. Variable:                   wydg   R-squared:                       0.423\n",
            "Model:                            OLS   Adj. R-squared:                  0.423\n",
            "Method:                 Least Squares   F-statistic:                 2.364e+04\n",
            "Date:                Mon, 02 Dec 2019   Prob (F-statistic):               0.00\n",
            "Time:                        13:06:15   Log-Likelihood:            -2.7334e+05\n",
            "No. Observations:               32291   AIC:                         5.467e+05\n",
            "Df Residuals:                   32289   BIC:                         5.467e+05\n",
            "Df Model:                           1                                         \n",
            "Covariance Type:            nonrobust                                         \n",
            "==============================================================================\n",
            "                 coef    std err          t      P>|t|      [0.025      0.975]\n",
            "------------------------------------------------------------------------------\n",
            "Intercept    687.4768     10.725     64.102      0.000     666.456     708.498\n",
            "dochg          0.6176      0.004    153.756      0.000       0.610       0.626\n",
            "==============================================================================\n",
            "Omnibus:                    34915.310   Durbin-Watson:                   1.929\n",
            "Prob(Omnibus):                  0.000   Jarque-Bera (JB):         17943886.599\n",
            "Skew:                           4.808   Prob(JB):                         0.00\n",
            "Kurtosis:                     118.083   Cond. No.                     4.48e+03\n",
            "==============================================================================\n",
            "\n",
            "Warnings:\n",
            "[1] Standard Errors assume that the covariance matrix of the errors is correctly specified.\n",
            "[2] The condition number is large, 4.48e+03. This might indicate that there are\n",
            "strong multicollinearity or other numerical problems.\n"
          ],
          "name": "stdout"
        }
      ]
    },
    {
      "cell_type": "code",
      "metadata": {
        "id": "aKgiM7AQxSrL",
        "colab_type": "code",
        "outputId": "bf64e66e-87a4-402a-d684-157ae3e95a32",
        "colab": {
          "base_uri": "https://localhost:8080/",
          "height": 757
        }
      },
      "source": [
        "model2=smf.ols(formula = \"wydg ~ dochg + C(woj)\", data = gosp2).fit()\n",
        "print(model2.summary())"
      ],
      "execution_count": 0,
      "outputs": [
        {
          "output_type": "stream",
          "text": [
            "                            OLS Regression Results                            \n",
            "==============================================================================\n",
            "Dep. Variable:                   wydg   R-squared:                       0.424\n",
            "Model:                            OLS   Adj. R-squared:                  0.424\n",
            "Method:                 Least Squares   F-statistic:                     1484.\n",
            "Date:                Mon, 02 Dec 2019   Prob (F-statistic):               0.00\n",
            "Time:                        13:21:30   Log-Likelihood:            -2.7330e+05\n",
            "No. Observations:               32291   AIC:                         5.466e+05\n",
            "Df Residuals:                   32274   BIC:                         5.468e+05\n",
            "Df Model:                          16                                         \n",
            "Covariance Type:            nonrobust                                         \n",
            "================================================================================\n",
            "                   coef    std err          t      P>|t|      [0.025      0.975]\n",
            "--------------------------------------------------------------------------------\n",
            "Intercept      641.3136     23.716     27.041      0.000     594.829     687.798\n",
            "C(woj)[T.4]     -0.0676     35.384     -0.002      0.998     -69.421      69.286\n",
            "C(woj)[T.6]     34.9004     34.949      0.999      0.318     -33.600     103.401\n",
            "C(woj)[T.8]    103.3104     45.753      2.258      0.024      13.633     192.988\n",
            "C(woj)[T.10]    28.1188     32.076      0.877      0.381     -34.752      90.990\n",
            "C(woj)[T.12]    85.1683     31.828      2.676      0.007      22.785     147.552\n",
            "C(woj)[T.14]   133.6100     28.162      4.744      0.000      78.411     188.809\n",
            "C(woj)[T.16]    79.6282     44.178      1.802      0.071      -6.962     166.218\n",
            "C(woj)[T.18]   120.0039     36.843      3.257      0.001      47.790     192.218\n",
            "C(woj)[T.20]    91.5159     42.184      2.169      0.030       8.834     174.198\n",
            "C(woj)[T.22]    25.4518     35.143      0.724      0.469     -43.429      94.333\n",
            "C(woj)[T.24]    30.6474     28.367      1.080      0.280     -24.954      86.249\n",
            "C(woj)[T.26]    64.0143     42.081      1.521      0.128     -18.467     146.495\n",
            "C(woj)[T.28]   -47.5907     40.132     -1.186      0.236    -126.252      31.070\n",
            "C(woj)[T.30]   -22.4596     31.475     -0.714      0.476     -84.152      39.233\n",
            "C(woj)[T.32]    88.6582     37.484      2.365      0.018      15.188     162.128\n",
            "dochg            0.6156      0.004    152.122      0.000       0.608       0.624\n",
            "==============================================================================\n",
            "Omnibus:                    35002.774   Durbin-Watson:                   1.933\n",
            "Prob(Omnibus):                  0.000   Jarque-Bera (JB):         17942932.927\n",
            "Skew:                           4.832   Prob(JB):                         0.00\n",
            "Kurtosis:                     118.076   Cond. No.                     3.91e+04\n",
            "==============================================================================\n",
            "\n",
            "Warnings:\n",
            "[1] Standard Errors assume that the covariance matrix of the errors is correctly specified.\n",
            "[2] The condition number is large, 3.91e+04. This might indicate that there are\n",
            "strong multicollinearity or other numerical problems.\n"
          ],
          "name": "stdout"
        }
      ]
    },
    {
      "cell_type": "code",
      "metadata": {
        "id": "MO7nxDWJ0SHP",
        "colab_type": "code",
        "outputId": "5e8f2916-d9eb-4da2-d756-011f2b12a16f",
        "colab": {
          "base_uri": "https://localhost:8080/",
          "height": 843
        }
      },
      "source": [
        "model3=smf.ols(formula = \"wydg ~ dochg + C(woj) + C(klm)\", data = gosp2).fit()\n",
        "print(model3.summary())"
      ],
      "execution_count": 0,
      "outputs": [
        {
          "output_type": "stream",
          "text": [
            "                            OLS Regression Results                            \n",
            "==============================================================================\n",
            "Dep. Variable:                   wydg   R-squared:                       0.427\n",
            "Model:                            OLS   Adj. R-squared:                  0.426\n",
            "Method:                 Least Squares   F-statistic:                     1144.\n",
            "Date:                Mon, 02 Dec 2019   Prob (F-statistic):               0.00\n",
            "Time:                        13:38:42   Log-Likelihood:            -2.7322e+05\n",
            "No. Observations:               32291   AIC:                         5.465e+05\n",
            "Df Residuals:                   32269   BIC:                         5.467e+05\n",
            "Df Model:                          21                                         \n",
            "Covariance Type:            nonrobust                                         \n",
            "================================================================================\n",
            "                   coef    std err          t      P>|t|      [0.025      0.975]\n",
            "--------------------------------------------------------------------------------\n",
            "Intercept      815.5101     29.110     28.015      0.000     758.454     872.566\n",
            "C(woj)[T.4]     35.6192     36.329      0.980      0.327     -35.586     106.825\n",
            "C(woj)[T.6]     90.3400     35.566      2.540      0.011      20.629     160.051\n",
            "C(woj)[T.8]    148.3053     46.184      3.211      0.001      57.783     238.827\n",
            "C(woj)[T.10]     9.1555     32.186      0.284      0.776     -53.930      72.240\n",
            "C(woj)[T.12]    91.0601     31.912      2.853      0.004      28.511     153.609\n",
            "C(woj)[T.14]   112.0653     28.347      3.953      0.000      56.505     167.626\n",
            "C(woj)[T.16]   135.5809     44.431      3.051      0.002      48.494     222.667\n",
            "C(woj)[T.18]   184.5404     37.164      4.966      0.000     111.697     257.384\n",
            "C(woj)[T.20]   134.2037     42.861      3.131      0.002      50.194     218.214\n",
            "C(woj)[T.22]    52.7829     36.433      1.449      0.147     -18.627     124.192\n",
            "C(woj)[T.24]    48.6579     29.690      1.639      0.101      -9.536     106.852\n",
            "C(woj)[T.26]   117.9829     42.564      2.772      0.006      34.556     201.410\n",
            "C(woj)[T.28]     0.1278     40.523      0.003      0.997     -79.299      79.555\n",
            "C(woj)[T.30]    -4.3283     31.462     -0.138      0.891     -65.994      57.337\n",
            "C(woj)[T.32]   122.2787     38.185      3.202      0.001      47.436     197.122\n",
            "C(klm)[T.2]   -132.8319     29.764     -4.463      0.000    -191.170     -74.494\n",
            "C(klm)[T.3]   -157.0804     30.793     -5.101      0.000    -217.436     -96.725\n",
            "C(klm)[T.4]   -172.5382     24.031     -7.180      0.000    -219.640    -125.436\n",
            "C(klm)[T.5]   -209.7453     26.378     -7.952      0.000    -261.447    -158.044\n",
            "C(klm)[T.6]   -264.9595     22.322    -11.870      0.000    -308.712    -221.207\n",
            "dochg            0.6083      0.004    149.144      0.000       0.600       0.616\n",
            "==============================================================================\n",
            "Omnibus:                    35328.961   Durbin-Watson:                   1.941\n",
            "Prob(Omnibus):                  0.000   Jarque-Bera (JB):         17810299.315\n",
            "Skew:                           4.925   Prob(JB):                         0.00\n",
            "Kurtosis:                     117.631   Cond. No.                     3.97e+04\n",
            "==============================================================================\n",
            "\n",
            "Warnings:\n",
            "[1] Standard Errors assume that the covariance matrix of the errors is correctly specified.\n",
            "[2] The condition number is large, 3.97e+04. This might indicate that there are\n",
            "strong multicollinearity or other numerical problems.\n"
          ],
          "name": "stdout"
        }
      ]
    }
  ]
}