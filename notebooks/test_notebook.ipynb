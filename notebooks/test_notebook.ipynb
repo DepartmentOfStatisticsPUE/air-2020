{
  "nbformat": 4,
  "nbformat_minor": 0,
  "metadata": {
    "kernelspec": {
      "display_name": "Python 3",
      "language": "python",
      "name": "python3"
    },
    "language_info": {
      "codemirror_mode": {
        "name": "ipython",
        "version": 3
      },
      "file_extension": ".py",
      "mimetype": "text/x-python",
      "name": "python",
      "nbconvert_exporter": "python",
      "pygments_lexer": "ipython3",
      "version": "3.6.6"
    },
    "colab": {
      "name": "test-notebook.ipynb",
      "version": "0.3.2",
      "provenance": [],
      "include_colab_link": true
    }
  },
  "cells": [
    {
      "cell_type": "markdown",
      "metadata": {
        "id": "view-in-github",
        "colab_type": "text"
      },
      "source": [
        "<a href=\"https://colab.research.google.com/github/DepartmentOfStatisticsPUE/air-2020/blob/master/notebooks/test_notebook.ipynb\" target=\"_parent\"><img src=\"https://colab.research.google.com/assets/colab-badge.svg\" alt=\"Open In Colab\"/></a>"
      ]
    },
    {
      "cell_type": "markdown",
      "metadata": {
        "id": "zjOs0kYFlciw",
        "colab_type": "text"
      },
      "source": [
        "# Introduction to Python programming"
      ]
    },
    {
      "cell_type": "markdown",
      "metadata": {
        "id": "SHlJE3DElciy",
        "colab_type": "text"
      },
      "source": [
        "This notebook has been inspired by lectures available at [http://github.com/jrjohansson/scientific-python-lectures](http://github.com/jrjohansson/scientific-python-lectures)."
      ]
    },
    {
      "cell_type": "markdown",
      "metadata": {
        "id": "izDiqdHElciz",
        "colab_type": "text"
      },
      "source": [
        "## IPython notebooks"
      ]
    },
    {
      "cell_type": "markdown",
      "metadata": {
        "id": "apUX41V4lciz",
        "colab_type": "text"
      },
      "source": [
        "This file - an IPython notebook -  does not follow the standard pattern with Python code in a text file. Instead, an IPython notebook is stored as a file in the [JSON](http://en.wikipedia.org/wiki/JSON) format. The advantage is that we can mix formatted text, Python code and code output. It requires the IPython notebook server to run it though, and therefore isn't a stand-alone Python program as described above. Other than that, there is no difference between the Python code that goes into a program file or an IPython notebook."
      ]
    },
    {
      "cell_type": "markdown",
      "metadata": {
        "id": "DhOq22YKlci0",
        "colab_type": "text"
      },
      "source": [
        "## Variables and types"
      ]
    },
    {
      "cell_type": "markdown",
      "metadata": {
        "id": "ViBJY7dulci0",
        "colab_type": "text"
      },
      "source": [
        "### Symbol names "
      ]
    },
    {
      "cell_type": "markdown",
      "metadata": {
        "id": "skarmccplci1",
        "colab_type": "text"
      },
      "source": [
        "Variable names in Python can contain alphanumerical characters `a-z`, `A-Z`, `0-9` and some special characters such as `_`. Normal variable names must start with a letter. \n",
        "\n",
        "By convention, variable names start with a lower-case letter, and Class names start with a capital letter. \n",
        "\n",
        "In addition, there are a number of Python keywords that cannot be used as variable names. These keywords are:\n",
        "\n",
        "    False, None, True, and, as, assert, break, class, continue,\n",
        "    def, del, elif, else, except, finally, for, from, global,\n",
        "    if, import, in, is, lambda, nonlocal, not, or, pass, raise,\n",
        "    return, try, while, with, yield\n",
        "\n",
        "**Note:** *Be aware of the keyword `lambda`, which could easily be a natural variable name in a scientific program. But being a keyword, it cannot be used as a variable name.*"
      ]
    },
    {
      "cell_type": "markdown",
      "metadata": {
        "id": "o3C9bO7ylci2",
        "colab_type": "text"
      },
      "source": [
        "### Assignment"
      ]
    },
    {
      "cell_type": "markdown",
      "metadata": {
        "id": "oxIvutozlci2",
        "colab_type": "text"
      },
      "source": [
        "\n",
        "\n",
        "The assignment operator in Python is `=`. Python is a dynamically typed language, so we do not need to specify the type of a variable when we create one.\n",
        "\n",
        "Assigning a value to a new variable creates the variable:"
      ]
    },
    {
      "cell_type": "code",
      "metadata": {
        "id": "y04w_GPylci3",
        "colab_type": "code",
        "colab": {}
      },
      "source": [
        "# variable assignments\n",
        "x = 1.0\n",
        "my_variable = 12.2"
      ],
      "execution_count": 0,
      "outputs": []
    },
    {
      "cell_type": "markdown",
      "metadata": {
        "id": "tyb-CIUulci5",
        "colab_type": "text"
      },
      "source": [
        "In Python, multiple assignments can be made in a single statement as follows:"
      ]
    },
    {
      "cell_type": "code",
      "metadata": {
        "id": "idcISZZXlci6",
        "colab_type": "code",
        "colab": {}
      },
      "source": [
        "a, b, c = 5, 3.2, 7"
      ],
      "execution_count": 0,
      "outputs": []
    },
    {
      "cell_type": "markdown",
      "metadata": {
        "id": "AJsUxsu5lci8",
        "colab_type": "text"
      },
      "source": [
        "Although not explicitly specified, a variable does have a type associated with it. The type is derived from the value that was assigned to it."
      ]
    },
    {
      "cell_type": "code",
      "metadata": {
        "id": "FvTxY0A-lci9",
        "colab_type": "code",
        "outputId": "75ed710d-cebf-43d1-ba01-c7c11d5ffec9",
        "colab": {}
      },
      "source": [
        "type(x)"
      ],
      "execution_count": 0,
      "outputs": [
        {
          "output_type": "execute_result",
          "data": {
            "text/plain": [
              "float"
            ]
          },
          "metadata": {
            "tags": []
          },
          "execution_count": 3
        }
      ]
    },
    {
      "cell_type": "markdown",
      "metadata": {
        "id": "v7BlycTulcjA",
        "colab_type": "text"
      },
      "source": [
        "If we assign a new value to a variable, its type can change."
      ]
    },
    {
      "cell_type": "code",
      "metadata": {
        "id": "0pK4tsiLlcjA",
        "colab_type": "code",
        "colab": {}
      },
      "source": [
        "x = 1"
      ],
      "execution_count": 0,
      "outputs": []
    },
    {
      "cell_type": "code",
      "metadata": {
        "id": "_4R0DqLAlcjC",
        "colab_type": "code",
        "outputId": "6be1e732-7d39-45c7-a91d-10d3cb88f9e8",
        "colab": {}
      },
      "source": [
        "type(x)"
      ],
      "execution_count": 0,
      "outputs": [
        {
          "output_type": "execute_result",
          "data": {
            "text/plain": [
              "int"
            ]
          },
          "metadata": {
            "tags": []
          },
          "execution_count": 5
        }
      ]
    },
    {
      "cell_type": "markdown",
      "metadata": {
        "id": "BRPCs1mrlcjE",
        "colab_type": "text"
      },
      "source": [
        "If we try to use a variable that has not yet been defined we get an `NameError`:"
      ]
    },
    {
      "cell_type": "code",
      "metadata": {
        "id": "gGE4QXAClcjF",
        "colab_type": "code",
        "outputId": "f5302b16-627b-46c9-dd24-6b73a3696f3d",
        "colab": {}
      },
      "source": [
        "print(y)"
      ],
      "execution_count": 0,
      "outputs": [
        {
          "output_type": "error",
          "ename": "NameError",
          "evalue": "name 'y' is not defined",
          "traceback": [
            "\u001b[0;31m---------------------------------------------------------------------------\u001b[0m",
            "\u001b[0;31mNameError\u001b[0m                                 Traceback (most recent call last)",
            "\u001b[0;32m<ipython-input-6-d9183e048de3>\u001b[0m in \u001b[0;36m<module>\u001b[0;34m\u001b[0m\n\u001b[0;32m----> 1\u001b[0;31m \u001b[0mprint\u001b[0m\u001b[0;34m(\u001b[0m\u001b[0my\u001b[0m\u001b[0;34m)\u001b[0m\u001b[0;34m\u001b[0m\u001b[0m\n\u001b[0m",
            "\u001b[0;31mNameError\u001b[0m: name 'y' is not defined"
          ]
        }
      ]
    },
    {
      "cell_type": "markdown",
      "metadata": {
        "id": "CD6C2thklcjI",
        "colab_type": "text"
      },
      "source": [
        "### Fundamental types"
      ]
    },
    {
      "cell_type": "code",
      "metadata": {
        "id": "wjQRYo-ZlcjJ",
        "colab_type": "code",
        "outputId": "ef623c0e-1736-4a98-9589-ea0fc1477a51",
        "colab": {}
      },
      "source": [
        "# integers\n",
        "x = 1\n",
        "type(x)"
      ],
      "execution_count": 0,
      "outputs": [
        {
          "output_type": "execute_result",
          "data": {
            "text/plain": [
              "int"
            ]
          },
          "metadata": {
            "tags": []
          },
          "execution_count": 7
        }
      ]
    },
    {
      "cell_type": "code",
      "metadata": {
        "id": "T9Sr4x7ylcjL",
        "colab_type": "code",
        "outputId": "f9d58c63-6a30-4323-d167-2db777b22456",
        "colab": {}
      },
      "source": [
        "# float\n",
        "x = 1.0\n",
        "type(x)"
      ],
      "execution_count": 0,
      "outputs": [
        {
          "output_type": "execute_result",
          "data": {
            "text/plain": [
              "float"
            ]
          },
          "metadata": {
            "tags": []
          },
          "execution_count": 8
        }
      ]
    },
    {
      "cell_type": "code",
      "metadata": {
        "id": "UrZ3gi-SlcjN",
        "colab_type": "code",
        "outputId": "99ef68e3-1ca6-4224-b9b2-292079c9ae7c",
        "colab": {}
      },
      "source": [
        "# boolean\n",
        "b1 = True\n",
        "b2 = False\n",
        "\n",
        "type(b1)"
      ],
      "execution_count": 0,
      "outputs": [
        {
          "output_type": "execute_result",
          "data": {
            "text/plain": [
              "bool"
            ]
          },
          "metadata": {
            "tags": []
          },
          "execution_count": 9
        }
      ]
    },
    {
      "cell_type": "code",
      "metadata": {
        "id": "zp1TwxsWlcjO",
        "colab_type": "code",
        "outputId": "d29fd176-6805-47b6-debb-fe52aa24b18a",
        "colab": {}
      },
      "source": [
        "# complex numbers: note the use of `j` to specify the imaginary part\n",
        "x = 1.0 - 1.0j\n",
        "type(x)"
      ],
      "execution_count": 0,
      "outputs": [
        {
          "output_type": "execute_result",
          "data": {
            "text/plain": [
              "complex"
            ]
          },
          "metadata": {
            "tags": []
          },
          "execution_count": 10
        }
      ]
    },
    {
      "cell_type": "code",
      "metadata": {
        "id": "rDQD9wI-lcjQ",
        "colab_type": "code",
        "outputId": "915e812d-f1aa-44b1-a37a-4c8d3e474bba",
        "colab": {}
      },
      "source": [
        "print(x)"
      ],
      "execution_count": 0,
      "outputs": [
        {
          "output_type": "stream",
          "text": [
            "(1-1j)\n"
          ],
          "name": "stdout"
        }
      ]
    },
    {
      "cell_type": "code",
      "metadata": {
        "id": "utqMJDcLlcjS",
        "colab_type": "code",
        "outputId": "3988df13-8da8-4b4a-dbb7-b84b13f94153",
        "colab": {}
      },
      "source": [
        "print(x.real, x.imag)"
      ],
      "execution_count": 0,
      "outputs": [
        {
          "output_type": "stream",
          "text": [
            "1.0 -1.0\n"
          ],
          "name": "stdout"
        }
      ]
    },
    {
      "cell_type": "markdown",
      "metadata": {
        "id": "eNbzzFB9lcjU",
        "colab_type": "text"
      },
      "source": [
        "### Type utility functions"
      ]
    },
    {
      "cell_type": "code",
      "metadata": {
        "id": "OMVawyvBlcjV",
        "colab_type": "code",
        "outputId": "28fe77cc-daea-4f7c-bf10-8c2aa0e5bb7e",
        "colab": {}
      },
      "source": [
        "x = 1.0\n",
        "\n",
        "# check if the variable x is a float\n",
        "type(x) is float"
      ],
      "execution_count": 0,
      "outputs": [
        {
          "output_type": "execute_result",
          "data": {
            "text/plain": [
              "True"
            ]
          },
          "metadata": {
            "tags": []
          },
          "execution_count": 13
        }
      ]
    },
    {
      "cell_type": "code",
      "metadata": {
        "id": "cNxzW5cLlcjX",
        "colab_type": "code",
        "outputId": "be01b465-84b7-4deb-f204-67509be808c8",
        "colab": {}
      },
      "source": [
        "# check if the variable x is an int\n",
        "type(x) is int"
      ],
      "execution_count": 0,
      "outputs": [
        {
          "output_type": "execute_result",
          "data": {
            "text/plain": [
              "False"
            ]
          },
          "metadata": {
            "tags": []
          },
          "execution_count": 14
        }
      ]
    },
    {
      "cell_type": "markdown",
      "metadata": {
        "id": "kJr2GuTilcjZ",
        "colab_type": "text"
      },
      "source": [
        "We can also use the `isinstance` method for testing types of variables:"
      ]
    },
    {
      "cell_type": "code",
      "metadata": {
        "id": "bzFHfGSglcjZ",
        "colab_type": "code",
        "outputId": "a1a0d0f9-bc40-48a1-804e-b797e1c69266",
        "colab": {}
      },
      "source": [
        "isinstance(x, float)"
      ],
      "execution_count": 0,
      "outputs": [
        {
          "output_type": "execute_result",
          "data": {
            "text/plain": [
              "True"
            ]
          },
          "metadata": {
            "tags": []
          },
          "execution_count": 15
        }
      ]
    },
    {
      "cell_type": "markdown",
      "metadata": {
        "id": "1zgppPiQlcjc",
        "colab_type": "text"
      },
      "source": [
        "### Type casting"
      ]
    },
    {
      "cell_type": "code",
      "metadata": {
        "id": "4kLJ3CChlcjc",
        "colab_type": "code",
        "outputId": "2d269bd8-32db-4d13-94f3-f588d90fc146",
        "colab": {}
      },
      "source": [
        "x = 1.5\n",
        "\n",
        "print(x, type(x))"
      ],
      "execution_count": 0,
      "outputs": [
        {
          "output_type": "stream",
          "text": [
            "1.5 <class 'float'>\n"
          ],
          "name": "stdout"
        }
      ]
    },
    {
      "cell_type": "code",
      "metadata": {
        "id": "pmCgOrDolcjg",
        "colab_type": "code",
        "outputId": "1a204e19-0822-4286-916e-58a219634e72",
        "colab": {}
      },
      "source": [
        "x = int(x)\n",
        "\n",
        "print(x, type(x))"
      ],
      "execution_count": 0,
      "outputs": [
        {
          "output_type": "stream",
          "text": [
            "1 <class 'int'>\n"
          ],
          "name": "stdout"
        }
      ]
    },
    {
      "cell_type": "code",
      "metadata": {
        "id": "f4qOIPfQlcji",
        "colab_type": "code",
        "outputId": "1e1acb62-fce4-40f8-f90f-91327a14ee7c",
        "colab": {}
      },
      "source": [
        "z = complex(x)\n",
        "\n",
        "print(z, type(z))"
      ],
      "execution_count": 0,
      "outputs": [
        {
          "output_type": "stream",
          "text": [
            "(1+0j) <class 'complex'>\n"
          ],
          "name": "stdout"
        }
      ]
    },
    {
      "cell_type": "code",
      "metadata": {
        "id": "RL3Ma6Jflcjl",
        "colab_type": "code",
        "outputId": "17660dce-a481-4e38-b571-eb28aed1bcbe",
        "colab": {}
      },
      "source": [
        "a, b = 3+5j, complex(3, 5)\n",
        "print(a, b)"
      ],
      "execution_count": 0,
      "outputs": [
        {
          "output_type": "stream",
          "text": [
            "(3+5j) (3+5j)\n"
          ],
          "name": "stdout"
        }
      ]
    },
    {
      "cell_type": "code",
      "metadata": {
        "id": "gqudc8oBlcjm",
        "colab_type": "code",
        "outputId": "c3c11d84-080c-4012-f214-2f93071d58bc",
        "colab": {}
      },
      "source": [
        "x = float(z)"
      ],
      "execution_count": 0,
      "outputs": [
        {
          "output_type": "error",
          "ename": "TypeError",
          "evalue": "can't convert complex to float",
          "traceback": [
            "\u001b[0;31m---------------------------------------------------------------------------\u001b[0m",
            "\u001b[0;31mTypeError\u001b[0m                                 Traceback (most recent call last)",
            "\u001b[0;32m<ipython-input-20-19c840f40bd8>\u001b[0m in \u001b[0;36m<module>\u001b[0;34m\u001b[0m\n\u001b[0;32m----> 1\u001b[0;31m \u001b[0mx\u001b[0m \u001b[0;34m=\u001b[0m \u001b[0mfloat\u001b[0m\u001b[0;34m(\u001b[0m\u001b[0mz\u001b[0m\u001b[0;34m)\u001b[0m\u001b[0;34m\u001b[0m\u001b[0m\n\u001b[0m",
            "\u001b[0;31mTypeError\u001b[0m: can't convert complex to float"
          ]
        }
      ]
    },
    {
      "cell_type": "markdown",
      "metadata": {
        "id": "vgMfS9aMlcjo",
        "colab_type": "text"
      },
      "source": [
        "Complex variables cannot be cast to floats or integers. We need to use `z.real` or `z.imag` to extract the part of the complex number we want:"
      ]
    },
    {
      "cell_type": "code",
      "metadata": {
        "id": "y3FdwbPVlcjp",
        "colab_type": "code",
        "outputId": "08b76a97-ad7c-4338-ad7c-6e875c7d4e4e",
        "colab": {}
      },
      "source": [
        "print(z.real, type(z.real))\n",
        "print(z.imag, type(z.imag))"
      ],
      "execution_count": 0,
      "outputs": [
        {
          "output_type": "stream",
          "text": [
            "1.0 <class 'float'>\n",
            "0.0 <class 'float'>\n"
          ],
          "name": "stdout"
        }
      ]
    },
    {
      "cell_type": "markdown",
      "metadata": {
        "id": "_KzS8qZslcjq",
        "colab_type": "text"
      },
      "source": [
        "## Operators and comparisons"
      ]
    },
    {
      "cell_type": "markdown",
      "metadata": {
        "id": "FdWl971Alcjr",
        "colab_type": "text"
      },
      "source": [
        "Most operators and comparisons in Python work as one would expect:\n",
        "\n",
        "* Arithmetic operators `+`, `-`, `*`, `/`, `//` (integer division), '**' power\n"
      ]
    },
    {
      "cell_type": "code",
      "metadata": {
        "id": "nLKTDz8jlcjr",
        "colab_type": "code",
        "outputId": "72746940-b5f4-4c6a-aa89-6fe6e23d7854",
        "colab": {}
      },
      "source": [
        "1 + 2, 1 - 2, 1 * 2, 1 / 2"
      ],
      "execution_count": 0,
      "outputs": [
        {
          "output_type": "execute_result",
          "data": {
            "text/plain": [
              "(3, -1, 2, 0.5)"
            ]
          },
          "metadata": {
            "tags": []
          },
          "execution_count": 22
        }
      ]
    },
    {
      "cell_type": "code",
      "metadata": {
        "id": "6E6hVpzllcjt",
        "colab_type": "code",
        "outputId": "d0812f64-02f6-42a4-f3aa-c185c57197f8",
        "colab": {}
      },
      "source": [
        "1.0 + 2.0, 1.0 - 2.0, 1.0 * 2.0, 1.0 / 2.0"
      ],
      "execution_count": 0,
      "outputs": [
        {
          "output_type": "execute_result",
          "data": {
            "text/plain": [
              "(3.0, -1.0, 2.0, 0.5)"
            ]
          },
          "metadata": {
            "tags": []
          },
          "execution_count": 23
        }
      ]
    },
    {
      "cell_type": "code",
      "metadata": {
        "id": "PrVa-rSxlcju",
        "colab_type": "code",
        "outputId": "2c0f73d0-d8de-4345-d715-85286c66c78a",
        "colab": {}
      },
      "source": [
        "# Integer division of float numbers\n",
        "3.0 // 2.0"
      ],
      "execution_count": 0,
      "outputs": [
        {
          "output_type": "execute_result",
          "data": {
            "text/plain": [
              "1.0"
            ]
          },
          "metadata": {
            "tags": []
          },
          "execution_count": 24
        }
      ]
    },
    {
      "cell_type": "code",
      "metadata": {
        "id": "uZtv1CBClcjw",
        "colab_type": "code",
        "outputId": "91df61ea-4832-41c1-b9ac-dee31548cfe8",
        "colab": {}
      },
      "source": [
        "# Note! The power operators in python isn't ^, but **\n",
        "2 ** 3"
      ],
      "execution_count": 0,
      "outputs": [
        {
          "output_type": "execute_result",
          "data": {
            "text/plain": [
              "8"
            ]
          },
          "metadata": {
            "tags": []
          },
          "execution_count": 25
        }
      ]
    },
    {
      "cell_type": "markdown",
      "metadata": {
        "id": "An0EvWomlcjz",
        "colab_type": "text"
      },
      "source": [
        "**Note**: *The `/` operator always performs a floating point division in Python 3.x.\n",
        "This is not true in Python 2.x, where the result of `/` is always an integer if the operands are integers.\n",
        "to be more specific, `1/2 = 0.5` (`float`) in Python 3.x, and `1/2 = 0` (`int`) in Python 2.x (but `1.0/2 = 0.5` in Python 2.x).*"
      ]
    },
    {
      "cell_type": "markdown",
      "metadata": {
        "id": "Wj9SgAGBlcjz",
        "colab_type": "text"
      },
      "source": [
        "* The boolean operators are spelled out as the words `and`, `not`, `or`. "
      ]
    },
    {
      "cell_type": "code",
      "metadata": {
        "id": "0kjWD2ZSlcj0",
        "colab_type": "code",
        "outputId": "9a470e75-55b6-4fc4-fad8-3c9928c60bfc",
        "colab": {}
      },
      "source": [
        "True and False"
      ],
      "execution_count": 0,
      "outputs": [
        {
          "output_type": "execute_result",
          "data": {
            "text/plain": [
              "False"
            ]
          },
          "metadata": {
            "tags": []
          },
          "execution_count": 26
        }
      ]
    },
    {
      "cell_type": "code",
      "metadata": {
        "id": "UeDTkdB1lcj3",
        "colab_type": "code",
        "outputId": "c53435c6-d560-4ada-8861-e5632697d19a",
        "colab": {}
      },
      "source": [
        "not False"
      ],
      "execution_count": 0,
      "outputs": [
        {
          "output_type": "execute_result",
          "data": {
            "text/plain": [
              "True"
            ]
          },
          "metadata": {
            "tags": []
          },
          "execution_count": 27
        }
      ]
    },
    {
      "cell_type": "code",
      "metadata": {
        "id": "Je6i53uKlcj5",
        "colab_type": "code",
        "outputId": "9b705121-74d5-4e50-e319-47ef0ed34f73",
        "colab": {}
      },
      "source": [
        "True or False"
      ],
      "execution_count": 0,
      "outputs": [
        {
          "output_type": "execute_result",
          "data": {
            "text/plain": [
              "True"
            ]
          },
          "metadata": {
            "tags": []
          },
          "execution_count": 28
        }
      ]
    },
    {
      "cell_type": "markdown",
      "metadata": {
        "id": "F8tbwB0Ilcj8",
        "colab_type": "text"
      },
      "source": [
        "<table>\n",
        "<tr>\n",
        "<td>\n",
        "<table>\n",
        "<tr>\n",
        "<th>expression</th>\n",
        "<th>result</th>\n",
        "</tr>\n",
        "<tr>\n",
        "<td>true <code>and</code> true</td>\n",
        "<td>true</td>\n",
        "</tr>\n",
        "<tr>\n",
        "<td>true <code>and</code> false</td>\n",
        "<td>false</td>\n",
        "</tr>\n",
        "<tr>\n",
        "<td>false <code>and</code> true</td>\n",
        "<td>false</td>\n",
        "</tr>\n",
        "<tr>\n",
        "<td>false <code>and</code> false</td>\n",
        "<td>false</td>\n",
        "</tr>\n",
        "</table>\n",
        "</td>\n",
        "<td>\n",
        "<table>\n",
        "<tr>\n",
        "<th>expression</th>\n",
        "<th>result</th>\n",
        "</tr>\n",
        "<tr>\n",
        "<td><code>not</code> true</td>\n",
        "<td>false</td>\n",
        "</tr>\n",
        "<tr>\n",
        "<td><code>not</code> false</td>\n",
        "<td>true</td>\n",
        "</tr>\n",
        "</table>\n",
        "</td>\n",
        "<td>\n",
        "<table>\n",
        "<tr>\n",
        "<th>expression</th>\n",
        "<th>result</th>\n",
        "</tr>\n",
        "<tr>\n",
        "<td>true <code>or</code> true</td>\n",
        "<td>true</td>\n",
        "</tr>\n",
        "<tr>\n",
        "<td>true <code>or</code> false</td>\n",
        "<td>true</td>\n",
        "</tr>\n",
        "<tr>\n",
        "<td>false <code>or</code> true</td>\n",
        "<td>true</td>\n",
        "</tr>\n",
        "<tr>\n",
        "<td>false <code>or</code> false</td>\n",
        "<td>false</td>\n",
        "</tr>\n",
        "</table>\n",
        "</td>\n",
        "</tr>\n",
        "</table>"
      ]
    },
    {
      "cell_type": "markdown",
      "metadata": {
        "id": "WwZQ9Rqmlcj8",
        "colab_type": "text"
      },
      "source": [
        "* Comparison operators `>`, `<`, `>=` (greater or equal), `<=` (less or equal), `==` equality, `is` identical."
      ]
    },
    {
      "cell_type": "code",
      "metadata": {
        "id": "9HjGlLxwlcj9",
        "colab_type": "code",
        "outputId": "d7661460-8526-4789-c8bc-dadfe88ac458",
        "colab": {}
      },
      "source": [
        "2 > 1, 2 < 1"
      ],
      "execution_count": 0,
      "outputs": [
        {
          "output_type": "execute_result",
          "data": {
            "text/plain": [
              "(True, False)"
            ]
          },
          "metadata": {
            "tags": []
          },
          "execution_count": 29
        }
      ]
    },
    {
      "cell_type": "code",
      "metadata": {
        "id": "ou4YAdBClcj_",
        "colab_type": "code",
        "outputId": "ae7c31eb-a38d-4c1a-89c8-4d686882c0f8",
        "colab": {}
      },
      "source": [
        "2 > 2, 2 < 2"
      ],
      "execution_count": 0,
      "outputs": [
        {
          "output_type": "execute_result",
          "data": {
            "text/plain": [
              "(False, False)"
            ]
          },
          "metadata": {
            "tags": []
          },
          "execution_count": 30
        }
      ]
    },
    {
      "cell_type": "code",
      "metadata": {
        "id": "qaYtkN8OlckB",
        "colab_type": "code",
        "outputId": "d27479ee-3751-4093-d4c8-c9d710e54b8c",
        "colab": {}
      },
      "source": [
        "2 >= 2, 2 <= 2"
      ],
      "execution_count": 0,
      "outputs": [
        {
          "output_type": "execute_result",
          "data": {
            "text/plain": [
              "(True, True)"
            ]
          },
          "metadata": {
            "tags": []
          },
          "execution_count": 31
        }
      ]
    },
    {
      "cell_type": "code",
      "metadata": {
        "id": "FqT9YzN_lckD",
        "colab_type": "code",
        "outputId": "e04569f4-2e10-4701-f0d7-2dc8696629a7",
        "colab": {}
      },
      "source": [
        "# equality\n",
        "[1,2] == [1,2]"
      ],
      "execution_count": 0,
      "outputs": [
        {
          "output_type": "execute_result",
          "data": {
            "text/plain": [
              "True"
            ]
          },
          "metadata": {
            "tags": []
          },
          "execution_count": 32
        }
      ]
    },
    {
      "cell_type": "code",
      "metadata": {
        "id": "GkP8paGnlckF",
        "colab_type": "code",
        "outputId": "537ca6e1-743b-496b-b914-d6977a6b00cb",
        "colab": {}
      },
      "source": [
        "# objects identical?\n",
        "l1 = l2 = [1,2]\n",
        "\n",
        "l1 is l2"
      ],
      "execution_count": 0,
      "outputs": [
        {
          "output_type": "execute_result",
          "data": {
            "text/plain": [
              "True"
            ]
          },
          "metadata": {
            "tags": []
          },
          "execution_count": 33
        }
      ]
    },
    {
      "cell_type": "markdown",
      "metadata": {
        "id": "oNamCMablckG",
        "colab_type": "text"
      },
      "source": [
        "<table><thead>\n",
        "<tr>\n",
        "<th style=\"text-align: center\">Operator</th>\n",
        "<th>What it means</th>\n",
        "</tr>\n",
        "</thead><tbody>\n",
        "<tr>\n",
        "<td style=\"text-align: center\">==</td>\n",
        "<td>Equal to</td>\n",
        "</tr>\n",
        "<tr>\n",
        "<td style=\"text-align: center\">!=</td>\n",
        "<td>Not equal to</td>\n",
        "</tr>\n",
        "<tr>\n",
        "<td style=\"text-align: center\">&lt;</td>\n",
        "<td>Less than</td>\n",
        "</tr>\n",
        "<tr>\n",
        "<td style=\"text-align: center\">&gt;</td>\n",
        "<td>Greater than</td>\n",
        "</tr>\n",
        "<tr>\n",
        "<td style=\"text-align: center\">&lt;=</td>\n",
        "<td>Less than or equal to</td>\n",
        "</tr>\n",
        "<tr>\n",
        "<td style=\"text-align: center\">&gt;=</td>\n",
        "<td>Greater than or equal to</td>\n",
        "</tr>\n",
        "</tbody></table>"
      ]
    },
    {
      "cell_type": "markdown",
      "metadata": {
        "id": "w64bHgVUlckH",
        "colab_type": "text"
      },
      "source": [
        "## Compound types: Strings, List and dictionaries"
      ]
    },
    {
      "cell_type": "markdown",
      "metadata": {
        "id": "1rZDAal_lckI",
        "colab_type": "text"
      },
      "source": [
        "### Strings"
      ]
    },
    {
      "cell_type": "markdown",
      "metadata": {
        "id": "pfQlbb4jlckI",
        "colab_type": "text"
      },
      "source": [
        "Strings are the variable type that is used for storing text messages. "
      ]
    },
    {
      "cell_type": "code",
      "metadata": {
        "id": "JhhnfKSYlckJ",
        "colab_type": "code",
        "outputId": "41cfab0a-d353-4127-c78f-c7e8f3dbda07",
        "colab": {}
      },
      "source": [
        "s = \"Hello world\"\n",
        "type(s)"
      ],
      "execution_count": 0,
      "outputs": [
        {
          "output_type": "execute_result",
          "data": {
            "text/plain": [
              "str"
            ]
          },
          "metadata": {
            "tags": []
          },
          "execution_count": 34
        }
      ]
    },
    {
      "cell_type": "code",
      "metadata": {
        "id": "QhIGdQlblckL",
        "colab_type": "code",
        "outputId": "d2cd9239-6313-4251-fd56-e3dc315aacb7",
        "colab": {}
      },
      "source": [
        "# length of the string: the number of characters\n",
        "len(s)"
      ],
      "execution_count": 0,
      "outputs": [
        {
          "output_type": "execute_result",
          "data": {
            "text/plain": [
              "11"
            ]
          },
          "metadata": {
            "tags": []
          },
          "execution_count": 35
        }
      ]
    },
    {
      "cell_type": "code",
      "metadata": {
        "id": "Xunnb65KlckP",
        "colab_type": "code",
        "outputId": "3680f279-d4ac-459f-e612-c7bbaa542ffd",
        "colab": {}
      },
      "source": [
        "# replace a substring in a string with something else\n",
        "s2 = s.replace(\"world\", \"test\")\n",
        "print(s2)"
      ],
      "execution_count": 0,
      "outputs": [
        {
          "output_type": "stream",
          "text": [
            "Hello test\n"
          ],
          "name": "stdout"
        }
      ]
    },
    {
      "cell_type": "markdown",
      "metadata": {
        "id": "A6mF_Y6KlckS",
        "colab_type": "text"
      },
      "source": [
        "We can index a character in a string using `[]`:"
      ]
    },
    {
      "cell_type": "code",
      "metadata": {
        "id": "J31n6iDYlckS",
        "colab_type": "code",
        "outputId": "85ce14a2-770b-431b-90e2-b8c078d1b7b0",
        "colab": {}
      },
      "source": [
        "s[0]"
      ],
      "execution_count": 0,
      "outputs": [
        {
          "output_type": "execute_result",
          "data": {
            "text/plain": [
              "'H'"
            ]
          },
          "metadata": {
            "tags": []
          },
          "execution_count": 37
        }
      ]
    },
    {
      "cell_type": "markdown",
      "metadata": {
        "id": "lDlxfXz6lckU",
        "colab_type": "text"
      },
      "source": [
        "**Heads up MATLAB users:** Indexing start at 0!\n",
        "\n",
        "We can extract a part of a string using the syntax `[start:stop]`, which extracts characters between index `start` and `stop` -1 (the character at index `stop` is not included):"
      ]
    },
    {
      "cell_type": "code",
      "metadata": {
        "id": "sapHw5rYlckV",
        "colab_type": "code",
        "outputId": "ec663bb0-47d9-4785-ea25-80dd5852b911",
        "colab": {}
      },
      "source": [
        "s[0:5]"
      ],
      "execution_count": 0,
      "outputs": [
        {
          "output_type": "execute_result",
          "data": {
            "text/plain": [
              "'Hello'"
            ]
          },
          "metadata": {
            "tags": []
          },
          "execution_count": 38
        }
      ]
    },
    {
      "cell_type": "code",
      "metadata": {
        "id": "QEhWOSkSlckW",
        "colab_type": "code",
        "outputId": "f2888c51-55f9-4fae-9dd4-17cd9665532c",
        "colab": {}
      },
      "source": [
        "s[4:5]"
      ],
      "execution_count": 0,
      "outputs": [
        {
          "output_type": "execute_result",
          "data": {
            "text/plain": [
              "'o'"
            ]
          },
          "metadata": {
            "tags": []
          },
          "execution_count": 39
        }
      ]
    },
    {
      "cell_type": "markdown",
      "metadata": {
        "id": "vTm2KnoxlckZ",
        "colab_type": "text"
      },
      "source": [
        "If we omit either (or both) of `start` or `stop` from `[start:stop]`, the default is the beginning and the end of the string, respectively:"
      ]
    },
    {
      "cell_type": "code",
      "metadata": {
        "id": "OhLHc4dxlcka",
        "colab_type": "code",
        "outputId": "8830b5ee-7f87-4989-a24a-b5c7dc9e25e8",
        "colab": {}
      },
      "source": [
        "s[:5]"
      ],
      "execution_count": 0,
      "outputs": [
        {
          "output_type": "execute_result",
          "data": {
            "text/plain": [
              "'Hello'"
            ]
          },
          "metadata": {
            "tags": []
          },
          "execution_count": 40
        }
      ]
    },
    {
      "cell_type": "code",
      "metadata": {
        "id": "BSvUEMO-lckb",
        "colab_type": "code",
        "outputId": "206c291a-0152-4c32-81df-c1cf5d56cc32",
        "colab": {}
      },
      "source": [
        "s[6:]"
      ],
      "execution_count": 0,
      "outputs": [
        {
          "output_type": "execute_result",
          "data": {
            "text/plain": [
              "'world'"
            ]
          },
          "metadata": {
            "tags": []
          },
          "execution_count": 41
        }
      ]
    },
    {
      "cell_type": "code",
      "metadata": {
        "id": "qRzxRRVvlckd",
        "colab_type": "code",
        "outputId": "52c9fa15-6345-481f-8ae7-80cb8ec89b4d",
        "colab": {}
      },
      "source": [
        "s[:]"
      ],
      "execution_count": 0,
      "outputs": [
        {
          "output_type": "execute_result",
          "data": {
            "text/plain": [
              "'Hello world'"
            ]
          },
          "metadata": {
            "tags": []
          },
          "execution_count": 42
        }
      ]
    },
    {
      "cell_type": "markdown",
      "metadata": {
        "id": "4k1DMEGElcke",
        "colab_type": "text"
      },
      "source": [
        "We can also define the step size using the syntax `[start:end:step]` (the default value for `step` is 1, as we saw above):"
      ]
    },
    {
      "cell_type": "code",
      "metadata": {
        "id": "3sG5lzXdlckf",
        "colab_type": "code",
        "outputId": "164c3d4f-cf8f-4584-d78b-280f62f73fb0",
        "colab": {}
      },
      "source": [
        "s[::1]"
      ],
      "execution_count": 0,
      "outputs": [
        {
          "output_type": "execute_result",
          "data": {
            "text/plain": [
              "'Hello world'"
            ]
          },
          "metadata": {
            "tags": []
          },
          "execution_count": 43
        }
      ]
    },
    {
      "cell_type": "code",
      "metadata": {
        "id": "Vww497nvlckg",
        "colab_type": "code",
        "outputId": "84bdd3f2-8d0c-4a65-c0a8-ebc8e67b1a78",
        "colab": {}
      },
      "source": [
        "s[::2]"
      ],
      "execution_count": 0,
      "outputs": [
        {
          "output_type": "execute_result",
          "data": {
            "text/plain": [
              "'Hlowrd'"
            ]
          },
          "metadata": {
            "tags": []
          },
          "execution_count": 44
        }
      ]
    },
    {
      "cell_type": "markdown",
      "metadata": {
        "id": "LYRD1Cialcki",
        "colab_type": "text"
      },
      "source": [
        "This technique is called *slicing*. Read more about the syntax here: https://docs.python.org/3/library/functions.html#slice"
      ]
    },
    {
      "cell_type": "markdown",
      "metadata": {
        "id": "nC4i3oDslcki",
        "colab_type": "text"
      },
      "source": [
        "Python has a very rich set of functions for text processing. See for example https://docs.python.org/3/library/string.html for more information."
      ]
    },
    {
      "cell_type": "markdown",
      "metadata": {
        "id": "RQiOoJ_nlckj",
        "colab_type": "text"
      },
      "source": [
        "#### String formatting examples"
      ]
    },
    {
      "cell_type": "code",
      "metadata": {
        "id": "f_6OViV-lckj",
        "colab_type": "code",
        "outputId": "337382af-dab9-4326-cf2a-911c1b614f92",
        "colab": {}
      },
      "source": [
        "print(\"str1\", \"str2\", \"str3\")  # The print statement concatenates strings with a space"
      ],
      "execution_count": 0,
      "outputs": [
        {
          "output_type": "stream",
          "text": [
            "str1 str2 str3\n"
          ],
          "name": "stdout"
        }
      ]
    },
    {
      "cell_type": "code",
      "metadata": {
        "id": "uV3Zik25lckl",
        "colab_type": "code",
        "outputId": "56f388e1-5696-4a12-fe0d-320b23487f22",
        "colab": {}
      },
      "source": [
        "print(\"str1\", 1.0, False, -1j)  # The print statements converts all arguments to strings"
      ],
      "execution_count": 0,
      "outputs": [
        {
          "output_type": "stream",
          "text": [
            "str1 1.0 False (-0-1j)\n"
          ],
          "name": "stdout"
        }
      ]
    },
    {
      "cell_type": "code",
      "metadata": {
        "id": "Ih9U9yaDlckq",
        "colab_type": "code",
        "outputId": "704266a1-2b9a-464a-8cb6-47d2dc694564",
        "colab": {}
      },
      "source": [
        "print(\"str1\" + \"str2\" + \"str3\") # strings added with + are concatenated without space"
      ],
      "execution_count": 0,
      "outputs": [
        {
          "output_type": "stream",
          "text": [
            "str1str2str3\n"
          ],
          "name": "stdout"
        }
      ]
    },
    {
      "cell_type": "code",
      "metadata": {
        "id": "7GqZXsnVlckt",
        "colab_type": "code",
        "outputId": "d647cd29-4aa5-483b-ebc5-854b23f6355c",
        "colab": {}
      },
      "source": [
        "print(\"value = %f\" % 1.0)       # we can use C-style string formatting"
      ],
      "execution_count": 0,
      "outputs": [
        {
          "output_type": "stream",
          "text": [
            "value = 1.000000\n"
          ],
          "name": "stdout"
        }
      ]
    },
    {
      "cell_type": "code",
      "metadata": {
        "id": "tYBlIM0zlcku",
        "colab_type": "code",
        "outputId": "00ba1946-ab1a-4ff3-a9b4-0a12d8fb24ea",
        "colab": {}
      },
      "source": [
        "# this formatting creates a string\n",
        "s2 = \"value1 = %.2f. value2 = %d\" % (3.1415, 1.5)\n",
        "\n",
        "print(s2)"
      ],
      "execution_count": 0,
      "outputs": [
        {
          "output_type": "stream",
          "text": [
            "value1 = 3.14. value2 = 1\n"
          ],
          "name": "stdout"
        }
      ]
    },
    {
      "cell_type": "code",
      "metadata": {
        "id": "HApHIhKMlckw",
        "colab_type": "code",
        "outputId": "9213f570-1e3b-4862-926c-67c28ce8f131",
        "colab": {}
      },
      "source": [
        "# alternative, more intuitive way of formatting a string \n",
        "s3 = 'value1 = {0}, value2 = {1}'.format(3.1415, 1.5)\n",
        "\n",
        "print(s3)"
      ],
      "execution_count": 0,
      "outputs": [
        {
          "output_type": "stream",
          "text": [
            "value1 = 3.1415, value2 = 1.5\n"
          ],
          "name": "stdout"
        }
      ]
    },
    {
      "cell_type": "markdown",
      "metadata": {
        "id": "mJ5x9MO0lckx",
        "colab_type": "text"
      },
      "source": [
        "Python3.6 introduced a new string formatting mechanism known as *Literal String Interpolation* or more commonly as *F-strings* (because of the leading f character preceding the string literal)."
      ]
    },
    {
      "cell_type": "code",
      "metadata": {
        "id": "11sgq9aXlckx",
        "colab_type": "code",
        "outputId": "cd2e9e1d-cf48-43f6-f642-052929847bc5",
        "colab": {}
      },
      "source": [
        "name = \"Eric\"\n",
        "points = 74\n",
        "\n",
        "print(f'Hello, {name}. You have {points} points from the last test.')"
      ],
      "execution_count": 0,
      "outputs": [
        {
          "output_type": "stream",
          "text": [
            "Hello, Eric. You have 74 points from the last test.\n"
          ],
          "name": "stdout"
        }
      ]
    },
    {
      "cell_type": "markdown",
      "metadata": {
        "id": "7CTdiTB9lckz",
        "colab_type": "text"
      },
      "source": [
        "### List"
      ]
    },
    {
      "cell_type": "markdown",
      "metadata": {
        "id": "stWpUfbYlckz",
        "colab_type": "text"
      },
      "source": [
        "Lists are very similar to strings, except that each element can be of any type.\n",
        "\n",
        "The syntax for creating lists in Python is `[...]`:"
      ]
    },
    {
      "cell_type": "code",
      "metadata": {
        "id": "0SsOK8Gplck0",
        "colab_type": "code",
        "outputId": "a968909b-a8d2-49d2-b18c-aa0ddef16ee2",
        "colab": {}
      },
      "source": [
        "l = [1,2,3,4]\n",
        "\n",
        "print(type(l))\n",
        "print(l)"
      ],
      "execution_count": 0,
      "outputs": [
        {
          "output_type": "stream",
          "text": [
            "<class 'list'>\n",
            "[1, 2, 3, 4]\n"
          ],
          "name": "stdout"
        }
      ]
    },
    {
      "cell_type": "markdown",
      "metadata": {
        "id": "0R9OHzCMlck2",
        "colab_type": "text"
      },
      "source": [
        "We can use the same slicing techniques to manipulate lists as we could use on strings:"
      ]
    },
    {
      "cell_type": "code",
      "metadata": {
        "id": "MgroRmpylck2",
        "colab_type": "code",
        "outputId": "5a002227-3366-471b-eb9f-8299b73ab2dc",
        "colab": {}
      },
      "source": [
        "print(l)\n",
        "print(l[1:3])\n",
        "print(l[::2])"
      ],
      "execution_count": 0,
      "outputs": [
        {
          "output_type": "stream",
          "text": [
            "[1, 2, 3, 4]\n",
            "[2, 3]\n",
            "[1, 3]\n"
          ],
          "name": "stdout"
        }
      ]
    },
    {
      "cell_type": "markdown",
      "metadata": {
        "id": "w4yMhpG-lck4",
        "colab_type": "text"
      },
      "source": [
        "**Heads up MATLAB users:** Indexing starts at 0!"
      ]
    },
    {
      "cell_type": "code",
      "metadata": {
        "id": "4NvQQtB5lck4",
        "colab_type": "code",
        "outputId": "66e1d4ac-1920-40ba-a1e6-1a49f8758174",
        "colab": {}
      },
      "source": [
        "l[0]"
      ],
      "execution_count": 0,
      "outputs": [
        {
          "output_type": "execute_result",
          "data": {
            "text/plain": [
              "1"
            ]
          },
          "metadata": {
            "tags": []
          },
          "execution_count": 54
        }
      ]
    },
    {
      "cell_type": "markdown",
      "metadata": {
        "id": "iuMD2TQYlck6",
        "colab_type": "text"
      },
      "source": [
        "Elements in a list do not all have to be of the same type:"
      ]
    },
    {
      "cell_type": "code",
      "metadata": {
        "id": "sCB1qzUYlck6",
        "colab_type": "code",
        "outputId": "c0892ced-76e2-4ee4-8587-023f0ffb7ab0",
        "colab": {}
      },
      "source": [
        "l = [1, 'a', 1.0, 1-1j]\n",
        "\n",
        "print(l)"
      ],
      "execution_count": 0,
      "outputs": [
        {
          "output_type": "stream",
          "text": [
            "[1, 'a', 1.0, (1-1j)]\n"
          ],
          "name": "stdout"
        }
      ]
    },
    {
      "cell_type": "markdown",
      "metadata": {
        "id": "GO5mR3_Zlck9",
        "colab_type": "text"
      },
      "source": [
        "Python lists can be inhomogeneous and arbitrarily nested:"
      ]
    },
    {
      "cell_type": "code",
      "metadata": {
        "id": "c7z7lsUxlck9",
        "colab_type": "code",
        "outputId": "0621f56e-b7b3-4680-abac-8addfce945fc",
        "colab": {}
      },
      "source": [
        "nested_list = [1, [2, [3, [4, [5]]]]]\n",
        "\n",
        "nested_list"
      ],
      "execution_count": 0,
      "outputs": [
        {
          "output_type": "execute_result",
          "data": {
            "text/plain": [
              "[1, [2, [3, [4, [5]]]]]"
            ]
          },
          "metadata": {
            "tags": []
          },
          "execution_count": 56
        }
      ]
    },
    {
      "cell_type": "markdown",
      "metadata": {
        "id": "eQtTfJgWlck-",
        "colab_type": "text"
      },
      "source": [
        "Lists play a very important role in Python. For example they are used in loops and other flow control structures (discussed below). There are a number of convenient functions for generating lists of various types, for example the `range` function generates an interator, which can be converted to a list using 'list(...)'."
      ]
    },
    {
      "cell_type": "code",
      "metadata": {
        "id": "ipafme2Mlck_",
        "colab_type": "code",
        "outputId": "14ae3c36-4a36-4a8c-9ccb-78ffdc1873b6",
        "colab": {}
      },
      "source": [
        "start = 10\n",
        "stop = 30\n",
        "step = 2\n",
        "\n",
        "print(range(start, stop, step), list(range(start, stop, step)))"
      ],
      "execution_count": 0,
      "outputs": [
        {
          "output_type": "stream",
          "text": [
            "range(10, 30, 2) [10, 12, 14, 16, 18, 20, 22, 24, 26, 28]\n"
          ],
          "name": "stdout"
        }
      ]
    },
    {
      "cell_type": "code",
      "metadata": {
        "id": "BX91BvfMlclA",
        "colab_type": "code",
        "outputId": "49820bfa-64de-47e8-dc84-fc1fe512c03e",
        "colab": {}
      },
      "source": [
        "list(range(-10, 10))"
      ],
      "execution_count": 0,
      "outputs": [
        {
          "output_type": "execute_result",
          "data": {
            "text/plain": [
              "[-10, -9, -8, -7, -6, -5, -4, -3, -2, -1, 0, 1, 2, 3, 4, 5, 6, 7, 8, 9]"
            ]
          },
          "metadata": {
            "tags": []
          },
          "execution_count": 58
        }
      ]
    },
    {
      "cell_type": "code",
      "metadata": {
        "id": "_RYju2WolclC",
        "colab_type": "code",
        "outputId": "0437a476-0407-4299-8aab-4fe2ff139ca5",
        "colab": {}
      },
      "source": [
        "s"
      ],
      "execution_count": 0,
      "outputs": [
        {
          "output_type": "execute_result",
          "data": {
            "text/plain": [
              "'Hello world'"
            ]
          },
          "metadata": {
            "tags": []
          },
          "execution_count": 59
        }
      ]
    },
    {
      "cell_type": "code",
      "metadata": {
        "id": "rAt1iBh_lclD",
        "colab_type": "code",
        "outputId": "84152792-967d-473b-e827-b821c6db3b81",
        "colab": {}
      },
      "source": [
        "# convert a string to a list by type casting:\n",
        "s2 = list(s)\n",
        "\n",
        "s2"
      ],
      "execution_count": 0,
      "outputs": [
        {
          "output_type": "execute_result",
          "data": {
            "text/plain": [
              "['H', 'e', 'l', 'l', 'o', ' ', 'w', 'o', 'r', 'l', 'd']"
            ]
          },
          "metadata": {
            "tags": []
          },
          "execution_count": 60
        }
      ]
    },
    {
      "cell_type": "code",
      "metadata": {
        "id": "m-_CTy-XlclE",
        "colab_type": "code",
        "outputId": "5320d508-3734-4f20-a65f-4f61146fbe79",
        "colab": {}
      },
      "source": [
        "# sorting lists\n",
        "s2.sort()\n",
        "\n",
        "print(s2)"
      ],
      "execution_count": 0,
      "outputs": [
        {
          "output_type": "stream",
          "text": [
            "[' ', 'H', 'd', 'e', 'l', 'l', 'l', 'o', 'o', 'r', 'w']\n"
          ],
          "name": "stdout"
        }
      ]
    },
    {
      "cell_type": "markdown",
      "metadata": {
        "id": "VFPPk0wFlclG",
        "colab_type": "text"
      },
      "source": [
        "#### Adding, inserting, modifying, and removing elements from lists"
      ]
    },
    {
      "cell_type": "code",
      "metadata": {
        "id": "2XX8iYtClclG",
        "colab_type": "code",
        "outputId": "d918505c-b452-441d-9ad8-7c11f2d7bd10",
        "colab": {}
      },
      "source": [
        "# create a new empty list\n",
        "l = []\n",
        "\n",
        "# add an elements using `append`\n",
        "l.append(\"A\")\n",
        "l.append(\"d\")\n",
        "l.append(\"d\")\n",
        "\n",
        "print(l)"
      ],
      "execution_count": 0,
      "outputs": [
        {
          "output_type": "stream",
          "text": [
            "['A', 'd', 'd']\n"
          ],
          "name": "stdout"
        }
      ]
    },
    {
      "cell_type": "markdown",
      "metadata": {
        "id": "eBEU4m4FlclH",
        "colab_type": "text"
      },
      "source": [
        "We can modify lists by assigning new values to elements in the list. In technical jargon, lists are *mutable*."
      ]
    },
    {
      "cell_type": "code",
      "metadata": {
        "id": "j1Pe9m3QlclK",
        "colab_type": "code",
        "outputId": "1f8c2b31-1e17-42dd-bbd0-f08ae27c1aa8",
        "colab": {}
      },
      "source": [
        "l[1] = \"p\"\n",
        "l[2] = \"p\"\n",
        "\n",
        "print(l)"
      ],
      "execution_count": 0,
      "outputs": [
        {
          "output_type": "stream",
          "text": [
            "['A', 'p', 'p']\n"
          ],
          "name": "stdout"
        }
      ]
    },
    {
      "cell_type": "code",
      "metadata": {
        "id": "rMfFogzIlclM",
        "colab_type": "code",
        "outputId": "529dea54-a67d-4697-e34f-0d5b5ae02cbd",
        "colab": {}
      },
      "source": [
        "l[1:3] = [\"d\", \"d\"]\n",
        "\n",
        "print(l)"
      ],
      "execution_count": 0,
      "outputs": [
        {
          "output_type": "stream",
          "text": [
            "['A', 'd', 'd']\n"
          ],
          "name": "stdout"
        }
      ]
    },
    {
      "cell_type": "markdown",
      "metadata": {
        "id": "4tP6ZsH_lclN",
        "colab_type": "text"
      },
      "source": [
        "Insert an element at an specific index using `insert`"
      ]
    },
    {
      "cell_type": "code",
      "metadata": {
        "id": "ez5fR75ulclN",
        "colab_type": "code",
        "outputId": "322deee0-243f-4af8-887b-c51a7ab99fb4",
        "colab": {}
      },
      "source": [
        "l.insert(0, \"k\")\n",
        "l.insert(0, \"c\")\n",
        "l.insert(0, \"a\")\n",
        "l.insert(0, \"B\")\n",
        "\n",
        "print(l)"
      ],
      "execution_count": 0,
      "outputs": [
        {
          "output_type": "stream",
          "text": [
            "['B', 'a', 'c', 'k', 'A', 'd', 'd']\n"
          ],
          "name": "stdout"
        }
      ]
    },
    {
      "cell_type": "markdown",
      "metadata": {
        "id": "hW9Ni_g0lclO",
        "colab_type": "text"
      },
      "source": [
        "Remove first element with specific value using 'remove'"
      ]
    },
    {
      "cell_type": "code",
      "metadata": {
        "id": "bXP-qzv5lclO",
        "colab_type": "code",
        "outputId": "0175ccc4-34e0-40b3-d16a-f6c61a62e7d1",
        "colab": {}
      },
      "source": [
        "l.remove(\"A\")\n",
        "\n",
        "print(l)"
      ],
      "execution_count": 0,
      "outputs": [
        {
          "output_type": "stream",
          "text": [
            "['B', 'a', 'c', 'k', 'd', 'd']\n"
          ],
          "name": "stdout"
        }
      ]
    },
    {
      "cell_type": "markdown",
      "metadata": {
        "id": "gbjbXNdmlclQ",
        "colab_type": "text"
      },
      "source": [
        "Remove an element at a specific location using `del`:"
      ]
    },
    {
      "cell_type": "code",
      "metadata": {
        "id": "pA9EkRfKlclQ",
        "colab_type": "code",
        "outputId": "e8d17b37-6c6e-43ce-9923-1b6b7669c00f",
        "colab": {}
      },
      "source": [
        "del l[5]\n",
        "del l[4]\n",
        "\n",
        "print(l)"
      ],
      "execution_count": 0,
      "outputs": [
        {
          "output_type": "stream",
          "text": [
            "['B', 'a', 'c', 'k']\n"
          ],
          "name": "stdout"
        }
      ]
    },
    {
      "cell_type": "markdown",
      "metadata": {
        "id": "NyreFCvilclT",
        "colab_type": "text"
      },
      "source": [
        "See `help(list)` for more details, or read the online documentation "
      ]
    },
    {
      "cell_type": "markdown",
      "metadata": {
        "id": "h4oXZ2uFlclT",
        "colab_type": "text"
      },
      "source": [
        "### Tuples"
      ]
    },
    {
      "cell_type": "markdown",
      "metadata": {
        "id": "SEyz2mhYlclT",
        "colab_type": "text"
      },
      "source": [
        "Tuples are like lists, except that they cannot be modified once created, that is they are *immutable*. \n",
        "\n",
        "In Python, tuples are created using the syntax `(..., ..., ...)`, or even `..., ...`:"
      ]
    },
    {
      "cell_type": "code",
      "metadata": {
        "id": "J0m5JKn_lclU",
        "colab_type": "code",
        "outputId": "610530c1-c89f-4d32-ed0d-5ae9518c0f60",
        "colab": {}
      },
      "source": [
        "point = (10, 20)\n",
        "\n",
        "print(point, type(point))"
      ],
      "execution_count": 0,
      "outputs": [
        {
          "output_type": "stream",
          "text": [
            "(10, 20) <class 'tuple'>\n"
          ],
          "name": "stdout"
        }
      ]
    },
    {
      "cell_type": "code",
      "metadata": {
        "id": "_EswnGGHlclV",
        "colab_type": "code",
        "outputId": "dda71b15-69b1-46c7-9a94-8c4423de4be5",
        "colab": {}
      },
      "source": [
        "point = 10, 20\n",
        "\n",
        "print(point, type(point))"
      ],
      "execution_count": 0,
      "outputs": [
        {
          "output_type": "stream",
          "text": [
            "(10, 20) <class 'tuple'>\n"
          ],
          "name": "stdout"
        }
      ]
    },
    {
      "cell_type": "markdown",
      "metadata": {
        "id": "V4oJAOQdlclX",
        "colab_type": "text"
      },
      "source": [
        "We can unpack a tuple by assigning it to a comma-separated list of variables:"
      ]
    },
    {
      "cell_type": "code",
      "metadata": {
        "id": "qMkLLtSSlclX",
        "colab_type": "code",
        "outputId": "f31df80b-146b-4aee-8c07-9dcd816c79b6",
        "colab": {}
      },
      "source": [
        "x, y = point\n",
        "\n",
        "print(\"x =\", x)\n",
        "print(\"y =\", y)"
      ],
      "execution_count": 0,
      "outputs": [
        {
          "output_type": "stream",
          "text": [
            "x = 10\n",
            "y = 20\n"
          ],
          "name": "stdout"
        }
      ]
    },
    {
      "cell_type": "markdown",
      "metadata": {
        "id": "2L02iE7RlclY",
        "colab_type": "text"
      },
      "source": [
        "If we try to assign a new value to an element in a tuple we get an error:"
      ]
    },
    {
      "cell_type": "code",
      "metadata": {
        "id": "3IAB7xVKlclZ",
        "colab_type": "code",
        "outputId": "364bb2e4-7b2b-4869-cf4b-23c90fb6ae3d",
        "colab": {}
      },
      "source": [
        "point[0] = 20"
      ],
      "execution_count": 0,
      "outputs": [
        {
          "output_type": "error",
          "ename": "TypeError",
          "evalue": "'tuple' object does not support item assignment",
          "traceback": [
            "\u001b[0;31m---------------------------------------------------------------------------\u001b[0m",
            "\u001b[0;31mTypeError\u001b[0m                                 Traceback (most recent call last)",
            "\u001b[0;32m<ipython-input-71-9734b1daa940>\u001b[0m in \u001b[0;36m<module>\u001b[0;34m\u001b[0m\n\u001b[0;32m----> 1\u001b[0;31m \u001b[0mpoint\u001b[0m\u001b[0;34m[\u001b[0m\u001b[0;36m0\u001b[0m\u001b[0;34m]\u001b[0m \u001b[0;34m=\u001b[0m \u001b[0;36m20\u001b[0m\u001b[0;34m\u001b[0m\u001b[0m\n\u001b[0m",
            "\u001b[0;31mTypeError\u001b[0m: 'tuple' object does not support item assignment"
          ]
        }
      ]
    },
    {
      "cell_type": "markdown",
      "metadata": {
        "id": "EiUUEQbblcla",
        "colab_type": "text"
      },
      "source": [
        "### Dictionaries"
      ]
    },
    {
      "cell_type": "markdown",
      "metadata": {
        "id": "hYdpLiPmlcla",
        "colab_type": "text"
      },
      "source": [
        "Dictionaries are also like lists, except that each element is a key-value pair. The syntax for dictionaries is `{key1 : value1, ...}`:"
      ]
    },
    {
      "cell_type": "code",
      "metadata": {
        "id": "V2QIWIUPlcla",
        "colab_type": "code",
        "outputId": "7102c1e1-2990-4270-cdb2-e8737d2ee0c9",
        "colab": {}
      },
      "source": [
        "params = {\"parameter1\" : 1.0,\n",
        "          \"parameter2\" : 2.0,\n",
        "          \"parameter3\" : 3.0,}\n",
        "\n",
        "print(type(params))\n",
        "print(params)"
      ],
      "execution_count": 0,
      "outputs": [
        {
          "output_type": "stream",
          "text": [
            "<class 'dict'>\n",
            "{'parameter1': 1.0, 'parameter2': 2.0, 'parameter3': 3.0}\n"
          ],
          "name": "stdout"
        }
      ]
    },
    {
      "cell_type": "code",
      "metadata": {
        "id": "sTcf4Ncqlclc",
        "colab_type": "code",
        "outputId": "5c0f59f6-9040-4e20-9cbc-12f4d9fafbde",
        "colab": {}
      },
      "source": [
        "print(\"parameter1 = \" + str(params[\"parameter1\"]))\n",
        "print(\"parameter2 = \" + str(params[\"parameter2\"]))\n",
        "print(\"parameter3 = \" + str(params[\"parameter3\"]))"
      ],
      "execution_count": 0,
      "outputs": [
        {
          "output_type": "stream",
          "text": [
            "parameter1 = 1.0\n",
            "parameter2 = 2.0\n",
            "parameter3 = 3.0\n"
          ],
          "name": "stdout"
        }
      ]
    },
    {
      "cell_type": "code",
      "metadata": {
        "id": "SYDSE5otlcld",
        "colab_type": "code",
        "outputId": "76c33bbe-c9fe-4314-c085-f4e0db1cba12",
        "colab": {}
      },
      "source": [
        "params[\"parameter1\"] = \"A\"\n",
        "params[\"parameter2\"] = \"B\"\n",
        "\n",
        "# add a new entry\n",
        "params[\"parameter4\"] = \"D\"\n",
        "\n",
        "print(\"parameter1 = \" + str(params[\"parameter1\"]))\n",
        "print(\"parameter2 = \" + str(params[\"parameter2\"]))\n",
        "print(\"parameter3 = \" + str(params[\"parameter3\"]))\n",
        "print(\"parameter4 = \" + str(params[\"parameter4\"]))"
      ],
      "execution_count": 0,
      "outputs": [
        {
          "output_type": "stream",
          "text": [
            "parameter1 = A\n",
            "parameter2 = B\n",
            "parameter3 = 3.0\n",
            "parameter4 = D\n"
          ],
          "name": "stdout"
        }
      ]
    },
    {
      "cell_type": "markdown",
      "metadata": {
        "id": "CNW5cotplclg",
        "colab_type": "text"
      },
      "source": [
        "## Control Flow"
      ]
    },
    {
      "cell_type": "markdown",
      "metadata": {
        "id": "1caBC915lclh",
        "colab_type": "text"
      },
      "source": [
        "### Conditional statements: if, elif, else"
      ]
    },
    {
      "cell_type": "markdown",
      "metadata": {
        "id": "aJqAtan9lclh",
        "colab_type": "text"
      },
      "source": [
        "The Python syntax for conditional execution of code uses the keywords `if`, `elif` (else if), `else`:"
      ]
    },
    {
      "cell_type": "code",
      "metadata": {
        "id": "Bkv3q7hulclh",
        "colab_type": "code",
        "outputId": "175aef58-7015-4f49-c288-a25daa55ba65",
        "colab": {}
      },
      "source": [
        "statement1 = False\n",
        "statement2 = False\n",
        "\n",
        "if statement1:\n",
        "    print(\"statement1 is True\")\n",
        "    \n",
        "elif statement2:\n",
        "    print(\"statement2 is True\")\n",
        "    \n",
        "else:\n",
        "    print(\"statement1 and statement2 are False\")"
      ],
      "execution_count": 0,
      "outputs": [
        {
          "output_type": "stream",
          "text": [
            "statement1 and statement2 are False\n"
          ],
          "name": "stdout"
        }
      ]
    },
    {
      "cell_type": "markdown",
      "metadata": {
        "id": "2Ri-4iajlclk",
        "colab_type": "text"
      },
      "source": [
        "For the first time, here we encounted a peculiar and unusual aspect of the Python programming language: Program blocks are defined by their indentation level. \n",
        "\n",
        "Compare to the equivalent C code:\n",
        "\n",
        "    if (statement1)\n",
        "    {\n",
        "        printf(\"statement1 is True\\n\");\n",
        "    }\n",
        "    else if (statement2)\n",
        "    {\n",
        "        printf(\"statement2 is True\\n\");\n",
        "    }\n",
        "    else\n",
        "    {\n",
        "        printf(\"statement1 and statement2 are False\\n\");\n",
        "    }\n",
        "\n",
        "In C blocks are defined by the enclosing curly brakets `{` and `}`. And the level of indentation (white space before the code statements) does not matter (completely optional). \n",
        "\n",
        "But in Python, the extent of a code block is defined by the indentation level (usually a tab or say four white spaces). This means that we have to be careful to indent our code correctly, or else we will get syntax errors. "
      ]
    },
    {
      "cell_type": "markdown",
      "metadata": {
        "id": "xvlSV7EZlclk",
        "colab_type": "text"
      },
      "source": [
        "#### Examples:"
      ]
    },
    {
      "cell_type": "code",
      "metadata": {
        "id": "RpZ9zUhBlclk",
        "colab_type": "code",
        "outputId": "d76f62d0-a14d-47c5-8064-139e3ec60cf0",
        "colab": {}
      },
      "source": [
        "statement1 = statement2 = True\n",
        "\n",
        "if statement1:\n",
        "    if statement2:\n",
        "        print(\"both statement1 and statement2 are True\")"
      ],
      "execution_count": 0,
      "outputs": [
        {
          "output_type": "stream",
          "text": [
            "both statement1 and statement2 are True\n"
          ],
          "name": "stdout"
        }
      ]
    },
    {
      "cell_type": "code",
      "metadata": {
        "id": "XeWM2OoZlcll",
        "colab_type": "code",
        "outputId": "f4cbb78e-c1c8-4fe2-9f9d-92d8d8630091",
        "colab": {}
      },
      "source": [
        "# Bad indentation!\n",
        "if statement1:\n",
        "    if statement2:\n",
        "    print(\"both statement1 and statement2 are True\")  # this line is not properly indented"
      ],
      "execution_count": 0,
      "outputs": [
        {
          "output_type": "error",
          "ename": "IndentationError",
          "evalue": "expected an indented block (<ipython-input-77-ac4109c9123a>, line 4)",
          "traceback": [
            "\u001b[0;36m  File \u001b[0;32m\"<ipython-input-77-ac4109c9123a>\"\u001b[0;36m, line \u001b[0;32m4\u001b[0m\n\u001b[0;31m    print(\"both statement1 and statement2 are True\")  # this line is not properly indented\u001b[0m\n\u001b[0m        ^\u001b[0m\n\u001b[0;31mIndentationError\u001b[0m\u001b[0;31m:\u001b[0m expected an indented block\n"
          ]
        }
      ]
    },
    {
      "cell_type": "code",
      "metadata": {
        "id": "ZSM_CHQ4lcln",
        "colab_type": "code",
        "colab": {}
      },
      "source": [
        "statement1 = False \n",
        "\n",
        "if statement1:\n",
        "    print(\"printed if statement1 is True\")\n",
        "    \n",
        "    print(\"still inside the if block\")"
      ],
      "execution_count": 0,
      "outputs": []
    },
    {
      "cell_type": "code",
      "metadata": {
        "id": "GsBfuqwylclo",
        "colab_type": "code",
        "outputId": "120ae5e7-8381-47ea-9a0e-0d2db1812ad2",
        "colab": {}
      },
      "source": [
        "if statement1:\n",
        "    print(\"printed if statement1 is True\")\n",
        "    \n",
        "print(\"now outside the if block\")"
      ],
      "execution_count": 0,
      "outputs": [
        {
          "output_type": "stream",
          "text": [
            "now outside the if block\n"
          ],
          "name": "stdout"
        }
      ]
    },
    {
      "cell_type": "markdown",
      "metadata": {
        "id": "wHVBs8Dhlclp",
        "colab_type": "text"
      },
      "source": [
        "## Loops"
      ]
    },
    {
      "cell_type": "markdown",
      "metadata": {
        "id": "1ufLVG6glclp",
        "colab_type": "text"
      },
      "source": [
        "In Python, loops can be programmed in a number of different ways. The most common is the `for` loop, which is used together with iterable objects, such as lists. The basic syntax is:"
      ]
    },
    {
      "cell_type": "markdown",
      "metadata": {
        "id": "byEhtb7llclr",
        "colab_type": "text"
      },
      "source": [
        "### **`for` loops**:"
      ]
    },
    {
      "cell_type": "code",
      "metadata": {
        "id": "-q9Ks5Bxlclr",
        "colab_type": "code",
        "outputId": "a994d4be-5c61-4576-fed4-7b9093422351",
        "colab": {}
      },
      "source": [
        "for x in [1,2,3]:\n",
        "    print(x)"
      ],
      "execution_count": 0,
      "outputs": [
        {
          "output_type": "stream",
          "text": [
            "1\n",
            "2\n",
            "3\n"
          ],
          "name": "stdout"
        }
      ]
    },
    {
      "cell_type": "markdown",
      "metadata": {
        "id": "dvQdd8PClcls",
        "colab_type": "text"
      },
      "source": [
        "The `for` loop iterates over the elements of the supplied list, and executes the containing block once for each element. Any kind of list can be used in the `for` loop. For example:"
      ]
    },
    {
      "cell_type": "code",
      "metadata": {
        "id": "LBus7_7Xlclt",
        "colab_type": "code",
        "outputId": "2d0fe022-973e-49e7-e1e1-81a3bdba12b1",
        "colab": {}
      },
      "source": [
        "for x in range(4): # by default range start at 0\n",
        "    print(x)"
      ],
      "execution_count": 0,
      "outputs": [
        {
          "output_type": "stream",
          "text": [
            "0\n",
            "1\n",
            "2\n",
            "3\n"
          ],
          "name": "stdout"
        }
      ]
    },
    {
      "cell_type": "markdown",
      "metadata": {
        "id": "7ZhM8NR-lclt",
        "colab_type": "text"
      },
      "source": [
        "Note: `range(4)` does not include 4 !"
      ]
    },
    {
      "cell_type": "code",
      "metadata": {
        "id": "KmNG_12Qlclu",
        "colab_type": "code",
        "outputId": "76fafe4a-0627-4811-d6f9-9c9e29f912d0",
        "colab": {}
      },
      "source": [
        "for x in range(-3,3):\n",
        "    print(x)"
      ],
      "execution_count": 0,
      "outputs": [
        {
          "output_type": "stream",
          "text": [
            "-3\n",
            "-2\n",
            "-1\n",
            "0\n",
            "1\n",
            "2\n"
          ],
          "name": "stdout"
        }
      ]
    },
    {
      "cell_type": "code",
      "metadata": {
        "id": "IiLbb_xDlclu",
        "colab_type": "code",
        "outputId": "d9f0b168-2992-4c57-9080-f365336c25fe",
        "colab": {}
      },
      "source": [
        "for word in [\"scientific\", \"computing\", \"with\", \"python\"]:\n",
        "    print(word)"
      ],
      "execution_count": 0,
      "outputs": [
        {
          "output_type": "stream",
          "text": [
            "scientific\n",
            "computing\n",
            "with\n",
            "python\n"
          ],
          "name": "stdout"
        }
      ]
    },
    {
      "cell_type": "markdown",
      "metadata": {
        "id": "2FXkXOO5lclv",
        "colab_type": "text"
      },
      "source": [
        "To iterate over key-value pairs of a dictionary:"
      ]
    },
    {
      "cell_type": "code",
      "metadata": {
        "id": "1LwvBEQplclx",
        "colab_type": "code",
        "outputId": "92954e4d-3604-45c7-dfe0-e35bb06affbb",
        "colab": {}
      },
      "source": [
        "for key, value in params.items():\n",
        "    print(key + \" = \" + str(value))"
      ],
      "execution_count": 0,
      "outputs": [
        {
          "output_type": "stream",
          "text": [
            "parameter1 = A\n",
            "parameter2 = B\n",
            "parameter3 = 3.0\n",
            "parameter4 = D\n"
          ],
          "name": "stdout"
        }
      ]
    },
    {
      "cell_type": "markdown",
      "metadata": {
        "id": "cH8FNx6blcly",
        "colab_type": "text"
      },
      "source": [
        "Sometimes it is useful to have access to the indices of the values when iterating over a list. We can use the `enumerate` function for this:"
      ]
    },
    {
      "cell_type": "code",
      "metadata": {
        "id": "9Cxb51tglcly",
        "colab_type": "code",
        "outputId": "4ba625bb-b9a8-4442-9f98-62d290f2c0ee",
        "colab": {}
      },
      "source": [
        "for idx, x in enumerate(range(-3,3)):\n",
        "    print(idx, x)"
      ],
      "execution_count": 0,
      "outputs": [
        {
          "output_type": "stream",
          "text": [
            "0 -3\n",
            "1 -2\n",
            "2 -1\n",
            "3 0\n",
            "4 1\n",
            "5 2\n"
          ],
          "name": "stdout"
        }
      ]
    },
    {
      "cell_type": "markdown",
      "metadata": {
        "id": "NbGruNptlclz",
        "colab_type": "text"
      },
      "source": [
        "### List comprehensions: Creating lists using `for` loops:"
      ]
    },
    {
      "cell_type": "markdown",
      "metadata": {
        "id": "uRR40LOslclz",
        "colab_type": "text"
      },
      "source": [
        "A convenient and compact way to initialize lists:"
      ]
    },
    {
      "cell_type": "code",
      "metadata": {
        "id": "aKio_ojVlcl0",
        "colab_type": "code",
        "outputId": "4c5d1e2b-5acb-4129-83cd-0e5813964993",
        "colab": {}
      },
      "source": [
        "l1 = [x**2 for x in range(0,10)]\n",
        "print(l1)"
      ],
      "execution_count": 0,
      "outputs": [
        {
          "output_type": "stream",
          "text": [
            "[0, 1, 4, 9, 16, 25, 36, 49, 64, 81]\n"
          ],
          "name": "stdout"
        }
      ]
    },
    {
      "cell_type": "code",
      "metadata": {
        "id": "7ZsIBYGllcl1",
        "colab_type": "code",
        "outputId": "d49c537c-b207-4cd1-e501-32f450c08832",
        "colab": {}
      },
      "source": [
        "[x for x in range(0, 100) if x % 7 == 3]"
      ],
      "execution_count": 0,
      "outputs": [
        {
          "output_type": "execute_result",
          "data": {
            "text/plain": [
              "[3, 10, 17, 24, 31, 38, 45, 52, 59, 66, 73, 80, 87, 94]"
            ]
          },
          "metadata": {
            "tags": []
          },
          "execution_count": 87
        }
      ]
    },
    {
      "cell_type": "markdown",
      "metadata": {
        "id": "ZEIGW2jXlcl2",
        "colab_type": "text"
      },
      "source": [
        "### `while` loops:"
      ]
    },
    {
      "cell_type": "code",
      "metadata": {
        "id": "K7ORSjOFlcl2",
        "colab_type": "code",
        "outputId": "c0360b72-aaeb-4887-c6da-735e92d0b6a2",
        "colab": {}
      },
      "source": [
        "i = 0\n",
        "\n",
        "while i < 5:\n",
        "    print(i)\n",
        "    i = i + 1\n",
        "    \n",
        "print(\"done\")"
      ],
      "execution_count": 0,
      "outputs": [
        {
          "output_type": "stream",
          "text": [
            "0\n",
            "1\n",
            "2\n",
            "3\n",
            "4\n",
            "done\n"
          ],
          "name": "stdout"
        }
      ]
    },
    {
      "cell_type": "markdown",
      "metadata": {
        "id": "peOxMlVTlcl3",
        "colab_type": "text"
      },
      "source": [
        "Note that the `print(\"done\")` statement is not part of the `while` loop body because of the difference in indentation."
      ]
    },
    {
      "cell_type": "markdown",
      "metadata": {
        "id": "qEPo_pInlcl4",
        "colab_type": "text"
      },
      "source": [
        "## Modules"
      ]
    },
    {
      "cell_type": "markdown",
      "metadata": {
        "id": "kA7mlr4zlcl4",
        "colab_type": "text"
      },
      "source": [
        "Most of the functionality in Python is provided by *modules*. The Python Standard Library is a large collection of modules that provides *cross-platform* implementations of common facilities such as access to the operating system, file I/O, string management, network communication, and much more."
      ]
    },
    {
      "cell_type": "markdown",
      "metadata": {
        "id": "rNSCePRXlcl4",
        "colab_type": "text"
      },
      "source": [
        "### References"
      ]
    },
    {
      "cell_type": "markdown",
      "metadata": {
        "id": "H1UOCCzClcl4",
        "colab_type": "text"
      },
      "source": [
        " * The Python 3 Language Reference: https://docs.python.org/3/reference/index.html\n",
        " * The Python 3 Standard Library: https://docs.python.org/3/library/\n",
        "\n",
        "To use a module in a Python program it first has to be imported. A module can be imported using the `import` statement. For example, to import the module `math`, which contains many standard mathematical functions, we can do:"
      ]
    },
    {
      "cell_type": "code",
      "metadata": {
        "id": "Tt0ZzfjQlcl5",
        "colab_type": "code",
        "colab": {}
      },
      "source": [
        "import math"
      ],
      "execution_count": 0,
      "outputs": []
    },
    {
      "cell_type": "markdown",
      "metadata": {
        "id": "kHkHpiq_lcl5",
        "colab_type": "text"
      },
      "source": [
        "This includes the whole module and makes it available for use later in the program. For example, we can do:"
      ]
    },
    {
      "cell_type": "code",
      "metadata": {
        "id": "4gsqczPBlcl6",
        "colab_type": "code",
        "outputId": "c26f05c7-aa43-43b5-9f1d-9870676f536c",
        "colab": {}
      },
      "source": [
        "import math\n",
        "\n",
        "x = math.cos(2 * math.pi)\n",
        "\n",
        "print(x)"
      ],
      "execution_count": 0,
      "outputs": [
        {
          "output_type": "stream",
          "text": [
            "1.0\n"
          ],
          "name": "stdout"
        }
      ]
    },
    {
      "cell_type": "markdown",
      "metadata": {
        "id": "YqBvl41Vlcl7",
        "colab_type": "text"
      },
      "source": [
        "Alternatively, we can chose to import all symbols (functions and variables) in a module to the current namespace (so that we don't need to use the prefix \"`math.`\" every time we use something from the `math` module:"
      ]
    },
    {
      "cell_type": "code",
      "metadata": {
        "id": "lyVymTMYlcl7",
        "colab_type": "code",
        "outputId": "07a2ba41-983b-4378-d1ed-701817722ab7",
        "colab": {}
      },
      "source": [
        "from math import *\n",
        "\n",
        "x = cos(2 * pi)\n",
        "\n",
        "print(x)"
      ],
      "execution_count": 0,
      "outputs": [
        {
          "output_type": "stream",
          "text": [
            "1.0\n"
          ],
          "name": "stdout"
        }
      ]
    },
    {
      "cell_type": "markdown",
      "metadata": {
        "id": "3yi3Gwuelcl9",
        "colab_type": "text"
      },
      "source": [
        "This pattern can be very convenient, but in large programs that include many modules it is often a good idea to keep the symbols from each module in their own namespaces, by using the `import math` pattern. This would elminate potentially confusing problems with name space collisions.\n",
        "\n",
        "As a third alternative, we can chose to import only a few selected symbols from a module by explicitly listing which ones we want to import instead of using the wildcard character `*`:"
      ]
    },
    {
      "cell_type": "code",
      "metadata": {
        "id": "erocO-U-lcl9",
        "colab_type": "code",
        "outputId": "6300b1cb-fae4-4d65-af39-b4d95a4513b9",
        "colab": {}
      },
      "source": [
        "from math import cos, pi\n",
        "\n",
        "x = cos(2 * pi)\n",
        "\n",
        "print(x)"
      ],
      "execution_count": 0,
      "outputs": [
        {
          "output_type": "stream",
          "text": [
            "1.0\n"
          ],
          "name": "stdout"
        }
      ]
    },
    {
      "cell_type": "markdown",
      "metadata": {
        "id": "Ors4pJvPlcl-",
        "colab_type": "text"
      },
      "source": [
        "### Looking at what a module contains, and its documentation"
      ]
    },
    {
      "cell_type": "markdown",
      "metadata": {
        "id": "PE6vAzWKlcl_",
        "colab_type": "text"
      },
      "source": [
        "Once a module is imported, we can list the symbols it provides using the `dir` function:"
      ]
    },
    {
      "cell_type": "code",
      "metadata": {
        "id": "_phLwBcAlcl_",
        "colab_type": "code",
        "outputId": "1c666add-0d97-42c6-9f1d-20ec0f0111e3",
        "colab": {}
      },
      "source": [
        "import math\n",
        "\n",
        "print(dir(math))"
      ],
      "execution_count": 0,
      "outputs": [
        {
          "output_type": "stream",
          "text": [
            "['__doc__', '__file__', '__loader__', '__name__', '__package__', '__spec__', 'acos', 'acosh', 'asin', 'asinh', 'atan', 'atan2', 'atanh', 'ceil', 'copysign', 'cos', 'cosh', 'degrees', 'e', 'erf', 'erfc', 'exp', 'expm1', 'fabs', 'factorial', 'floor', 'fmod', 'frexp', 'fsum', 'gamma', 'gcd', 'hypot', 'inf', 'isclose', 'isfinite', 'isinf', 'isnan', 'ldexp', 'lgamma', 'log', 'log10', 'log1p', 'log2', 'modf', 'nan', 'pi', 'pow', 'radians', 'sin', 'sinh', 'sqrt', 'tan', 'tanh', 'tau', 'trunc']\n"
          ],
          "name": "stdout"
        }
      ]
    },
    {
      "cell_type": "markdown",
      "metadata": {
        "id": "DvxcEA3YlcmA",
        "colab_type": "text"
      },
      "source": [
        "And using the function `help` we can get a description of each function (almost .. not all functions have docstrings, as they are technically called, but the vast majority of functions are documented this way). "
      ]
    },
    {
      "cell_type": "code",
      "metadata": {
        "id": "F2VAkDgBlcmA",
        "colab_type": "code",
        "outputId": "15b37d8b-ef39-461a-916a-18ca9135e074",
        "colab": {}
      },
      "source": [
        "help(math.log)"
      ],
      "execution_count": 0,
      "outputs": [
        {
          "output_type": "stream",
          "text": [
            "Help on built-in function log in module math:\n",
            "\n",
            "log(...)\n",
            "    log(x[, base])\n",
            "    \n",
            "    Return the logarithm of x to the given base.\n",
            "    If the base not specified, returns the natural logarithm (base e) of x.\n",
            "\n"
          ],
          "name": "stdout"
        }
      ]
    },
    {
      "cell_type": "code",
      "metadata": {
        "id": "FmLzgqfYlcmC",
        "colab_type": "code",
        "outputId": "3a3be6a9-238d-4fbc-923d-f8894497e528",
        "colab": {}
      },
      "source": [
        "log(10)"
      ],
      "execution_count": 0,
      "outputs": [
        {
          "output_type": "execute_result",
          "data": {
            "text/plain": [
              "2.302585092994046"
            ]
          },
          "metadata": {
            "tags": []
          },
          "execution_count": 95
        }
      ]
    },
    {
      "cell_type": "code",
      "metadata": {
        "id": "acDGckAjlcmD",
        "colab_type": "code",
        "outputId": "0c691d5f-71df-4f60-b7e0-2f1fc02bd499",
        "colab": {}
      },
      "source": [
        "log(10, 2)"
      ],
      "execution_count": 0,
      "outputs": [
        {
          "output_type": "execute_result",
          "data": {
            "text/plain": [
              "3.3219280948873626"
            ]
          },
          "metadata": {
            "tags": []
          },
          "execution_count": 96
        }
      ]
    },
    {
      "cell_type": "markdown",
      "metadata": {
        "id": "3YldiSbwlcmE",
        "colab_type": "text"
      },
      "source": [
        "We can also use the `help` function directly on modules: Try\n",
        "\n",
        "    help(math) \n",
        "\n",
        "Some very useful modules form the Python standard library are `os`, `sys`, `math`, `shutil` or `re`."
      ]
    },
    {
      "cell_type": "markdown",
      "metadata": {
        "id": "O9pBiRfFlcmE",
        "colab_type": "text"
      },
      "source": [
        "## Functions"
      ]
    },
    {
      "cell_type": "markdown",
      "metadata": {
        "id": "np4yO-gDlcmE",
        "colab_type": "text"
      },
      "source": [
        "A function in Python is defined using the keyword `def`, followed by a function name, a signature within parentheses `()`, and a colon `:`. The following code, with one additional level of indentation, is the function body."
      ]
    },
    {
      "cell_type": "code",
      "metadata": {
        "id": "M-meDotelcmF",
        "colab_type": "code",
        "colab": {}
      },
      "source": [
        "def func0():   \n",
        "    print(\"test\")"
      ],
      "execution_count": 0,
      "outputs": []
    },
    {
      "cell_type": "code",
      "metadata": {
        "id": "3Rp84AaVlcmF",
        "colab_type": "code",
        "outputId": "455b1765-617a-4259-9585-bb08dc677d43",
        "colab": {}
      },
      "source": [
        "func0()"
      ],
      "execution_count": 0,
      "outputs": [
        {
          "output_type": "stream",
          "text": [
            "test\n"
          ],
          "name": "stdout"
        }
      ]
    },
    {
      "cell_type": "markdown",
      "metadata": {
        "id": "jXjrOPS7lcmH",
        "colab_type": "text"
      },
      "source": [
        "Optionally, but highly recommended, we can define a so called \"docstring\", which is a description of the functions purpose and behaivor. The docstring should follow directly after the function definition, before the code in the function body."
      ]
    },
    {
      "cell_type": "code",
      "metadata": {
        "id": "pX4ErURVlcmI",
        "colab_type": "code",
        "colab": {}
      },
      "source": [
        "def func1(s):\n",
        "    \"\"\"\n",
        "    Print a string 's' and tell how many characters it has    \n",
        "    \"\"\"\n",
        "    print(s + \" has \" + str(len(s)) + \" characters\")"
      ],
      "execution_count": 0,
      "outputs": []
    },
    {
      "cell_type": "code",
      "metadata": {
        "id": "He8GRhrjlcmJ",
        "colab_type": "code",
        "outputId": "a701f803-4feb-46c1-923e-455dec93d42e",
        "colab": {}
      },
      "source": [
        "help(func1)"
      ],
      "execution_count": 0,
      "outputs": [
        {
          "output_type": "stream",
          "text": [
            "Help on function func1 in module __main__:\n",
            "\n",
            "func1(s)\n",
            "    Print a string 's' and tell how many characters it has\n",
            "\n"
          ],
          "name": "stdout"
        }
      ]
    },
    {
      "cell_type": "code",
      "metadata": {
        "id": "iEbUSu5XlcmK",
        "colab_type": "code",
        "outputId": "7336ff93-dd20-4be4-ce6b-8cc1de08afc9",
        "colab": {}
      },
      "source": [
        "func1(\"test\")"
      ],
      "execution_count": 0,
      "outputs": [
        {
          "output_type": "stream",
          "text": [
            "test has 4 characters\n"
          ],
          "name": "stdout"
        }
      ]
    },
    {
      "cell_type": "markdown",
      "metadata": {
        "id": "bcddeRh3lcmL",
        "colab_type": "text"
      },
      "source": [
        "Functions that returns a value use the `return` keyword:"
      ]
    },
    {
      "cell_type": "code",
      "metadata": {
        "id": "6XC4-zgZlcmM",
        "colab_type": "code",
        "colab": {}
      },
      "source": [
        "def square(x):\n",
        "    \"\"\"\n",
        "    Return the square of x.\n",
        "    \"\"\"\n",
        "    return x ** 2"
      ],
      "execution_count": 0,
      "outputs": []
    },
    {
      "cell_type": "code",
      "metadata": {
        "id": "vIiw8ebBlcmN",
        "colab_type": "code",
        "outputId": "082f4f01-b891-4ec0-c961-b83b6478c186",
        "colab": {}
      },
      "source": [
        "square(4)"
      ],
      "execution_count": 0,
      "outputs": [
        {
          "output_type": "execute_result",
          "data": {
            "text/plain": [
              "16"
            ]
          },
          "metadata": {
            "tags": []
          },
          "execution_count": 103
        }
      ]
    },
    {
      "cell_type": "markdown",
      "metadata": {
        "id": "S23NgMEdlcmO",
        "colab_type": "text"
      },
      "source": [
        "We can return multiple values from a function using tuples (see above):"
      ]
    },
    {
      "cell_type": "code",
      "metadata": {
        "id": "_C48FgwwlcmO",
        "colab_type": "code",
        "colab": {}
      },
      "source": [
        "def powers(x):\n",
        "    \"\"\"\n",
        "    Return a few powers of x.\n",
        "    \"\"\"\n",
        "    return x ** 2, x ** 3, x ** 4"
      ],
      "execution_count": 0,
      "outputs": []
    },
    {
      "cell_type": "code",
      "metadata": {
        "id": "-3kYyscdlcmP",
        "colab_type": "code",
        "outputId": "e060f783-f2d0-4d97-8d6b-069d36a67391",
        "colab": {}
      },
      "source": [
        "powers(3)"
      ],
      "execution_count": 0,
      "outputs": [
        {
          "output_type": "execute_result",
          "data": {
            "text/plain": [
              "(9, 27, 81)"
            ]
          },
          "metadata": {
            "tags": []
          },
          "execution_count": 105
        }
      ]
    },
    {
      "cell_type": "code",
      "metadata": {
        "id": "xb3LK9aplcmQ",
        "colab_type": "code",
        "outputId": "227d7dbf-5dbd-4ac1-d2c7-29f3baec1cc7",
        "colab": {}
      },
      "source": [
        "x2, x3, x4 = powers(3)\n",
        "\n",
        "print(x3)"
      ],
      "execution_count": 0,
      "outputs": [
        {
          "output_type": "stream",
          "text": [
            "27\n"
          ],
          "name": "stdout"
        }
      ]
    },
    {
      "cell_type": "markdown",
      "metadata": {
        "id": "UWXu0millcmR",
        "colab_type": "text"
      },
      "source": [
        "### Default argument and keyword arguments"
      ]
    },
    {
      "cell_type": "markdown",
      "metadata": {
        "id": "uGZyvmFblcmR",
        "colab_type": "text"
      },
      "source": [
        "In a definition of a function, we can give default values to the arguments the function takes:"
      ]
    },
    {
      "cell_type": "code",
      "metadata": {
        "id": "Kl58ZCsClcmR",
        "colab_type": "code",
        "colab": {}
      },
      "source": [
        "def myfunc(x, p=2, debug=False):\n",
        "    if debug:\n",
        "        print(\"evaluating myfunc for x = \" + str(x) + \" using exponent p = \" + str(p))\n",
        "    return x**p"
      ],
      "execution_count": 0,
      "outputs": []
    },
    {
      "cell_type": "markdown",
      "metadata": {
        "id": "0lhCVXZmlcmS",
        "colab_type": "text"
      },
      "source": [
        "If we don't provide a value of the `debug` argument when calling the the function `myfunc` it defaults to the value provided in the function definition:"
      ]
    },
    {
      "cell_type": "code",
      "metadata": {
        "id": "U8ZWc9BvlcmS",
        "colab_type": "code",
        "outputId": "f9525854-4aa1-4a39-a8ef-79ae7e42a92e",
        "colab": {}
      },
      "source": [
        "myfunc(5)"
      ],
      "execution_count": 0,
      "outputs": [
        {
          "output_type": "execute_result",
          "data": {
            "text/plain": [
              "25"
            ]
          },
          "metadata": {
            "tags": []
          },
          "execution_count": 108
        }
      ]
    },
    {
      "cell_type": "code",
      "metadata": {
        "id": "bCrWXKuDlcmU",
        "colab_type": "code",
        "outputId": "9b906425-65c7-4e3d-b7b6-e56cc901c2de",
        "colab": {}
      },
      "source": [
        "myfunc(5, debug=True)"
      ],
      "execution_count": 0,
      "outputs": [
        {
          "output_type": "stream",
          "text": [
            "evaluating myfunc for x = 5 using exponent p = 2\n"
          ],
          "name": "stdout"
        },
        {
          "output_type": "execute_result",
          "data": {
            "text/plain": [
              "25"
            ]
          },
          "metadata": {
            "tags": []
          },
          "execution_count": 109
        }
      ]
    },
    {
      "cell_type": "markdown",
      "metadata": {
        "id": "ZvB2MHtxlcmV",
        "colab_type": "text"
      },
      "source": [
        "If we explicitly list the name of the arguments in the function calls, they do not need to come in the same order as in the function definition. This is called *keyword* arguments, and is often very useful in functions that takes a lot of optional arguments."
      ]
    },
    {
      "cell_type": "code",
      "metadata": {
        "id": "UPot7ogflcmV",
        "colab_type": "code",
        "outputId": "5a434efd-94bb-4727-9764-44b009e04b59",
        "colab": {}
      },
      "source": [
        "myfunc(p=3, debug=True, x=7)"
      ],
      "execution_count": 0,
      "outputs": [
        {
          "output_type": "stream",
          "text": [
            "evaluating myfunc for x = 7 using exponent p = 3\n"
          ],
          "name": "stdout"
        },
        {
          "output_type": "execute_result",
          "data": {
            "text/plain": [
              "343"
            ]
          },
          "metadata": {
            "tags": []
          },
          "execution_count": 110
        }
      ]
    },
    {
      "cell_type": "markdown",
      "metadata": {
        "id": "lTWmO0tSlcmW",
        "colab_type": "text"
      },
      "source": [
        "### Unnamed functions (lambda function)"
      ]
    },
    {
      "cell_type": "markdown",
      "metadata": {
        "id": "8jAJ4pTplcmX",
        "colab_type": "text"
      },
      "source": [
        "In Python we can also create unnamed functions, using the `lambda` keyword:"
      ]
    },
    {
      "cell_type": "code",
      "metadata": {
        "id": "m4MWzuF0lcmX",
        "colab_type": "code",
        "colab": {}
      },
      "source": [
        "f1 = lambda x: x**2\n",
        "    \n",
        "# is equivalent to \n",
        "\n",
        "def f2(x):\n",
        "    return x**2"
      ],
      "execution_count": 0,
      "outputs": []
    },
    {
      "cell_type": "code",
      "metadata": {
        "id": "oMwfnJdRlcmZ",
        "colab_type": "code",
        "outputId": "f62c221d-0cf1-45a3-8f66-a3d32c2b182e",
        "colab": {}
      },
      "source": [
        "f1(2), f2(2)"
      ],
      "execution_count": 0,
      "outputs": [
        {
          "output_type": "execute_result",
          "data": {
            "text/plain": [
              "(4, 4)"
            ]
          },
          "metadata": {
            "tags": []
          },
          "execution_count": 112
        }
      ]
    },
    {
      "cell_type": "markdown",
      "metadata": {
        "id": "7Ln6MYvVlcmZ",
        "colab_type": "text"
      },
      "source": [
        "This technique is useful for example when we want to pass a simple function as an argument to another function, like this:"
      ]
    },
    {
      "cell_type": "code",
      "metadata": {
        "id": "FM7RL4xJlcma",
        "colab_type": "code",
        "outputId": "8b134160-0e9a-447a-8ea3-f91c2273dd4d",
        "colab": {}
      },
      "source": [
        "# map is a built-in python function and in Python 3 generates iterator\n",
        "map(lambda x: x**2, range(-3, 4))"
      ],
      "execution_count": 0,
      "outputs": [
        {
          "output_type": "execute_result",
          "data": {
            "text/plain": [
              "<map at 0x7f42bdf615c0>"
            ]
          },
          "metadata": {
            "tags": []
          },
          "execution_count": 113
        }
      ]
    },
    {
      "cell_type": "code",
      "metadata": {
        "id": "izM6MbEvlcmb",
        "colab_type": "code",
        "outputId": "c2b8c474-3e3e-4ded-b0ae-a7d42e22aa85",
        "colab": {}
      },
      "source": [
        "# we can use `list(...)` to convert the iterator to an explicit list\n",
        "list(map(lambda x: x**2, range(-3, 4)))"
      ],
      "execution_count": 0,
      "outputs": [
        {
          "output_type": "execute_result",
          "data": {
            "text/plain": [
              "[9, 4, 1, 0, 1, 4, 9]"
            ]
          },
          "metadata": {
            "tags": []
          },
          "execution_count": 114
        }
      ]
    },
    {
      "cell_type": "markdown",
      "metadata": {
        "id": "mRTnZqYYlcme",
        "colab_type": "text"
      },
      "source": [
        "## Classes"
      ]
    },
    {
      "cell_type": "markdown",
      "metadata": {
        "id": "LO-1ukLDlcme",
        "colab_type": "text"
      },
      "source": [
        "Classes are the key features of object-oriented programming. A class is a structure for representing an object and the operations that can be performed on the object. \n",
        "\n",
        "In Python a class can contain *attributes* (variables) and *methods* (functions).\n",
        "\n",
        "A class is defined almost like a function, but using the `class` keyword, and the class definition usually contains a number of class method definitions (a function in a class).\n",
        "\n",
        "* Each class method should have an argument `self` as its first argument. This object is a self-reference.\n",
        "\n",
        "* Some class method names have special meaning, for example:\n",
        "\n",
        "    * `__init__`: The name of the method that is invoked when the object is first created.\n",
        "    * `__str__` : A method that is invoked when a simple string representation of the class is needed, as for example when printed.\n",
        "    * There are many more, see http://docs.python.org/2/reference/datamodel.html#special-method-names"
      ]
    },
    {
      "cell_type": "code",
      "metadata": {
        "id": "NzVA0TEHlcme",
        "colab_type": "code",
        "colab": {}
      },
      "source": [
        "class Point:\n",
        "    \"\"\"\n",
        "    Simple class for representing a point in a Cartesian coordinate system.\n",
        "    \"\"\"\n",
        "    \n",
        "    def __init__(self, x, y):\n",
        "        \"\"\"\n",
        "        Create a new Point at x, y.\n",
        "        \"\"\"\n",
        "        self.x = x\n",
        "        self.y = y\n",
        "        \n",
        "    def translate(self, dx, dy):\n",
        "        \"\"\"\n",
        "        Translate the point by dx and dy in the x and y direction.\n",
        "        \"\"\"\n",
        "        self.x += dx\n",
        "        self.y += dy\n",
        "        \n",
        "    def __str__(self):\n",
        "        return(\"Point at [%f, %f]\" % (self.x, self.y))"
      ],
      "execution_count": 0,
      "outputs": []
    },
    {
      "cell_type": "markdown",
      "metadata": {
        "id": "VamJhrIUlcmf",
        "colab_type": "text"
      },
      "source": [
        "To create a new instance of a class:"
      ]
    },
    {
      "cell_type": "code",
      "metadata": {
        "id": "W5nPW7-rlcmg",
        "colab_type": "code",
        "outputId": "1da4b881-9d98-4057-82c6-92799c5c0c94",
        "colab": {}
      },
      "source": [
        "p1 = Point(0, 0) # this will invoke the __init__ method in the Point class\n",
        "\n",
        "print(p1)         # this will invoke the __str__ method"
      ],
      "execution_count": 0,
      "outputs": [
        {
          "output_type": "stream",
          "text": [
            "Point at [0.000000, 0.000000]\n"
          ],
          "name": "stdout"
        }
      ]
    },
    {
      "cell_type": "markdown",
      "metadata": {
        "id": "0_VASmwhlcmi",
        "colab_type": "text"
      },
      "source": [
        "To invoke a class method in the class instance `p`:"
      ]
    },
    {
      "cell_type": "code",
      "metadata": {
        "id": "gxzwpZGzlcmi",
        "colab_type": "code",
        "outputId": "2cec7bdd-3350-4e19-9535-f4f236ed5ad5",
        "colab": {}
      },
      "source": [
        "p2 = Point(1, 1)\n",
        "\n",
        "p1.translate(0.25, 1.5)\n",
        "\n",
        "print(p1)\n",
        "print(p2)"
      ],
      "execution_count": 0,
      "outputs": [
        {
          "output_type": "stream",
          "text": [
            "Point at [0.250000, 1.500000]\n",
            "Point at [1.000000, 1.000000]\n"
          ],
          "name": "stdout"
        }
      ]
    },
    {
      "cell_type": "markdown",
      "metadata": {
        "id": "o2n5fpuClcmj",
        "colab_type": "text"
      },
      "source": [
        "Note that calling class methods can modifiy the state of that particular class instance, but does not effect other class instances or any global variables.\n",
        "\n",
        "That is one of the nice things about object-oriented design: code such as functions and related variables are grouped in separate and independent entities. "
      ]
    },
    {
      "cell_type": "markdown",
      "metadata": {
        "id": "9nS-0OEXlcml",
        "colab_type": "text"
      },
      "source": [
        "## Exceptions"
      ]
    },
    {
      "cell_type": "markdown",
      "metadata": {
        "id": "eTzvHNgtlcmm",
        "colab_type": "text"
      },
      "source": [
        "In Python errors are managed with a special language construct called \"Exceptions\". When errors occur exceptions can be raised, which interrupts the normal program flow and fallback to somewhere else in the code where the closest try-except statement is defined."
      ]
    },
    {
      "cell_type": "markdown",
      "metadata": {
        "id": "_F-sjp9zlcmm",
        "colab_type": "text"
      },
      "source": [
        "To generate an exception we can use the `raise` statement, which takes an argument that must be an instance of the class `BaseException` or a class derived from it. "
      ]
    },
    {
      "cell_type": "code",
      "metadata": {
        "id": "YbIYH3r7lcmm",
        "colab_type": "code",
        "outputId": "c593cc0b-12b0-44b6-ef13-06c965c7ab87",
        "colab": {}
      },
      "source": [
        "raise Exception(\"description of the error\")"
      ],
      "execution_count": 0,
      "outputs": [
        {
          "output_type": "error",
          "ename": "Exception",
          "evalue": "description of the error",
          "traceback": [
            "\u001b[0;31m---------------------------------------------------------------------------\u001b[0m",
            "\u001b[0;31mException\u001b[0m                                 Traceback (most recent call last)",
            "\u001b[0;32m<ipython-input-118-c32f93e4dfa0>\u001b[0m in \u001b[0;36m<module>\u001b[0;34m\u001b[0m\n\u001b[0;32m----> 1\u001b[0;31m \u001b[0;32mraise\u001b[0m \u001b[0mException\u001b[0m\u001b[0;34m(\u001b[0m\u001b[0;34m\"description of the error\"\u001b[0m\u001b[0;34m)\u001b[0m\u001b[0;34m\u001b[0m\u001b[0m\n\u001b[0m",
            "\u001b[0;31mException\u001b[0m: description of the error"
          ]
        }
      ]
    },
    {
      "cell_type": "markdown",
      "metadata": {
        "id": "INXp8dmQlcmn",
        "colab_type": "text"
      },
      "source": [
        "A typical use of exceptions is to abort functions when some error condition occurs, for example:\n",
        "\n",
        "    def my_function(arguments):\n",
        "    \n",
        "        if not verify(arguments):\n",
        "            raise Exception(\"Invalid arguments\")\n",
        "        \n",
        "        # rest of the code goes here"
      ]
    },
    {
      "cell_type": "markdown",
      "metadata": {
        "id": "JTxwy8SPlcmo",
        "colab_type": "text"
      },
      "source": [
        "To gracefully catch errors that are generated by functions and class methods, or by the Python interpreter itself, use the `try` and  `except` statements:\n",
        "\n",
        "    try:\n",
        "        # normal code goes here\n",
        "    except:\n",
        "        # code for error handling goes here\n",
        "        # this code is not executed unless the code\n",
        "        # above generated an error\n",
        "\n",
        "For example:"
      ]
    },
    {
      "cell_type": "code",
      "metadata": {
        "id": "filTuapTlcmp",
        "colab_type": "code",
        "outputId": "5367a730-88b9-45a1-ba11-9c2b96097b03",
        "colab": {}
      },
      "source": [
        "try:\n",
        "    print(\"test\")\n",
        "    # generate an error: the variable test is not defined\n",
        "    print(test)\n",
        "except:\n",
        "    print(\"Caught an exception\")"
      ],
      "execution_count": 0,
      "outputs": [
        {
          "output_type": "stream",
          "text": [
            "test\n",
            "Caught an exception\n"
          ],
          "name": "stdout"
        }
      ]
    },
    {
      "cell_type": "markdown",
      "metadata": {
        "id": "ezsncGlulcmt",
        "colab_type": "text"
      },
      "source": [
        "To get information about the error, we can access the `Exception` class instance that describes the exception by using for example:\n",
        "\n",
        "    except Exception as e:"
      ]
    },
    {
      "cell_type": "code",
      "metadata": {
        "id": "GmegF2Hblcmt",
        "colab_type": "code",
        "outputId": "05674277-48b1-483d-d51a-aa8bc4ebecb4",
        "colab": {}
      },
      "source": [
        "try:\n",
        "    print(\"test\")\n",
        "    # generate an error: the variable test is not defined\n",
        "    print(test)\n",
        "except Exception as e:\n",
        "    print(\"Caught an exception:\" + str(e))"
      ],
      "execution_count": 0,
      "outputs": [
        {
          "output_type": "stream",
          "text": [
            "test\n",
            "Caught an exception:name 'test' is not defined\n"
          ],
          "name": "stdout"
        }
      ]
    },
    {
      "cell_type": "markdown",
      "metadata": {
        "id": "GiupKWA-lcmu",
        "colab_type": "text"
      },
      "source": [
        "## Further reading"
      ]
    },
    {
      "cell_type": "markdown",
      "metadata": {
        "id": "YSobYKUHlcmu",
        "colab_type": "text"
      },
      "source": [
        "* https://docs.python.org/3/tutorial/ - The Python tutorial\n",
        "* http://www.greenteapress.com/thinkpython/ - A free book on Python programming.\n",
        "* http://www.diveintopython3.net/ - Another free ebook Dive Into Python 3\n",
        "* http://www.thomas-cokelaer.info/tutorials/python/ - Python notes\n",
        "* http://www.python.org - The official web page of the Python programming language.\n",
        "* http://www.python.org/dev/peps/pep-0008 - Style guide for Python programming. Highly recommended.\n",
        "\n",
        "\n",
        "* https://s3.amazonaws.com/assets.datacamp.com/blog_assets/PythonForDataScience.pdf Python cheat sheet for variables and data types, Strings, Lists"
      ]
    },
    {
      "cell_type": "code",
      "metadata": {
        "id": "UC_fU946lcmv",
        "colab_type": "code",
        "outputId": "782a8fce-4418-42c2-bc85-82a098822f8e",
        "colab": {}
      },
      "source": [
        "!python scripts/footnote.py"
      ],
      "execution_count": 0,
      "outputs": [
        {
          "output_type": "stream",
          "text": [
            "Running using Python 3.6.6 |Anaconda, Inc.| (default, Oct  9 2018, 12:34:16) \n",
            "[GCC 7.3.0]\n",
            "Testing Python version-> py3.6 OK\n",
            "Testing numpy...      -> numpy OK\n",
            "Testing scipy ...     -> scipy OK\n",
            "Testing matplotlib... -> pylab OK\n",
            "Testing sympy         -> sympy OK\n",
            "-----------------------------\n",
            "All the IPython Notebooks in this lecture series are available at:\n",
            "https://github.com/ondrolexa/r-python\n"
          ],
          "name": "stdout"
        }
      ]
    },
    {
      "cell_type": "code",
      "metadata": {
        "id": "QK7xGIuBlcmv",
        "colab_type": "code",
        "colab": {}
      },
      "source": [
        ""
      ],
      "execution_count": 0,
      "outputs": []
    }
  ]
}