{
  "nbformat": 4,
  "nbformat_minor": 0,
  "metadata": {
    "colab": {
      "name": "5-numpy.ipynb",
      "provenance": [],
      "collapsed_sections": [],
      "include_colab_link": true
    },
    "kernelspec": {
      "name": "python3",
      "display_name": "Python 3"
    }
  },
  "cells": [
    {
      "cell_type": "markdown",
      "metadata": {
        "id": "view-in-github",
        "colab_type": "text"
      },
      "source": [
        "<a href=\"https://colab.research.google.com/github/DepartmentOfStatisticsPUE/air-2020/blob/master/notebooks/5_numpy.ipynb\" target=\"_parent\"><img src=\"https://colab.research.google.com/assets/colab-badge.svg\" alt=\"Open In Colab\"/></a>"
      ]
    },
    {
      "cell_type": "code",
      "metadata": {
        "id": "OFttmtxGjgiT",
        "colab_type": "code",
        "colab": {}
      },
      "source": [
        "import numpy as np"
      ],
      "execution_count": 0,
      "outputs": []
    },
    {
      "cell_type": "markdown",
      "metadata": {
        "id": "Os9dSoTuk7-O",
        "colab_type": "text"
      },
      "source": [
        "$$\n",
        "A = \n",
        "\\begin{pmatrix}\n",
        "1& 2& -1& 0 \\\\ \n",
        "3 &-2& 4& 5\\\\ \n",
        "2 &6& 5 &-3\\\\ \n",
        "0 &1& 5 &-4\\\\ \n",
        "\\end{pmatrix}\n",
        "$$ ,\n",
        "\n",
        "$$\n",
        "B = \n",
        "\\begin{pmatrix}\n",
        "3 & 6 \\\\\n",
        "4 & 0 \\\\\n",
        "2 & -1 \\\\\n",
        "1 & 1 \\\\\n",
        "\\end{pmatrix}\n",
        "$$"
      ]
    },
    {
      "cell_type": "code",
      "metadata": {
        "id": "nL2KuP9Yk7hs",
        "colab_type": "code",
        "colab": {}
      },
      "source": [
        "A = np.array( [ (1, 2, -1, 0), \n",
        "                (3, -2, 4, 5), \n",
        "                (2, 6, 5, -3), \n",
        "                (0, 1, 5, -4)] )\n",
        "\n",
        "B = np.array( [(3, 6), (4, 0), (2, -1), (1, 1)] )"
      ],
      "execution_count": 0,
      "outputs": []
    },
    {
      "cell_type": "code",
      "metadata": {
        "id": "Dqzk5A1Ok67X",
        "colab_type": "code",
        "outputId": "dccb13cf-ac95-46cc-fde0-e62f5da0e134",
        "colab": {
          "base_uri": "https://localhost:8080/",
          "height": 151
        }
      },
      "source": [
        "print(A)\n",
        "print(B)"
      ],
      "execution_count": 0,
      "outputs": [
        {
          "output_type": "stream",
          "text": [
            "[[ 1  2 -1  0]\n",
            " [ 3 -2  4  5]\n",
            " [ 2  6  5 -3]\n",
            " [ 0  1  5 -4]]\n",
            "[[ 3  6]\n",
            " [ 4  0]\n",
            " [ 2 -1]\n",
            " [ 1  1]]\n"
          ],
          "name": "stdout"
        }
      ]
    },
    {
      "cell_type": "markdown",
      "metadata": {
        "id": "QrUGXXSzmeDS",
        "colab_type": "text"
      },
      "source": [
        "Zadanie 1. oblicz wyznacznik macierzy **A**.\n"
      ]
    },
    {
      "cell_type": "code",
      "metadata": {
        "id": "PAaMG9fumixj",
        "colab_type": "code",
        "outputId": "afe23765-18de-409a-e2b7-d8cde82f1faa",
        "colab": {
          "base_uri": "https://localhost:8080/",
          "height": 34
        }
      },
      "source": [
        "np.linalg.det(A)"
      ],
      "execution_count": 0,
      "outputs": [
        {
          "output_type": "execute_result",
          "data": {
            "text/plain": [
              "154.00000000000006"
            ]
          },
          "metadata": {
            "tags": []
          },
          "execution_count": 8
        }
      ]
    },
    {
      "cell_type": "markdown",
      "metadata": {
        "id": "yCqm6jX7nQeZ",
        "colab_type": "text"
      },
      "source": [
        "Zadanie 2. znajdź iloczyn macierzy **AB**"
      ]
    },
    {
      "cell_type": "code",
      "metadata": {
        "id": "ihi7xsI3nCh5",
        "colab_type": "code",
        "outputId": "2ed9b4fc-5b13-4a88-8fa5-ee7caa91fdb4",
        "colab": {
          "base_uri": "https://localhost:8080/",
          "height": 84
        }
      },
      "source": [
        "A @ B ## wyłącznie od python 3"
      ],
      "execution_count": 0,
      "outputs": [
        {
          "output_type": "execute_result",
          "data": {
            "text/plain": [
              "array([[ 9,  7],\n",
              "       [14, 19],\n",
              "       [37,  4],\n",
              "       [10, -9]])"
            ]
          },
          "metadata": {
            "tags": []
          },
          "execution_count": 9
        }
      ]
    },
    {
      "cell_type": "code",
      "metadata": {
        "id": "LrPCB5OZn4g2",
        "colab_type": "code",
        "outputId": "52b987fb-4e21-4639-9a6e-b7893cb4f754",
        "colab": {
          "base_uri": "https://localhost:8080/",
          "height": 84
        }
      },
      "source": [
        "np.matmul(A, B)"
      ],
      "execution_count": 0,
      "outputs": [
        {
          "output_type": "execute_result",
          "data": {
            "text/plain": [
              "array([[ 9,  7],\n",
              "       [14, 19],\n",
              "       [37,  4],\n",
              "       [10, -9]])"
            ]
          },
          "metadata": {
            "tags": []
          },
          "execution_count": 11
        }
      ]
    },
    {
      "cell_type": "code",
      "metadata": {
        "id": "cPqH_1iJoKKE",
        "colab_type": "code",
        "outputId": "7eaa669e-f2f8-4244-add1-24dfc9778373",
        "colab": {
          "base_uri": "https://localhost:8080/",
          "height": 84
        }
      },
      "source": [
        "A.dot(B)"
      ],
      "execution_count": 0,
      "outputs": [
        {
          "output_type": "execute_result",
          "data": {
            "text/plain": [
              "array([[ 9,  7],\n",
              "       [14, 19],\n",
              "       [37,  4],\n",
              "       [10, -9]])"
            ]
          },
          "metadata": {
            "tags": []
          },
          "execution_count": 12
        }
      ]
    },
    {
      "cell_type": "markdown",
      "metadata": {
        "id": "oHBfRAueopos",
        "colab_type": "text"
      },
      "source": [
        "Krótkie wprowadzenie do LaTeXa\n",
        "\n",
        "$$\n",
        "a^2 + b^2 = c^2\n",
        "$$\n",
        "\n",
        "\n",
        "Wzór na średnią arytmetyczną\n",
        "\n",
        "$$\n",
        "\\bar{x} = \\frac{\\sum_i^n x_i}{n}\n",
        "$$\n",
        "\n",
        "Deklarujemy macierz\n",
        "\n",
        "$$\n",
        "A = \n",
        "\\begin{bmatrix} %pmatrix\n",
        "1 & 2 \\\\\n",
        "3 & 4 \n",
        "\\end{bmatrix}\n",
        "$$"
      ]
    },
    {
      "cell_type": "markdown",
      "metadata": {
        "id": "vEAxdxmTq5st",
        "colab_type": "text"
      },
      "source": [
        "Zadanie 3. Znajdź macierz transponową $\\mathbf{B}^T$"
      ]
    },
    {
      "cell_type": "code",
      "metadata": {
        "id": "-mdlUFGfrCRF",
        "colab_type": "code",
        "outputId": "21e96762-17e7-4d16-aa6c-1ab9dbb9f5ed",
        "colab": {
          "base_uri": "https://localhost:8080/",
          "height": 50
        }
      },
      "source": [
        "B.T"
      ],
      "execution_count": 0,
      "outputs": [
        {
          "output_type": "execute_result",
          "data": {
            "text/plain": [
              "array([[ 3,  4,  2,  1],\n",
              "       [ 6,  0, -1,  1]])"
            ]
          },
          "metadata": {
            "tags": []
          },
          "execution_count": 16
        }
      ]
    },
    {
      "cell_type": "code",
      "metadata": {
        "id": "FrL-R9X3q0UF",
        "colab_type": "code",
        "outputId": "1a388935-9ee2-46bd-a435-8dc71d89bad7",
        "colab": {
          "base_uri": "https://localhost:8080/",
          "height": 50
        }
      },
      "source": [
        "B.transpose()"
      ],
      "execution_count": 0,
      "outputs": [
        {
          "output_type": "execute_result",
          "data": {
            "text/plain": [
              "array([[ 3,  4,  2,  1],\n",
              "       [ 6,  0, -1,  1]])"
            ]
          },
          "metadata": {
            "tags": []
          },
          "execution_count": 14
        }
      ]
    },
    {
      "cell_type": "code",
      "metadata": {
        "id": "5qu9n2cFrXkv",
        "colab_type": "code",
        "outputId": "8bb5d45b-4e2e-48ac-a6f3-51160b8dc639",
        "colab": {
          "base_uri": "https://localhost:8080/",
          "height": 50
        }
      },
      "source": [
        "np.transpose(B)"
      ],
      "execution_count": 0,
      "outputs": [
        {
          "output_type": "execute_result",
          "data": {
            "text/plain": [
              "array([[ 3,  4,  2,  1],\n",
              "       [ 6,  0, -1,  1]])"
            ]
          },
          "metadata": {
            "tags": []
          },
          "execution_count": 17
        }
      ]
    },
    {
      "cell_type": "markdown",
      "metadata": {
        "id": "_WUCQBFCrndh",
        "colab_type": "text"
      },
      "source": [
        "Zadanie 4. Znajdź macierz odwrotną $\\mathbf{A}^{-1}$"
      ]
    },
    {
      "cell_type": "code",
      "metadata": {
        "id": "ZpWelaeRr062",
        "colab_type": "code",
        "outputId": "ebf58be5-0342-4c84-a7be-9add0b23c981",
        "colab": {
          "base_uri": "https://localhost:8080/",
          "height": 84
        }
      },
      "source": [
        "np.linalg.inv(A)"
      ],
      "execution_count": 0,
      "outputs": [
        {
          "output_type": "execute_result",
          "data": {
            "text/plain": [
              "array([[ 1.42207792,  0.2012987 , -0.51298701,  0.63636364],\n",
              "       [-0.43506494, -0.08441558,  0.34415584, -0.36363636],\n",
              "       [-0.44805195,  0.03246753,  0.17532468, -0.09090909],\n",
              "       [-0.66883117,  0.01948052,  0.30519481, -0.45454545]])"
            ]
          },
          "metadata": {
            "tags": []
          },
          "execution_count": 18
        }
      ]
    },
    {
      "cell_type": "code",
      "metadata": {
        "id": "b-fTcg45r5gC",
        "colab_type": "code",
        "outputId": "15daf64a-0ce6-41b5-9791-4c8f4ca66944",
        "colab": {
          "base_uri": "https://localhost:8080/",
          "height": 151
        }
      },
      "source": [
        "np.linalg.inv(A) @ A"
      ],
      "execution_count": 0,
      "outputs": [
        {
          "output_type": "execute_result",
          "data": {
            "text/plain": [
              "array([[ 1.00000000e+00,  4.44089210e-16,  6.66133815e-16,\n",
              "         0.00000000e+00],\n",
              "       [ 1.11022302e-16,  1.00000000e+00,  1.11022302e-16,\n",
              "        -2.22044605e-16],\n",
              "       [-5.55111512e-17, -4.16333634e-17,  1.00000000e+00,\n",
              "        -5.55111512e-17],\n",
              "       [ 0.00000000e+00,  2.22044605e-16,  0.00000000e+00,\n",
              "         1.00000000e+00]])"
            ]
          },
          "metadata": {
            "tags": []
          },
          "execution_count": 19
        }
      ]
    },
    {
      "cell_type": "markdown",
      "metadata": {
        "id": "6_bsPbInst6U",
        "colab_type": "text"
      },
      "source": [
        "Zadanie 5. Znajdź macierz $\\mathbf{A}^3$"
      ]
    },
    {
      "cell_type": "code",
      "metadata": {
        "id": "iPmKntsds1rY",
        "colab_type": "code",
        "outputId": "e4928236-96bf-45df-9d68-ca1ff5dd4499",
        "colab": {
          "base_uri": "https://localhost:8080/",
          "height": 84
        }
      },
      "source": [
        "A @ A @ A"
      ],
      "execution_count": 0,
      "outputs": [
        {
          "output_type": "execute_result",
          "data": {
            "text/plain": [
              "array([[ -15,   51,   38,  -98],\n",
              "       [ 190,   94,  111,  261],\n",
              "       [ 151,  241,  341, -109],\n",
              "       [ 103,   38,  158,   69]])"
            ]
          },
          "metadata": {
            "tags": []
          },
          "execution_count": 20
        }
      ]
    },
    {
      "cell_type": "code",
      "metadata": {
        "id": "8OXpz-W3tK4k",
        "colab_type": "code",
        "outputId": "8acaeabc-567a-4b55-cdd8-8abe850fe75d",
        "colab": {
          "base_uri": "https://localhost:8080/",
          "height": 84
        }
      },
      "source": [
        "np.linalg.matrix_power(A, 3)"
      ],
      "execution_count": 0,
      "outputs": [
        {
          "output_type": "execute_result",
          "data": {
            "text/plain": [
              "array([[ -15,   51,   38,  -98],\n",
              "       [ 190,   94,  111,  261],\n",
              "       [ 151,  241,  341, -109],\n",
              "       [ 103,   38,  158,   69]])"
            ]
          },
          "metadata": {
            "tags": []
          },
          "execution_count": 21
        }
      ]
    },
    {
      "cell_type": "markdown",
      "metadata": {
        "id": "bmmCi6-Zt5KV",
        "colab_type": "text"
      },
      "source": [
        "## tworzymy tabliczkę mnożenia na kilka sposobów"
      ]
    },
    {
      "cell_type": "code",
      "metadata": {
        "id": "nfuTH_3auAVq",
        "colab_type": "code",
        "outputId": "15d0f272-3c41-4f7a-e5be-5d9f88013312",
        "colab": {
          "base_uri": "https://localhost:8080/",
          "height": 185
        }
      },
      "source": [
        "wynik1 = np.zeros([10,10], dtype = int)\n",
        "print(wynik1)"
      ],
      "execution_count": 0,
      "outputs": [
        {
          "output_type": "stream",
          "text": [
            "[[0 0 0 0 0 0 0 0 0 0]\n",
            " [0 0 0 0 0 0 0 0 0 0]\n",
            " [0 0 0 0 0 0 0 0 0 0]\n",
            " [0 0 0 0 0 0 0 0 0 0]\n",
            " [0 0 0 0 0 0 0 0 0 0]\n",
            " [0 0 0 0 0 0 0 0 0 0]\n",
            " [0 0 0 0 0 0 0 0 0 0]\n",
            " [0 0 0 0 0 0 0 0 0 0]\n",
            " [0 0 0 0 0 0 0 0 0 0]\n",
            " [0 0 0 0 0 0 0 0 0 0]]\n"
          ],
          "name": "stdout"
        }
      ]
    },
    {
      "cell_type": "code",
      "metadata": {
        "id": "S0v9zAx_ufHq",
        "colab_type": "code",
        "outputId": "46a3012e-b44e-4a2f-8709-3f4d2788a687",
        "colab": {
          "base_uri": "https://localhost:8080/",
          "height": 185
        }
      },
      "source": [
        "wynik1[0,0] = 1\n",
        "print(wynik1)"
      ],
      "execution_count": 0,
      "outputs": [
        {
          "output_type": "stream",
          "text": [
            "[[1 0 0 0 0 0 0 0 0 0]\n",
            " [0 0 0 0 0 0 0 0 0 0]\n",
            " [0 0 0 0 0 0 0 0 0 0]\n",
            " [0 0 0 0 0 0 0 0 0 0]\n",
            " [0 0 0 0 0 0 0 0 0 0]\n",
            " [0 0 0 0 0 0 0 0 0 0]\n",
            " [0 0 0 0 0 0 0 0 0 0]\n",
            " [0 0 0 0 0 0 0 0 0 0]\n",
            " [0 0 0 0 0 0 0 0 0 0]\n",
            " [0 0 0 0 0 0 0 0 0 0]]\n"
          ],
          "name": "stdout"
        }
      ]
    },
    {
      "cell_type": "code",
      "metadata": {
        "id": "l4k2U4ItvIfn",
        "colab_type": "code",
        "outputId": "a2f5e275-40a0-4f0f-dea5-47695136afff",
        "colab": {
          "base_uri": "https://localhost:8080/",
          "height": 202
        }
      },
      "source": [
        "zakres =  np.arange(0, 10) + 1\n",
        "print(zakres)\n",
        "\n",
        "for i in zakres:\n",
        "  for j in zakres:\n",
        "    wynik1[i-1, j-1] = i*j\n",
        "\n",
        "wynik1"
      ],
      "execution_count": 0,
      "outputs": [
        {
          "output_type": "stream",
          "text": [
            "[ 1  2  3  4  5  6  7  8  9 10]\n"
          ],
          "name": "stdout"
        },
        {
          "output_type": "execute_result",
          "data": {
            "text/plain": [
              "array([[  1,   2,   3,   4,   5,   6,   7,   8,   9,  10],\n",
              "       [  2,   4,   6,   8,  10,  12,  14,  16,  18,  20],\n",
              "       [  3,   6,   9,  12,  15,  18,  21,  24,  27,  30],\n",
              "       [  4,   8,  12,  16,  20,  24,  28,  32,  36,  40],\n",
              "       [  5,  10,  15,  20,  25,  30,  35,  40,  45,  50],\n",
              "       [  6,  12,  18,  24,  30,  36,  42,  48,  54,  60],\n",
              "       [  7,  14,  21,  28,  35,  42,  49,  56,  63,  70],\n",
              "       [  8,  16,  24,  32,  40,  48,  56,  64,  72,  80],\n",
              "       [  9,  18,  27,  36,  45,  54,  63,  72,  81,  90],\n",
              "       [ 10,  20,  30,  40,  50,  60,  70,  80,  90, 100]])"
            ]
          },
          "metadata": {
            "tags": []
          },
          "execution_count": 72
        }
      ]
    },
    {
      "cell_type": "markdown",
      "metadata": {
        "id": "qmcd3RblwyMh",
        "colab_type": "text"
      },
      "source": [
        "Tabliczka mnożenia macierzowo"
      ]
    },
    {
      "cell_type": "code",
      "metadata": {
        "id": "puuvvy55w0j4",
        "colab_type": "code",
        "outputId": "46ec423b-6204-4dbc-d5ca-335e77066eb4",
        "colab": {
          "base_uri": "https://localhost:8080/",
          "height": 185
        }
      },
      "source": [
        "Z = np.arange(0,10)+1\n",
        "\n",
        "Z.reshape(10,1) @ Z.reshape(1, 10)\n"
      ],
      "execution_count": 0,
      "outputs": [
        {
          "output_type": "execute_result",
          "data": {
            "text/plain": [
              "array([[  1,   2,   3,   4,   5,   6,   7,   8,   9,  10],\n",
              "       [  2,   4,   6,   8,  10,  12,  14,  16,  18,  20],\n",
              "       [  3,   6,   9,  12,  15,  18,  21,  24,  27,  30],\n",
              "       [  4,   8,  12,  16,  20,  24,  28,  32,  36,  40],\n",
              "       [  5,  10,  15,  20,  25,  30,  35,  40,  45,  50],\n",
              "       [  6,  12,  18,  24,  30,  36,  42,  48,  54,  60],\n",
              "       [  7,  14,  21,  28,  35,  42,  49,  56,  63,  70],\n",
              "       [  8,  16,  24,  32,  40,  48,  56,  64,  72,  80],\n",
              "       [  9,  18,  27,  36,  45,  54,  63,  72,  81,  90],\n",
              "       [ 10,  20,  30,  40,  50,  60,  70,  80,  90, 100]])"
            ]
          },
          "metadata": {
            "tags": []
          },
          "execution_count": 69
        }
      ]
    },
    {
      "cell_type": "code",
      "metadata": {
        "id": "2U32PKc3zEoc",
        "colab_type": "code",
        "outputId": "c8ba07f5-c537-4081-b6b5-c58ee734c62d",
        "colab": {
          "base_uri": "https://localhost:8080/",
          "height": 185
        }
      },
      "source": [
        "np.outer(Z, Z)"
      ],
      "execution_count": 0,
      "outputs": [
        {
          "output_type": "execute_result",
          "data": {
            "text/plain": [
              "array([[  1,   2,   3,   4,   5,   6,   7,   8,   9,  10],\n",
              "       [  2,   4,   6,   8,  10,  12,  14,  16,  18,  20],\n",
              "       [  3,   6,   9,  12,  15,  18,  21,  24,  27,  30],\n",
              "       [  4,   8,  12,  16,  20,  24,  28,  32,  36,  40],\n",
              "       [  5,  10,  15,  20,  25,  30,  35,  40,  45,  50],\n",
              "       [  6,  12,  18,  24,  30,  36,  42,  48,  54,  60],\n",
              "       [  7,  14,  21,  28,  35,  42,  49,  56,  63,  70],\n",
              "       [  8,  16,  24,  32,  40,  48,  56,  64,  72,  80],\n",
              "       [  9,  18,  27,  36,  45,  54,  63,  72,  81,  90],\n",
              "       [ 10,  20,  30,  40,  50,  60,  70,  80,  90, 100]])"
            ]
          },
          "metadata": {
            "tags": []
          },
          "execution_count": 71
        }
      ]
    },
    {
      "cell_type": "markdown",
      "metadata": {
        "id": "_77MbPOlzvvb",
        "colab_type": "text"
      },
      "source": [
        "Zadanie 6. W programie Python na 3 rózne sposoby zadeklaruj macierz postaci:"
      ]
    },
    {
      "cell_type": "code",
      "metadata": {
        "id": "6bis7bX0zyxn",
        "colab_type": "code",
        "outputId": "49f461c4-abb8-4414-e0e3-069be0df35f5",
        "colab": {
          "base_uri": "https://localhost:8080/",
          "height": 67
        }
      },
      "source": [
        "dane = np.arange(1, 10)\n",
        "A = dane.reshape(3,3)\n",
        "A"
      ],
      "execution_count": 0,
      "outputs": [
        {
          "output_type": "execute_result",
          "data": {
            "text/plain": [
              "array([[1, 2, 3],\n",
              "       [4, 5, 6],\n",
              "       [7, 8, 9]])"
            ]
          },
          "metadata": {
            "tags": []
          },
          "execution_count": 77
        }
      ]
    },
    {
      "cell_type": "markdown",
      "metadata": {
        "id": "Jfth0-lb0JVr",
        "colab_type": "text"
      },
      "source": [
        "1. Wyznacz liczbe wierszy i kolumn macierzy A.\n",
        "2. Wyznacz sume wszystkich elementów macierzy A.\n",
        "3. Wyznacz sumy wszytkich elementów w poszczególnych kolumnach macierzy\n",
        "A.\n",
        "4. Wyznacz sumy wszytkich elementów w poszczególnych wierszach macierzy A.\n",
        "5. Wyznacz srednie wszytkich elementów w poszczególnych kolumnach macierzy\n",
        "A.\n",
        "6. Wyznacz srednie wszytkich elementów w poszczególnych wierszach macierzy\n",
        "A.\n",
        "7. Oblicz A11 + A32.\n",
        "8. Wyswietl zawartosc drugiej kolumny.\n",
        "9. Wyswietl zawartosc pierwszego wiersza."
      ]
    },
    {
      "cell_type": "code",
      "metadata": {
        "id": "OWX6YE8i0KwD",
        "colab_type": "code",
        "outputId": "acc5f5dd-96bc-4f16-c008-6b5f7a159822",
        "colab": {
          "base_uri": "https://localhost:8080/",
          "height": 34
        }
      },
      "source": [
        "A.shape # zad 6.1\n",
        "A.sum() # zad 6.2\n",
        "A.sum(axis = 0) # zad 6.3\n",
        "A.sum(axis = 1) # zad 6.4\n",
        "A.mean(axis = 0) # zad 6.5\n",
        "A.mean(axis = 1) # zad 6.6\n",
        "\n",
        "A[0,0] + A[2,1] # zad 6.7\n",
        "A[0][0] + A[2][1] # zad 6.7\n",
        "\n",
        "A[:, 1] # druga kolumna\n",
        "A[0, :] # A[0] ## pierwszy wiersz"
      ],
      "execution_count": 0,
      "outputs": [
        {
          "output_type": "execute_result",
          "data": {
            "text/plain": [
              "array([1, 2, 3])"
            ]
          },
          "metadata": {
            "tags": []
          },
          "execution_count": 98
        }
      ]
    }
  ]
}