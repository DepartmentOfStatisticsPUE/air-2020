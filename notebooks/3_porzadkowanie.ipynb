{
  "nbformat": 4,
  "nbformat_minor": 0,
  "metadata": {
    "colab": {
      "name": "4-porzadkowanie.ipynb",
      "provenance": [],
      "collapsed_sections": [],
      "include_colab_link": true
    },
    "kernelspec": {
      "name": "python3",
      "display_name": "Python 3"
    }
  },
  "cells": [
    {
      "cell_type": "markdown",
      "metadata": {
        "id": "view-in-github",
        "colab_type": "text"
      },
      "source": [
        "<a href=\"https://colab.research.google.com/github/DepartmentOfStatisticsPUE/air-2020/blob/master/notebooks/4_porzadkowanie.ipynb\" target=\"_parent\"><img src=\"https://colab.research.google.com/assets/colab-badge.svg\" alt=\"Open In Colab\"/></a>"
      ]
    },
    {
      "cell_type": "code",
      "metadata": {
        "id": "vzKOm82_aqQr",
        "colab_type": "code",
        "colab": {}
      },
      "source": [
        "import pandas as pd\n",
        "import numpy as np"
      ],
      "execution_count": 0,
      "outputs": []
    },
    {
      "cell_type": "code",
      "metadata": {
        "id": "E5WTN5JPax_y",
        "colab_type": "code",
        "outputId": "9f6e00f2-f79e-4c56-b4d3-dca3288cdc09",
        "colab": {
          "base_uri": "https://localhost:8080/",
          "height": 202
        }
      },
      "source": [
        "powiaty=pd.read_excel(\"Powiaty.xls\")\n",
        "powiaty.head()"
      ],
      "execution_count": 0,
      "outputs": [
        {
          "output_type": "execute_result",
          "data": {
            "text/html": [
              "<div>\n",
              "<style scoped>\n",
              "    .dataframe tbody tr th:only-of-type {\n",
              "        vertical-align: middle;\n",
              "    }\n",
              "\n",
              "    .dataframe tbody tr th {\n",
              "        vertical-align: top;\n",
              "    }\n",
              "\n",
              "    .dataframe thead th {\n",
              "        text-align: right;\n",
              "    }\n",
              "</style>\n",
              "<table border=\"1\" class=\"dataframe\">\n",
              "  <thead>\n",
              "    <tr style=\"text-align: right;\">\n",
              "      <th></th>\n",
              "      <th>Powiaty</th>\n",
              "      <th>Id</th>\n",
              "      <th>X1_s</th>\n",
              "      <th>X2_s</th>\n",
              "      <th>X3_d</th>\n",
              "      <th>X4_d</th>\n",
              "      <th>X5_d</th>\n",
              "      <th>X6_d</th>\n",
              "    </tr>\n",
              "  </thead>\n",
              "  <tbody>\n",
              "    <tr>\n",
              "      <th>0</th>\n",
              "      <td>chodzieski</td>\n",
              "      <td>251</td>\n",
              "      <td>0.638029</td>\n",
              "      <td>1648.80</td>\n",
              "      <td>0.231</td>\n",
              "      <td>0.282360</td>\n",
              "      <td>0.536464</td>\n",
              "      <td>0.064824</td>\n",
              "    </tr>\n",
              "    <tr>\n",
              "      <th>1</th>\n",
              "      <td>czarnkowsko-trzcianecki</td>\n",
              "      <td>252</td>\n",
              "      <td>0.635018</td>\n",
              "      <td>1800.35</td>\n",
              "      <td>0.248</td>\n",
              "      <td>0.295556</td>\n",
              "      <td>0.512332</td>\n",
              "      <td>0.115621</td>\n",
              "    </tr>\n",
              "    <tr>\n",
              "      <th>2</th>\n",
              "      <td>gnieźnieński</td>\n",
              "      <td>253</td>\n",
              "      <td>0.571948</td>\n",
              "      <td>1801.16</td>\n",
              "      <td>0.232</td>\n",
              "      <td>0.308769</td>\n",
              "      <td>0.468553</td>\n",
              "      <td>0.246254</td>\n",
              "    </tr>\n",
              "    <tr>\n",
              "      <th>3</th>\n",
              "      <td>gostyński</td>\n",
              "      <td>254</td>\n",
              "      <td>0.707542</td>\n",
              "      <td>1815.27</td>\n",
              "      <td>0.194</td>\n",
              "      <td>0.362074</td>\n",
              "      <td>0.470871</td>\n",
              "      <td>0.077338</td>\n",
              "    </tr>\n",
              "    <tr>\n",
              "      <th>4</th>\n",
              "      <td>grodziski</td>\n",
              "      <td>255</td>\n",
              "      <td>0.645110</td>\n",
              "      <td>1710.91</td>\n",
              "      <td>0.121</td>\n",
              "      <td>0.412271</td>\n",
              "      <td>0.417134</td>\n",
              "      <td>0.141414</td>\n",
              "    </tr>\n",
              "  </tbody>\n",
              "</table>\n",
              "</div>"
            ],
            "text/plain": [
              "                   Powiaty   Id      X1_s  ...      X4_d      X5_d      X6_d\n",
              "0               chodzieski  251  0.638029  ...  0.282360  0.536464  0.064824\n",
              "1  czarnkowsko-trzcianecki  252  0.635018  ...  0.295556  0.512332  0.115621\n",
              "2             gnieźnieński  253  0.571948  ...  0.308769  0.468553  0.246254\n",
              "3                gostyński  254  0.707542  ...  0.362074  0.470871  0.077338\n",
              "4                grodziski  255  0.645110  ...  0.412271  0.417134  0.141414\n",
              "\n",
              "[5 rows x 8 columns]"
            ]
          },
          "metadata": {
            "tags": []
          },
          "execution_count": 2
        }
      ]
    },
    {
      "cell_type": "markdown",
      "metadata": {
        "id": "R-rVsSGNbfYQ",
        "colab_type": "text"
      },
      "source": [
        "Tworzymy nowe zmienne, które będą znormalizowanymi zmiennymi diagnostycznymi. "
      ]
    },
    {
      "cell_type": "code",
      "metadata": {
        "id": "uKLw2VdpbnJc",
        "colab_type": "code",
        "outputId": "5d02c604-d392-45bd-de5d-9e3b454ebeee",
        "colab": {
          "base_uri": "https://localhost:8080/",
          "height": 173
        }
      },
      "source": [
        "powiaty[\"z1\"] = (powiaty.X1_s - min(powiaty.X1_s)) / (max(powiaty.X1_s) - min(powiaty.X1_s))\n",
        "powiaty.z1.describe()"
      ],
      "execution_count": 0,
      "outputs": [
        {
          "output_type": "execute_result",
          "data": {
            "text/plain": [
              "count    35.000000\n",
              "mean      0.664574\n",
              "std       0.174233\n",
              "min       0.000000\n",
              "25%       0.602556\n",
              "50%       0.671521\n",
              "75%       0.729207\n",
              "max       1.000000\n",
              "Name: z1, dtype: float64"
            ]
          },
          "metadata": {
            "tags": []
          },
          "execution_count": 3
        }
      ]
    },
    {
      "cell_type": "markdown",
      "metadata": {
        "id": "x1oxQLZ5dCvI",
        "colab_type": "text"
      },
      "source": [
        "Pętla for"
      ]
    },
    {
      "cell_type": "code",
      "metadata": {
        "id": "RDQnFeyNdEBv",
        "colab_type": "code",
        "outputId": "284469f3-adb4-48bc-a816-b121ddd47195",
        "colab": {
          "base_uri": "https://localhost:8080/",
          "height": 191
        }
      },
      "source": [
        "for i in range(0,10):\n",
        "  print(i)"
      ],
      "execution_count": 0,
      "outputs": [
        {
          "output_type": "stream",
          "text": [
            "0\n",
            "1\n",
            "2\n",
            "3\n",
            "4\n",
            "5\n",
            "6\n",
            "7\n",
            "8\n",
            "9\n"
          ],
          "name": "stdout"
        }
      ]
    },
    {
      "cell_type": "markdown",
      "metadata": {
        "id": "tUFCgrxodc9D",
        "colab_type": "text"
      },
      "source": [
        "Pętla for z enumerate"
      ]
    },
    {
      "cell_type": "code",
      "metadata": {
        "id": "PniJknLRde8t",
        "colab_type": "code",
        "outputId": "0307a1af-1349-4e77-827c-7809d0923b0e",
        "colab": {
          "base_uri": "https://localhost:8080/",
          "height": 121
        }
      },
      "source": [
        "for i, j in enumerate([\"atrakcyjnośc\", \"inwestycyjna\", \"regionów\"]):\n",
        "  print(i)\n",
        "  print(j)"
      ],
      "execution_count": 0,
      "outputs": [
        {
          "output_type": "stream",
          "text": [
            "0\n",
            "atrakcyjnośc\n",
            "1\n",
            "inwestycyjna\n",
            "2\n",
            "regionów\n"
          ],
          "name": "stdout"
        }
      ]
    },
    {
      "cell_type": "markdown",
      "metadata": {
        "id": "jhlG-RsJeDdt",
        "colab_type": "text"
      },
      "source": [
        "Sklejanie tekstów"
      ]
    },
    {
      "cell_type": "code",
      "metadata": {
        "id": "6B5F9oMzeF1X",
        "colab_type": "code",
        "outputId": "d82d0825-0bd1-44bb-968d-7dbcc9d90972",
        "colab": {
          "base_uri": "https://localhost:8080/",
          "height": 35
        }
      },
      "source": [
        "\"ala\" + \"ma\" + \"kota\""
      ],
      "execution_count": 0,
      "outputs": [
        {
          "output_type": "execute_result",
          "data": {
            "text/plain": [
              "'alamakota'"
            ]
          },
          "metadata": {
            "tags": []
          },
          "execution_count": 6
        }
      ]
    },
    {
      "cell_type": "markdown",
      "metadata": {
        "id": "D9zJpQYueo9Z",
        "colab_type": "text"
      },
      "source": [
        "Tworzymy pętlę w której przejdziemy przez wszystkie stymulanty i utworzymy nowe zmienne z1, z2, z3.\n"
      ]
    },
    {
      "cell_type": "code",
      "metadata": {
        "id": "Hag7ggQyen-k",
        "colab_type": "code",
        "outputId": "15d02091-334f-4fa3-9221-dfdeb4edf974",
        "colab": {
          "base_uri": "https://localhost:8080/",
          "height": 202
        }
      },
      "source": [
        "for i, j in enumerate([\"X1_s\",\"X2_s\"]):\n",
        "  nowa_zmienna = \"z\" + str(i)\n",
        "  powiaty[nowa_zmienna] = (powiaty[j] - min(powiaty[j])) / (max(powiaty[j])-min(powiaty[j]))\n",
        "  \n",
        "powiaty.head()"
      ],
      "execution_count": 0,
      "outputs": [
        {
          "output_type": "execute_result",
          "data": {
            "text/html": [
              "<div>\n",
              "<style scoped>\n",
              "    .dataframe tbody tr th:only-of-type {\n",
              "        vertical-align: middle;\n",
              "    }\n",
              "\n",
              "    .dataframe tbody tr th {\n",
              "        vertical-align: top;\n",
              "    }\n",
              "\n",
              "    .dataframe thead th {\n",
              "        text-align: right;\n",
              "    }\n",
              "</style>\n",
              "<table border=\"1\" class=\"dataframe\">\n",
              "  <thead>\n",
              "    <tr style=\"text-align: right;\">\n",
              "      <th></th>\n",
              "      <th>Powiaty</th>\n",
              "      <th>Id</th>\n",
              "      <th>X1_s</th>\n",
              "      <th>X2_s</th>\n",
              "      <th>X3_d</th>\n",
              "      <th>X4_d</th>\n",
              "      <th>X5_d</th>\n",
              "      <th>X6_d</th>\n",
              "      <th>z1</th>\n",
              "      <th>z0</th>\n",
              "    </tr>\n",
              "  </thead>\n",
              "  <tbody>\n",
              "    <tr>\n",
              "      <th>0</th>\n",
              "      <td>chodzieski</td>\n",
              "      <td>251</td>\n",
              "      <td>0.638029</td>\n",
              "      <td>1648.80</td>\n",
              "      <td>0.231</td>\n",
              "      <td>0.282360</td>\n",
              "      <td>0.536464</td>\n",
              "      <td>0.064824</td>\n",
              "      <td>0.253130</td>\n",
              "      <td>0.706672</td>\n",
              "    </tr>\n",
              "    <tr>\n",
              "      <th>1</th>\n",
              "      <td>czarnkowsko-trzcianecki</td>\n",
              "      <td>252</td>\n",
              "      <td>0.635018</td>\n",
              "      <td>1800.35</td>\n",
              "      <td>0.248</td>\n",
              "      <td>0.295556</td>\n",
              "      <td>0.512332</td>\n",
              "      <td>0.115621</td>\n",
              "      <td>0.384236</td>\n",
              "      <td>0.701631</td>\n",
              "    </tr>\n",
              "    <tr>\n",
              "      <th>2</th>\n",
              "      <td>gnieźnieński</td>\n",
              "      <td>253</td>\n",
              "      <td>0.571948</td>\n",
              "      <td>1801.16</td>\n",
              "      <td>0.232</td>\n",
              "      <td>0.308769</td>\n",
              "      <td>0.468553</td>\n",
              "      <td>0.246254</td>\n",
              "      <td>0.384937</td>\n",
              "      <td>0.596050</td>\n",
              "    </tr>\n",
              "    <tr>\n",
              "      <th>3</th>\n",
              "      <td>gostyński</td>\n",
              "      <td>254</td>\n",
              "      <td>0.707542</td>\n",
              "      <td>1815.27</td>\n",
              "      <td>0.194</td>\n",
              "      <td>0.362074</td>\n",
              "      <td>0.470871</td>\n",
              "      <td>0.077338</td>\n",
              "      <td>0.397143</td>\n",
              "      <td>0.823039</td>\n",
              "    </tr>\n",
              "    <tr>\n",
              "      <th>4</th>\n",
              "      <td>grodziski</td>\n",
              "      <td>255</td>\n",
              "      <td>0.645110</td>\n",
              "      <td>1710.91</td>\n",
              "      <td>0.121</td>\n",
              "      <td>0.412271</td>\n",
              "      <td>0.417134</td>\n",
              "      <td>0.141414</td>\n",
              "      <td>0.306861</td>\n",
              "      <td>0.718526</td>\n",
              "    </tr>\n",
              "  </tbody>\n",
              "</table>\n",
              "</div>"
            ],
            "text/plain": [
              "                   Powiaty   Id      X1_s  ...      X6_d        z1        z0\n",
              "0               chodzieski  251  0.638029  ...  0.064824  0.253130  0.706672\n",
              "1  czarnkowsko-trzcianecki  252  0.635018  ...  0.115621  0.384236  0.701631\n",
              "2             gnieźnieński  253  0.571948  ...  0.246254  0.384937  0.596050\n",
              "3                gostyński  254  0.707542  ...  0.077338  0.397143  0.823039\n",
              "4                grodziski  255  0.645110  ...  0.141414  0.306861  0.718526\n",
              "\n",
              "[5 rows x 10 columns]"
            ]
          },
          "metadata": {
            "tags": []
          },
          "execution_count": 14
        }
      ]
    },
    {
      "cell_type": "code",
      "metadata": {
        "id": "_LCeZCiDiGBr",
        "colab_type": "code",
        "outputId": "91573d0d-6b1f-4183-b636-03cc8cde6914",
        "colab": {
          "base_uri": "https://localhost:8080/",
          "height": 314
        }
      },
      "source": [
        "for i, j in enumerate([\"X3_d\",\"X4_d\", \"X5_d\", \"X6_d\"]):\n",
        "  nowa_zmienna = \"z\" + str(i+2)\n",
        "  powiaty[nowa_zmienna] = (max(powiaty[j])-powiaty[j]) / (max(powiaty[j])-min(powiaty[j]))\n",
        "  \n",
        "powiaty.describe()"
      ],
      "execution_count": 0,
      "outputs": [
        {
          "output_type": "execute_result",
          "data": {
            "text/html": [
              "<div>\n",
              "<style scoped>\n",
              "    .dataframe tbody tr th:only-of-type {\n",
              "        vertical-align: middle;\n",
              "    }\n",
              "\n",
              "    .dataframe tbody tr th {\n",
              "        vertical-align: top;\n",
              "    }\n",
              "\n",
              "    .dataframe thead th {\n",
              "        text-align: right;\n",
              "    }\n",
              "</style>\n",
              "<table border=\"1\" class=\"dataframe\">\n",
              "  <thead>\n",
              "    <tr style=\"text-align: right;\">\n",
              "      <th></th>\n",
              "      <th>Id</th>\n",
              "      <th>X1_s</th>\n",
              "      <th>X2_s</th>\n",
              "      <th>X3_d</th>\n",
              "      <th>X4_d</th>\n",
              "      <th>X5_d</th>\n",
              "      <th>X6_d</th>\n",
              "      <th>z1</th>\n",
              "      <th>z0</th>\n",
              "      <th>z2</th>\n",
              "      <th>z3</th>\n",
              "      <th>z4</th>\n",
              "      <th>z5</th>\n",
              "    </tr>\n",
              "  </thead>\n",
              "  <tbody>\n",
              "    <tr>\n",
              "      <th>count</th>\n",
              "      <td>35.000000</td>\n",
              "      <td>35.000000</td>\n",
              "      <td>35.000000</td>\n",
              "      <td>35.000000</td>\n",
              "      <td>35.000000</td>\n",
              "      <td>35.000000</td>\n",
              "      <td>35.000000</td>\n",
              "      <td>35.000000</td>\n",
              "      <td>35.000000</td>\n",
              "      <td>35.000000</td>\n",
              "      <td>35.000000</td>\n",
              "      <td>35.000000</td>\n",
              "      <td>35.000000</td>\n",
              "    </tr>\n",
              "    <tr>\n",
              "      <th>mean</th>\n",
              "      <td>268.000000</td>\n",
              "      <td>0.612881</td>\n",
              "      <td>1829.547429</td>\n",
              "      <td>0.180771</td>\n",
              "      <td>0.333395</td>\n",
              "      <td>0.477209</td>\n",
              "      <td>0.146212</td>\n",
              "      <td>0.409495</td>\n",
              "      <td>0.664574</td>\n",
              "      <td>0.467755</td>\n",
              "      <td>0.465635</td>\n",
              "      <td>0.494289</td>\n",
              "      <td>0.809949</td>\n",
              "    </tr>\n",
              "    <tr>\n",
              "      <th>std</th>\n",
              "      <td>10.246951</td>\n",
              "      <td>0.104079</td>\n",
              "      <td>245.764738</td>\n",
              "      <td>0.048488</td>\n",
              "      <td>0.039804</td>\n",
              "      <td>0.059129</td>\n",
              "      <td>0.087077</td>\n",
              "      <td>0.212612</td>\n",
              "      <td>0.174233</td>\n",
              "      <td>0.230894</td>\n",
              "      <td>0.234979</td>\n",
              "      <td>0.232728</td>\n",
              "      <td>0.203337</td>\n",
              "    </tr>\n",
              "    <tr>\n",
              "      <th>min</th>\n",
              "      <td>251.000000</td>\n",
              "      <td>0.215894</td>\n",
              "      <td>1356.200000</td>\n",
              "      <td>0.069000</td>\n",
              "      <td>0.242877</td>\n",
              "      <td>0.348723</td>\n",
              "      <td>0.064824</td>\n",
              "      <td>0.000000</td>\n",
              "      <td>0.000000</td>\n",
              "      <td>0.000000</td>\n",
              "      <td>0.000000</td>\n",
              "      <td>0.000000</td>\n",
              "      <td>0.000000</td>\n",
              "    </tr>\n",
              "    <tr>\n",
              "      <th>25%</th>\n",
              "      <td>259.500000</td>\n",
              "      <td>0.575835</td>\n",
              "      <td>1666.365000</td>\n",
              "      <td>0.142500</td>\n",
              "      <td>0.306919</td>\n",
              "      <td>0.436512</td>\n",
              "      <td>0.088203</td>\n",
              "      <td>0.268325</td>\n",
              "      <td>0.602556</td>\n",
              "      <td>0.271429</td>\n",
              "      <td>0.271943</td>\n",
              "      <td>0.332606</td>\n",
              "      <td>0.777517</td>\n",
              "    </tr>\n",
              "    <tr>\n",
              "      <th>50%</th>\n",
              "      <td>268.000000</td>\n",
              "      <td>0.617031</td>\n",
              "      <td>1795.930000</td>\n",
              "      <td>0.182000</td>\n",
              "      <td>0.336082</td>\n",
              "      <td>0.470871</td>\n",
              "      <td>0.124622</td>\n",
              "      <td>0.380412</td>\n",
              "      <td>0.671521</td>\n",
              "      <td>0.461905</td>\n",
              "      <td>0.449770</td>\n",
              "      <td>0.519235</td>\n",
              "      <td>0.860363</td>\n",
              "    </tr>\n",
              "    <tr>\n",
              "      <th>75%</th>\n",
              "      <td>276.500000</td>\n",
              "      <td>0.651491</td>\n",
              "      <td>1948.235000</td>\n",
              "      <td>0.222000</td>\n",
              "      <td>0.366205</td>\n",
              "      <td>0.518288</td>\n",
              "      <td>0.160100</td>\n",
              "      <td>0.512172</td>\n",
              "      <td>0.729207</td>\n",
              "      <td>0.650000</td>\n",
              "      <td>0.621935</td>\n",
              "      <td>0.654467</td>\n",
              "      <td>0.945407</td>\n",
              "    </tr>\n",
              "    <tr>\n",
              "      <th>max</th>\n",
              "      <td>285.000000</td>\n",
              "      <td>0.813250</td>\n",
              "      <td>2512.130000</td>\n",
              "      <td>0.279000</td>\n",
              "      <td>0.412271</td>\n",
              "      <td>0.602793</td>\n",
              "      <td>0.493064</td>\n",
              "      <td>1.000000</td>\n",
              "      <td>1.000000</td>\n",
              "      <td>1.000000</td>\n",
              "      <td>1.000000</td>\n",
              "      <td>1.000000</td>\n",
              "      <td>1.000000</td>\n",
              "    </tr>\n",
              "  </tbody>\n",
              "</table>\n",
              "</div>"
            ],
            "text/plain": [
              "               Id       X1_s         X2_s  ...         z3         z4         z5\n",
              "count   35.000000  35.000000    35.000000  ...  35.000000  35.000000  35.000000\n",
              "mean   268.000000   0.612881  1829.547429  ...   0.465635   0.494289   0.809949\n",
              "std     10.246951   0.104079   245.764738  ...   0.234979   0.232728   0.203337\n",
              "min    251.000000   0.215894  1356.200000  ...   0.000000   0.000000   0.000000\n",
              "25%    259.500000   0.575835  1666.365000  ...   0.271943   0.332606   0.777517\n",
              "50%    268.000000   0.617031  1795.930000  ...   0.449770   0.519235   0.860363\n",
              "75%    276.500000   0.651491  1948.235000  ...   0.621935   0.654467   0.945407\n",
              "max    285.000000   0.813250  2512.130000  ...   1.000000   1.000000   1.000000\n",
              "\n",
              "[8 rows x 13 columns]"
            ]
          },
          "metadata": {
            "tags": []
          },
          "execution_count": 26
        }
      ]
    },
    {
      "cell_type": "markdown",
      "metadata": {
        "id": "D5tdKSFLj5oW",
        "colab_type": "text"
      },
      "source": [
        "Tworzymy pętlę for ale z warunkowym przebiegiem"
      ]
    },
    {
      "cell_type": "code",
      "metadata": {
        "id": "8Aya40DGkEo9",
        "colab_type": "code",
        "outputId": "338c5a5d-3974-4617-ee21-3f230661b973",
        "colab": {
          "base_uri": "https://localhost:8080/",
          "height": 69
        }
      },
      "source": [
        "powiaty.columns"
      ],
      "execution_count": 0,
      "outputs": [
        {
          "output_type": "execute_result",
          "data": {
            "text/plain": [
              "Index(['Powiaty', 'Id', 'X1_s', 'X2_s', 'X3_d', 'X4_d', 'X5_d', 'X6_d', 'z1',\n",
              "       'z0', 'z2', 'z3', 'z4', 'z5'],\n",
              "      dtype='object')"
            ]
          },
          "metadata": {
            "tags": []
          },
          "execution_count": 28
        }
      ]
    },
    {
      "cell_type": "code",
      "metadata": {
        "id": "Ui0j82S8hRde",
        "colab_type": "code",
        "outputId": "98ab0df9-4b5b-4b98-856d-f6086ee19f46",
        "colab": {
          "base_uri": "https://localhost:8080/",
          "height": 239
        }
      },
      "source": [
        "for i, value in enumerate(powiaty.columns):\n",
        "  if value.endswith(\"_d\"):\n",
        "    nz = \"z\" + str(i-1)  \n",
        "    powiaty[nz] = (max(powiaty[value])-powiaty[value])/(max(powiaty[value])-min(powiaty[value]))\n",
        "  elif value.endswith(\"_s\"): \n",
        "    nz = \"z\" + str(i-1)  \n",
        "    powiaty[nz] = (powiaty[value]-min(powiaty[value]))/(max(powiaty[value])-min(powiaty[value]))\n",
        "    \n",
        "powiaty.head()"
      ],
      "execution_count": 0,
      "outputs": [
        {
          "output_type": "execute_result",
          "data": {
            "text/html": [
              "<div>\n",
              "<style scoped>\n",
              "    .dataframe tbody tr th:only-of-type {\n",
              "        vertical-align: middle;\n",
              "    }\n",
              "\n",
              "    .dataframe tbody tr th {\n",
              "        vertical-align: top;\n",
              "    }\n",
              "\n",
              "    .dataframe thead th {\n",
              "        text-align: right;\n",
              "    }\n",
              "</style>\n",
              "<table border=\"1\" class=\"dataframe\">\n",
              "  <thead>\n",
              "    <tr style=\"text-align: right;\">\n",
              "      <th></th>\n",
              "      <th>Powiaty</th>\n",
              "      <th>Id</th>\n",
              "      <th>X1_s</th>\n",
              "      <th>X2_s</th>\n",
              "      <th>X3_d</th>\n",
              "      <th>X4_d</th>\n",
              "      <th>X5_d</th>\n",
              "      <th>X6_d</th>\n",
              "      <th>z1</th>\n",
              "      <th>z0</th>\n",
              "      <th>z2</th>\n",
              "      <th>z3</th>\n",
              "      <th>z4</th>\n",
              "      <th>z5</th>\n",
              "      <th>z6</th>\n",
              "    </tr>\n",
              "  </thead>\n",
              "  <tbody>\n",
              "    <tr>\n",
              "      <th>0</th>\n",
              "      <td>chodzieski</td>\n",
              "      <td>251</td>\n",
              "      <td>0.638029</td>\n",
              "      <td>1648.80</td>\n",
              "      <td>0.231</td>\n",
              "      <td>0.282360</td>\n",
              "      <td>0.536464</td>\n",
              "      <td>0.064824</td>\n",
              "      <td>0.706672</td>\n",
              "      <td>0.706672</td>\n",
              "      <td>0.253130</td>\n",
              "      <td>0.228571</td>\n",
              "      <td>0.766913</td>\n",
              "      <td>0.261067</td>\n",
              "      <td>1.000000</td>\n",
              "    </tr>\n",
              "    <tr>\n",
              "      <th>1</th>\n",
              "      <td>czarnkowsko-trzcianecki</td>\n",
              "      <td>252</td>\n",
              "      <td>0.635018</td>\n",
              "      <td>1800.35</td>\n",
              "      <td>0.248</td>\n",
              "      <td>0.295556</td>\n",
              "      <td>0.512332</td>\n",
              "      <td>0.115621</td>\n",
              "      <td>0.701631</td>\n",
              "      <td>0.701631</td>\n",
              "      <td>0.384236</td>\n",
              "      <td>0.147619</td>\n",
              "      <td>0.689012</td>\n",
              "      <td>0.356047</td>\n",
              "      <td>0.881383</td>\n",
              "    </tr>\n",
              "    <tr>\n",
              "      <th>2</th>\n",
              "      <td>gnieźnieński</td>\n",
              "      <td>253</td>\n",
              "      <td>0.571948</td>\n",
              "      <td>1801.16</td>\n",
              "      <td>0.232</td>\n",
              "      <td>0.308769</td>\n",
              "      <td>0.468553</td>\n",
              "      <td>0.246254</td>\n",
              "      <td>0.596050</td>\n",
              "      <td>0.596050</td>\n",
              "      <td>0.384937</td>\n",
              "      <td>0.223810</td>\n",
              "      <td>0.611014</td>\n",
              "      <td>0.528359</td>\n",
              "      <td>0.576335</td>\n",
              "    </tr>\n",
              "    <tr>\n",
              "      <th>3</th>\n",
              "      <td>gostyński</td>\n",
              "      <td>254</td>\n",
              "      <td>0.707542</td>\n",
              "      <td>1815.27</td>\n",
              "      <td>0.194</td>\n",
              "      <td>0.362074</td>\n",
              "      <td>0.470871</td>\n",
              "      <td>0.077338</td>\n",
              "      <td>0.823039</td>\n",
              "      <td>0.823039</td>\n",
              "      <td>0.397143</td>\n",
              "      <td>0.404762</td>\n",
              "      <td>0.296332</td>\n",
              "      <td>0.519235</td>\n",
              "      <td>0.970780</td>\n",
              "    </tr>\n",
              "    <tr>\n",
              "      <th>4</th>\n",
              "      <td>grodziski</td>\n",
              "      <td>255</td>\n",
              "      <td>0.645110</td>\n",
              "      <td>1710.91</td>\n",
              "      <td>0.121</td>\n",
              "      <td>0.412271</td>\n",
              "      <td>0.417134</td>\n",
              "      <td>0.141414</td>\n",
              "      <td>0.718526</td>\n",
              "      <td>0.718526</td>\n",
              "      <td>0.306861</td>\n",
              "      <td>0.752381</td>\n",
              "      <td>0.000000</td>\n",
              "      <td>0.730738</td>\n",
              "      <td>0.821152</td>\n",
              "    </tr>\n",
              "  </tbody>\n",
              "</table>\n",
              "</div>"
            ],
            "text/plain": [
              "                   Powiaty   Id      X1_s  ...        z4        z5        z6\n",
              "0               chodzieski  251  0.638029  ...  0.766913  0.261067  1.000000\n",
              "1  czarnkowsko-trzcianecki  252  0.635018  ...  0.689012  0.356047  0.881383\n",
              "2             gnieźnieński  253  0.571948  ...  0.611014  0.528359  0.576335\n",
              "3                gostyński  254  0.707542  ...  0.296332  0.519235  0.970780\n",
              "4                grodziski  255  0.645110  ...  0.000000  0.730738  0.821152\n",
              "\n",
              "[5 rows x 15 columns]"
            ]
          },
          "metadata": {
            "tags": []
          },
          "execution_count": 38
        }
      ]
    },
    {
      "cell_type": "code",
      "metadata": {
        "id": "BvnLOfIFmCiP",
        "colab_type": "code",
        "outputId": "6673d6f2-37b4-4850-c1b5-6f2e335e980f",
        "colab": {
          "base_uri": "https://localhost:8080/",
          "height": 1000
        }
      },
      "source": [
        "powiaty[\"SMR\"]=powiaty[[\"z1\",\"z2\",\"z3\",\"z4\",\"z5\",\"z6\"]].mean(axis=1)\n",
        "powiaty.head()\n",
        "powiaty.sort_values(by = \"SMR\", ascending = False)[[\"Powiaty\",\"SMR\"]]"
      ],
      "execution_count": 0,
      "outputs": [
        {
          "output_type": "execute_result",
          "data": {
            "text/html": [
              "<div>\n",
              "<style scoped>\n",
              "    .dataframe tbody tr th:only-of-type {\n",
              "        vertical-align: middle;\n",
              "    }\n",
              "\n",
              "    .dataframe tbody tr th {\n",
              "        vertical-align: top;\n",
              "    }\n",
              "\n",
              "    .dataframe thead th {\n",
              "        text-align: right;\n",
              "    }\n",
              "</style>\n",
              "<table border=\"1\" class=\"dataframe\">\n",
              "  <thead>\n",
              "    <tr style=\"text-align: right;\">\n",
              "      <th></th>\n",
              "      <th>Powiaty</th>\n",
              "      <th>SMR</th>\n",
              "    </tr>\n",
              "  </thead>\n",
              "  <tbody>\n",
              "    <tr>\n",
              "      <th>34</th>\n",
              "      <td>Poznań</td>\n",
              "      <td>0.867575</td>\n",
              "    </tr>\n",
              "    <tr>\n",
              "      <th>20</th>\n",
              "      <td>poznański</td>\n",
              "      <td>0.796835</td>\n",
              "    </tr>\n",
              "    <tr>\n",
              "      <th>33</th>\n",
              "      <td>Leszno</td>\n",
              "      <td>0.691035</td>\n",
              "    </tr>\n",
              "    <tr>\n",
              "      <th>31</th>\n",
              "      <td>Kalisz</td>\n",
              "      <td>0.643147</td>\n",
              "    </tr>\n",
              "    <tr>\n",
              "      <th>23</th>\n",
              "      <td>szamotulski</td>\n",
              "      <td>0.629432</td>\n",
              "    </tr>\n",
              "    <tr>\n",
              "      <th>28</th>\n",
              "      <td>wolsztyński</td>\n",
              "      <td>0.625491</td>\n",
              "    </tr>\n",
              "    <tr>\n",
              "      <th>12</th>\n",
              "      <td>leszczyński</td>\n",
              "      <td>0.625481</td>\n",
              "    </tr>\n",
              "    <tr>\n",
              "      <th>17</th>\n",
              "      <td>ostrzeszowski</td>\n",
              "      <td>0.618537</td>\n",
              "    </tr>\n",
              "    <tr>\n",
              "      <th>10</th>\n",
              "      <td>kościański</td>\n",
              "      <td>0.612419</td>\n",
              "    </tr>\n",
              "    <tr>\n",
              "      <th>24</th>\n",
              "      <td>średzki</td>\n",
              "      <td>0.601480</td>\n",
              "    </tr>\n",
              "    <tr>\n",
              "      <th>32</th>\n",
              "      <td>Konin</td>\n",
              "      <td>0.599757</td>\n",
              "    </tr>\n",
              "    <tr>\n",
              "      <th>13</th>\n",
              "      <td>międzychodzki</td>\n",
              "      <td>0.588654</td>\n",
              "    </tr>\n",
              "    <tr>\n",
              "      <th>25</th>\n",
              "      <td>śremski</td>\n",
              "      <td>0.577358</td>\n",
              "    </tr>\n",
              "    <tr>\n",
              "      <th>14</th>\n",
              "      <td>nowotomyski</td>\n",
              "      <td>0.576002</td>\n",
              "    </tr>\n",
              "    <tr>\n",
              "      <th>3</th>\n",
              "      <td>gostyński</td>\n",
              "      <td>0.568549</td>\n",
              "    </tr>\n",
              "    <tr>\n",
              "      <th>21</th>\n",
              "      <td>rawicki</td>\n",
              "      <td>0.566985</td>\n",
              "    </tr>\n",
              "    <tr>\n",
              "      <th>18</th>\n",
              "      <td>pilski</td>\n",
              "      <td>0.562546</td>\n",
              "    </tr>\n",
              "    <tr>\n",
              "      <th>4</th>\n",
              "      <td>grodziski</td>\n",
              "      <td>0.554943</td>\n",
              "    </tr>\n",
              "    <tr>\n",
              "      <th>0</th>\n",
              "      <td>chodzieski</td>\n",
              "      <td>0.536059</td>\n",
              "    </tr>\n",
              "    <tr>\n",
              "      <th>16</th>\n",
              "      <td>ostrowski</td>\n",
              "      <td>0.529157</td>\n",
              "    </tr>\n",
              "    <tr>\n",
              "      <th>7</th>\n",
              "      <td>kępiński</td>\n",
              "      <td>0.528314</td>\n",
              "    </tr>\n",
              "    <tr>\n",
              "      <th>1</th>\n",
              "      <td>czarnkowsko-trzcianecki</td>\n",
              "      <td>0.526655</td>\n",
              "    </tr>\n",
              "    <tr>\n",
              "      <th>30</th>\n",
              "      <td>złotowski</td>\n",
              "      <td>0.497160</td>\n",
              "    </tr>\n",
              "    <tr>\n",
              "      <th>11</th>\n",
              "      <td>krotoszyński</td>\n",
              "      <td>0.489971</td>\n",
              "    </tr>\n",
              "    <tr>\n",
              "      <th>2</th>\n",
              "      <td>gnieźnieński</td>\n",
              "      <td>0.486751</td>\n",
              "    </tr>\n",
              "    <tr>\n",
              "      <th>26</th>\n",
              "      <td>turecki</td>\n",
              "      <td>0.481182</td>\n",
              "    </tr>\n",
              "    <tr>\n",
              "      <th>15</th>\n",
              "      <td>obornicki</td>\n",
              "      <td>0.467892</td>\n",
              "    </tr>\n",
              "    <tr>\n",
              "      <th>29</th>\n",
              "      <td>wrzesiński</td>\n",
              "      <td>0.459157</td>\n",
              "    </tr>\n",
              "    <tr>\n",
              "      <th>27</th>\n",
              "      <td>wągrowiecki</td>\n",
              "      <td>0.447456</td>\n",
              "    </tr>\n",
              "    <tr>\n",
              "      <th>6</th>\n",
              "      <td>kaliski</td>\n",
              "      <td>0.439388</td>\n",
              "    </tr>\n",
              "    <tr>\n",
              "      <th>8</th>\n",
              "      <td>kolski</td>\n",
              "      <td>0.437525</td>\n",
              "    </tr>\n",
              "    <tr>\n",
              "      <th>19</th>\n",
              "      <td>pleszewski</td>\n",
              "      <td>0.435867</td>\n",
              "    </tr>\n",
              "    <tr>\n",
              "      <th>22</th>\n",
              "      <td>słupecki</td>\n",
              "      <td>0.429735</td>\n",
              "    </tr>\n",
              "    <tr>\n",
              "      <th>9</th>\n",
              "      <td>koniński</td>\n",
              "      <td>0.420625</td>\n",
              "    </tr>\n",
              "    <tr>\n",
              "      <th>5</th>\n",
              "      <td>jarociński</td>\n",
              "      <td>0.399115</td>\n",
              "    </tr>\n",
              "  </tbody>\n",
              "</table>\n",
              "</div>"
            ],
            "text/plain": [
              "                    Powiaty       SMR\n",
              "34                   Poznań  0.867575\n",
              "20                poznański  0.796835\n",
              "33                   Leszno  0.691035\n",
              "31                   Kalisz  0.643147\n",
              "23              szamotulski  0.629432\n",
              "28              wolsztyński  0.625491\n",
              "12              leszczyński  0.625481\n",
              "17            ostrzeszowski  0.618537\n",
              "10               kościański  0.612419\n",
              "24                  średzki  0.601480\n",
              "32                    Konin  0.599757\n",
              "13            międzychodzki  0.588654\n",
              "25                  śremski  0.577358\n",
              "14              nowotomyski  0.576002\n",
              "3                 gostyński  0.568549\n",
              "21                  rawicki  0.566985\n",
              "18                   pilski  0.562546\n",
              "4                 grodziski  0.554943\n",
              "0                chodzieski  0.536059\n",
              "16                ostrowski  0.529157\n",
              "7                  kępiński  0.528314\n",
              "1   czarnkowsko-trzcianecki  0.526655\n",
              "30                złotowski  0.497160\n",
              "11             krotoszyński  0.489971\n",
              "2              gnieźnieński  0.486751\n",
              "26                  turecki  0.481182\n",
              "15                obornicki  0.467892\n",
              "29               wrzesiński  0.459157\n",
              "27              wągrowiecki  0.447456\n",
              "6                   kaliski  0.439388\n",
              "8                    kolski  0.437525\n",
              "19               pleszewski  0.435867\n",
              "22                 słupecki  0.429735\n",
              "9                  koniński  0.420625\n",
              "5                jarociński  0.399115"
            ]
          },
          "metadata": {
            "tags": []
          },
          "execution_count": 48
        }
      ]
    }
  ]
}