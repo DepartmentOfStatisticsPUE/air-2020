{
  "nbformat": 4,
  "nbformat_minor": 0,
  "metadata": {
    "colab": {
      "name": "3-pandas-podsumowanie.ipynb",
      "provenance": [],
      "collapsed_sections": [],
      "include_colab_link": true
    },
    "kernelspec": {
      "name": "python3",
      "display_name": "Python 3"
    }
  },
  "cells": [
    {
      "cell_type": "markdown",
      "metadata": {
        "id": "view-in-github",
        "colab_type": "text"
      },
      "source": [
        "<a href=\"https://colab.research.google.com/github/DepartmentOfStatisticsPUE/air-2020/blob/master/notebooks/3_pandas_podsumowanie.ipynb\" target=\"_parent\"><img src=\"https://colab.research.google.com/assets/colab-badge.svg\" alt=\"Open In Colab\"/></a>"
      ]
    },
    {
      "cell_type": "markdown",
      "metadata": {
        "id": "aVp9KotMDNmZ",
        "colab_type": "text"
      },
      "source": [
        "1. Wczytanie modułów pandas i numpy\n"
      ]
    },
    {
      "cell_type": "code",
      "metadata": {
        "id": "Zz3a7UX_Cl5s",
        "colab_type": "code",
        "colab": {}
      },
      "source": [
        "import numpy as np\n",
        "import pandas as pd"
      ],
      "execution_count": 0,
      "outputs": []
    },
    {
      "cell_type": "markdown",
      "metadata": {
        "id": "NxLbQebZDXrA",
        "colab_type": "text"
      },
      "source": [
        "2. wczytanie danych z excela\n"
      ]
    },
    {
      "cell_type": "code",
      "metadata": {
        "id": "iD-NtjWcDZ3O",
        "colab_type": "code",
        "outputId": "4e0a703d-7e1d-4002-c0f3-f70f6ff2f198",
        "colab": {
          "base_uri": "https://localhost:8080/",
          "height": 202
        }
      },
      "source": [
        "dane=pd.read_excel(\"gospodarstwa.xlsx\")\n",
        "dane.head()"
      ],
      "execution_count": 0,
      "outputs": [
        {
          "output_type": "execute_result",
          "data": {
            "text/html": [
              "<div>\n",
              "<style scoped>\n",
              "    .dataframe tbody tr th:only-of-type {\n",
              "        vertical-align: middle;\n",
              "    }\n",
              "\n",
              "    .dataframe tbody tr th {\n",
              "        vertical-align: top;\n",
              "    }\n",
              "\n",
              "    .dataframe thead th {\n",
              "        text-align: right;\n",
              "    }\n",
              "</style>\n",
              "<table border=\"1\" class=\"dataframe\">\n",
              "  <thead>\n",
              "    <tr style=\"text-align: right;\">\n",
              "      <th></th>\n",
              "      <th>klm</th>\n",
              "      <th>woj</th>\n",
              "      <th>trb</th>\n",
              "      <th>zut</th>\n",
              "      <th>d21</th>\n",
              "      <th>d32</th>\n",
              "      <th>d345</th>\n",
              "      <th>d347</th>\n",
              "      <th>d348</th>\n",
              "      <th>d36</th>\n",
              "      <th>d38</th>\n",
              "      <th>d61</th>\n",
              "      <th>d63</th>\n",
              "      <th>los</th>\n",
              "      <th>dochg</th>\n",
              "      <th>wydg</th>\n",
              "    </tr>\n",
              "  </thead>\n",
              "  <tbody>\n",
              "    <tr>\n",
              "      <th>0</th>\n",
              "      <td>1</td>\n",
              "      <td>2</td>\n",
              "      <td>11</td>\n",
              "      <td>5</td>\n",
              "      <td>2</td>\n",
              "      <td>1</td>\n",
              "      <td>1</td>\n",
              "      <td>2</td>\n",
              "      <td>1</td>\n",
              "      <td>69</td>\n",
              "      <td>2</td>\n",
              "      <td>3</td>\n",
              "      <td>3</td>\n",
              "      <td>1.0</td>\n",
              "      <td>1191.41</td>\n",
              "      <td>1037.29</td>\n",
              "    </tr>\n",
              "    <tr>\n",
              "      <th>1</th>\n",
              "      <td>1</td>\n",
              "      <td>2</td>\n",
              "      <td>6</td>\n",
              "      <td>1</td>\n",
              "      <td>2</td>\n",
              "      <td>1</td>\n",
              "      <td>2</td>\n",
              "      <td>2</td>\n",
              "      <td>1</td>\n",
              "      <td>74</td>\n",
              "      <td>3</td>\n",
              "      <td>4</td>\n",
              "      <td>2</td>\n",
              "      <td>2.0</td>\n",
              "      <td>821.00</td>\n",
              "      <td>887.01</td>\n",
              "    </tr>\n",
              "    <tr>\n",
              "      <th>2</th>\n",
              "      <td>1</td>\n",
              "      <td>2</td>\n",
              "      <td>3</td>\n",
              "      <td>1</td>\n",
              "      <td>1</td>\n",
              "      <td>3</td>\n",
              "      <td>1</td>\n",
              "      <td>2</td>\n",
              "      <td>1</td>\n",
              "      <td>83</td>\n",
              "      <td>3</td>\n",
              "      <td>4</td>\n",
              "      <td>1</td>\n",
              "      <td>4.0</td>\n",
              "      <td>6669.87</td>\n",
              "      <td>6792.13</td>\n",
              "    </tr>\n",
              "    <tr>\n",
              "      <th>3</th>\n",
              "      <td>1</td>\n",
              "      <td>2</td>\n",
              "      <td>12</td>\n",
              "      <td>5</td>\n",
              "      <td>2</td>\n",
              "      <td>1</td>\n",
              "      <td>3</td>\n",
              "      <td>3</td>\n",
              "      <td>2</td>\n",
              "      <td>44</td>\n",
              "      <td>2</td>\n",
              "      <td>4</td>\n",
              "      <td>1</td>\n",
              "      <td>3.0</td>\n",
              "      <td>1872.59</td>\n",
              "      <td>1806.83</td>\n",
              "    </tr>\n",
              "    <tr>\n",
              "      <th>4</th>\n",
              "      <td>1</td>\n",
              "      <td>2</td>\n",
              "      <td>1</td>\n",
              "      <td>5</td>\n",
              "      <td>1</td>\n",
              "      <td>3</td>\n",
              "      <td>1</td>\n",
              "      <td>2</td>\n",
              "      <td>1</td>\n",
              "      <td>110</td>\n",
              "      <td>5</td>\n",
              "      <td>4</td>\n",
              "      <td>2</td>\n",
              "      <td>2.0</td>\n",
              "      <td>1731.44</td>\n",
              "      <td>2795.08</td>\n",
              "    </tr>\n",
              "  </tbody>\n",
              "</table>\n",
              "</div>"
            ],
            "text/plain": [
              "   klm  woj  trb  zut  d21  d32  ...  d38  d61  d63  los    dochg     wydg\n",
              "0    1    2   11    5    2    1  ...    2    3    3  1.0  1191.41  1037.29\n",
              "1    1    2    6    1    2    1  ...    3    4    2  2.0   821.00   887.01\n",
              "2    1    2    3    1    1    3  ...    3    4    1  4.0  6669.87  6792.13\n",
              "3    1    2   12    5    2    1  ...    2    4    1  3.0  1872.59  1806.83\n",
              "4    1    2    1    5    1    3  ...    5    4    2  2.0  1731.44  2795.08\n",
              "\n",
              "[5 rows x 16 columns]"
            ]
          },
          "metadata": {
            "tags": []
          },
          "execution_count": 57
        }
      ]
    },
    {
      "cell_type": "markdown",
      "metadata": {
        "id": "vRaxe1O-DwGK",
        "colab_type": "text"
      },
      "source": [
        "**Zadanie 2**. Utwórz zbiór, w którym są gospodarstwa ze wsi."
      ]
    },
    {
      "cell_type": "code",
      "metadata": {
        "id": "nAm3y39RDxgE",
        "colab_type": "code",
        "outputId": "f130519e-eab0-47f2-966d-8a7bcbf760a3",
        "colab": {
          "base_uri": "https://localhost:8080/",
          "height": 35
        }
      },
      "source": [
        "wies=dane.loc[dane.klm == 6] ## wies=dane.loc[dane[\"klm\"] == 6]\n",
        "wies.shape"
      ],
      "execution_count": 0,
      "outputs": [
        {
          "output_type": "execute_result",
          "data": {
            "text/plain": [
              "(10642, 16)"
            ]
          },
          "metadata": {
            "tags": []
          },
          "execution_count": 7
        }
      ]
    },
    {
      "cell_type": "markdown",
      "metadata": {
        "id": "Kvg-obs8FF1i",
        "colab_type": "text"
      },
      "source": [
        "**Zadanie 3**. Utwórz zbiór, w którym sa gospodarstwa o dochodach > 2000 zł."
      ]
    },
    {
      "cell_type": "code",
      "metadata": {
        "id": "VQljF6nPFHf8",
        "colab_type": "code",
        "outputId": "6b9dad72-ba2d-43ec-e46c-998acb8f4024",
        "colab": {
          "base_uri": "https://localhost:8080/",
          "height": 173
        }
      },
      "source": [
        "zad3=dane.loc[dane.dochg > 2000]\n",
        "zad3.dochg.describe()"
      ],
      "execution_count": 0,
      "outputs": [
        {
          "output_type": "execute_result",
          "data": {
            "text/plain": [
              "count    13820.000000\n",
              "mean      3310.709436\n",
              "std       1810.110084\n",
              "min       2000.200000\n",
              "25%       2350.000000\n",
              "50%       2822.610000\n",
              "75%       3638.030000\n",
              "max      50151.970000\n",
              "Name: dochg, dtype: float64"
            ]
          },
          "metadata": {
            "tags": []
          },
          "execution_count": 11
        }
      ]
    },
    {
      "cell_type": "markdown",
      "metadata": {
        "id": "xDhCfEppGXw3",
        "colab_type": "text"
      },
      "source": [
        "**Zadanie 5**. Wyswietl informacje o gospodarstwach z województwa dolnoslaskiego\n",
        "i mazowieckiego z miast powyzej 500 tys. mieszkanców"
      ]
    },
    {
      "cell_type": "code",
      "metadata": {
        "id": "HrdHwR2hGZu3",
        "colab_type": "code",
        "outputId": "18e0f503-358c-4cd2-e1a9-de034ffab96b",
        "colab": {
          "base_uri": "https://localhost:8080/",
          "height": 52
        }
      },
      "source": [
        "wyn1=dane.loc[ ( (dane.woj == 2) | (dane.woj == 14) ) & (dane.klm == 1)]\n",
        "\n",
        "wyn2=dane.loc[ dane.woj.isin([2, 14]) & (dane.klm == 1)]\n",
        "\n",
        "print(wyn1.shape)\n",
        "\n",
        "print(wyn2.shape)"
      ],
      "execution_count": 0,
      "outputs": [
        {
          "output_type": "stream",
          "text": [
            "(2401, 16)\n",
            "(2401, 16)\n"
          ],
          "name": "stdout"
        }
      ]
    },
    {
      "cell_type": "markdown",
      "metadata": {
        "id": "NSeDsgCFJeDy",
        "colab_type": "text"
      },
      "source": [
        "**Zadanie 6**. Losowo wybierz zbiór 30% gospodarstw domowych."
      ]
    },
    {
      "cell_type": "code",
      "metadata": {
        "id": "vgzmEyMlJgf1",
        "colab_type": "code",
        "colab": {}
      },
      "source": [
        "np.random.seed(123)\n",
        "\n",
        "ncases = dane.shape[0]\n",
        "\n",
        "sample = round(0.3*ncases)\n",
        "\n",
        "print(ncases, sample)\n",
        "\n",
        "rows = np.random.randint(low = 0, high = ncases, size = sample)\n",
        "\n",
        "dane.iloc[rows]"
      ],
      "execution_count": 0,
      "outputs": []
    },
    {
      "cell_type": "markdown",
      "metadata": {
        "id": "JPE-Q0SZNHpi",
        "colab_type": "text"
      },
      "source": [
        "**Zadanie 7**. Losowo wybierz 100 gospodarstw."
      ]
    },
    {
      "cell_type": "code",
      "metadata": {
        "id": "IUTZP-DgNLdV",
        "colab_type": "code",
        "colab": {}
      },
      "source": [
        "np.random.seed(123)\n",
        "dane.iloc[ np.random.randint(low=0,high=ncases,size =100) ]"
      ],
      "execution_count": 0,
      "outputs": []
    },
    {
      "cell_type": "markdown",
      "metadata": {
        "id": "-_OkmBz9Nzak",
        "colab_type": "text"
      },
      "source": [
        "**Zadanie 12**. Wybierz wszystkie kolumny, które zaczynaja sie na litere d."
      ]
    },
    {
      "cell_type": "code",
      "metadata": {
        "id": "jidyX6XZN0uY",
        "colab_type": "code",
        "colab": {}
      },
      "source": [
        "flag = dane.columns.str.startswith(\"d\")\n",
        "dane[ dane.columns[flag] ]"
      ],
      "execution_count": 0,
      "outputs": []
    },
    {
      "cell_type": "markdown",
      "metadata": {
        "id": "dgIl1rsMPTL6",
        "colab_type": "text"
      },
      "source": [
        "**Zadanie 13**. Wybierz wszystkie kolumny, które koncza sie na oj."
      ]
    },
    {
      "cell_type": "code",
      "metadata": {
        "id": "0w93yxGEPUxX",
        "colab_type": "code",
        "colab": {}
      },
      "source": [
        "flag=dane.columns.str.endswith(\"oj\")\n",
        "dane[dane.columns[flag]]"
      ],
      "execution_count": 0,
      "outputs": []
    },
    {
      "cell_type": "markdown",
      "metadata": {
        "id": "hAxVMTL7Pz5n",
        "colab_type": "text"
      },
      "source": [
        "**Zadanie 14**. Utwórz nowa zmienna roznica=dochg-wydg. Pozostaw w zbiorze zmienne\n",
        "dochg, wydg i roznica."
      ]
    },
    {
      "cell_type": "code",
      "metadata": {
        "id": "D1-gC-CMP1tB",
        "colab_type": "code",
        "outputId": "e738d26f-b062-4949-f21b-89a3d164486f",
        "colab": {
          "base_uri": "https://localhost:8080/",
          "height": 202
        }
      },
      "source": [
        "dane[\"roznica\"] = dane.dochg-dane.wydg \n",
        "\n",
        "## równoważnie: dane[\"roznica\"]=dane[\"dochg\"]-dane[\"wydg\"]\n",
        "\n",
        "dane[ [\"dochg\",\"wydg\",\"roznica\"] ].head()"
      ],
      "execution_count": 0,
      "outputs": [
        {
          "output_type": "execute_result",
          "data": {
            "text/html": [
              "<div>\n",
              "<style scoped>\n",
              "    .dataframe tbody tr th:only-of-type {\n",
              "        vertical-align: middle;\n",
              "    }\n",
              "\n",
              "    .dataframe tbody tr th {\n",
              "        vertical-align: top;\n",
              "    }\n",
              "\n",
              "    .dataframe thead th {\n",
              "        text-align: right;\n",
              "    }\n",
              "</style>\n",
              "<table border=\"1\" class=\"dataframe\">\n",
              "  <thead>\n",
              "    <tr style=\"text-align: right;\">\n",
              "      <th></th>\n",
              "      <th>dochg</th>\n",
              "      <th>wydg</th>\n",
              "      <th>roznica</th>\n",
              "    </tr>\n",
              "  </thead>\n",
              "  <tbody>\n",
              "    <tr>\n",
              "      <th>0</th>\n",
              "      <td>1191.41</td>\n",
              "      <td>1037.29</td>\n",
              "      <td>154.12</td>\n",
              "    </tr>\n",
              "    <tr>\n",
              "      <th>1</th>\n",
              "      <td>821.00</td>\n",
              "      <td>887.01</td>\n",
              "      <td>-66.01</td>\n",
              "    </tr>\n",
              "    <tr>\n",
              "      <th>2</th>\n",
              "      <td>6669.87</td>\n",
              "      <td>6792.13</td>\n",
              "      <td>-122.26</td>\n",
              "    </tr>\n",
              "    <tr>\n",
              "      <th>3</th>\n",
              "      <td>1872.59</td>\n",
              "      <td>1806.83</td>\n",
              "      <td>65.76</td>\n",
              "    </tr>\n",
              "    <tr>\n",
              "      <th>4</th>\n",
              "      <td>1731.44</td>\n",
              "      <td>2795.08</td>\n",
              "      <td>-1063.64</td>\n",
              "    </tr>\n",
              "  </tbody>\n",
              "</table>\n",
              "</div>"
            ],
            "text/plain": [
              "     dochg     wydg  roznica\n",
              "0  1191.41  1037.29   154.12\n",
              "1   821.00   887.01   -66.01\n",
              "2  6669.87  6792.13  -122.26\n",
              "3  1872.59  1806.83    65.76\n",
              "4  1731.44  2795.08 -1063.64"
            ]
          },
          "metadata": {
            "tags": []
          },
          "execution_count": 58
        }
      ]
    },
    {
      "cell_type": "markdown",
      "metadata": {
        "id": "YfJhIDg7REDg",
        "colab_type": "text"
      },
      "source": [
        "**Zadanie 15**. Utwórz nowe zmienne x=ln(dochg) oraz y=ln(wydg). Pamietaj, ze ln liczymy dla dodatnich wartosci."
      ]
    },
    {
      "cell_type": "code",
      "metadata": {
        "id": "H1IDD8TNRGmz",
        "colab_type": "code",
        "outputId": "fcce0630-c2d7-40a7-ad08-a6ffef07b962",
        "colab": {
          "base_uri": "https://localhost:8080/",
          "height": 263
        }
      },
      "source": [
        "dane[\"x\"] = np.log(dane.dochg)\n",
        "dane[\"y\"] = np.log(dane.wydg)\n",
        "\n",
        "dane.x.describe()"
      ],
      "execution_count": 0,
      "outputs": [
        {
          "output_type": "stream",
          "text": [
            "/usr/local/lib/python3.6/dist-packages/ipykernel_launcher.py:1: RuntimeWarning: divide by zero encountered in log\n",
            "  \"\"\"Entry point for launching an IPython kernel.\n",
            "/usr/local/lib/python3.6/dist-packages/ipykernel_launcher.py:1: RuntimeWarning: invalid value encountered in log\n",
            "  \"\"\"Entry point for launching an IPython kernel.\n"
          ],
          "name": "stderr"
        },
        {
          "output_type": "execute_result",
          "data": {
            "text/plain": [
              "count    3.232000e+04\n",
              "mean             -inf\n",
              "std               NaN\n",
              "min              -inf\n",
              "25%      7.097679e+00\n",
              "50%      7.501770e+00\n",
              "75%      7.880372e+00\n",
              "max      1.082281e+01\n",
              "Name: x, dtype: float64"
            ]
          },
          "metadata": {
            "tags": []
          },
          "execution_count": 51
        }
      ]
    },
    {
      "cell_type": "markdown",
      "metadata": {
        "id": "4VfAPpl4SNt9",
        "colab_type": "text"
      },
      "source": [
        "**Zadanie 16**. Dokonaj zamiany nazwy zmiennych dochg na dochod oraz wydg na\n",
        "wydatki."
      ]
    },
    {
      "cell_type": "code",
      "metadata": {
        "id": "dc0PduUbSPsR",
        "colab_type": "code",
        "outputId": "a3b03cc6-a28f-42ba-8498-0d068bc3b5ee",
        "colab": {
          "base_uri": "https://localhost:8080/",
          "height": 295
        }
      },
      "source": [
        "print(dane.head())\n",
        "\n",
        "dane=dane.rename(columns={\"dochg\" : \"dochod\", \"wydg\" : \"wydatki\"})\n",
        "\n",
        "print(dane.head())\n"
      ],
      "execution_count": 0,
      "outputs": [
        {
          "output_type": "stream",
          "text": [
            "   klm  woj  trb  zut  d21  d32  ...  d61  d63  los    dochg     wydg  roznica\n",
            "0    1    2   11    5    2    1  ...    3    3  1.0  1191.41  1037.29   154.12\n",
            "1    1    2    6    1    2    1  ...    4    2  2.0   821.00   887.01   -66.01\n",
            "2    1    2    3    1    1    3  ...    4    1  4.0  6669.87  6792.13  -122.26\n",
            "3    1    2   12    5    2    1  ...    4    1  3.0  1872.59  1806.83    65.76\n",
            "4    1    2    1    5    1    3  ...    4    2  2.0  1731.44  2795.08 -1063.64\n",
            "\n",
            "[5 rows x 17 columns]\n",
            "   klm  woj  trb  zut  d21  d32  ...  d61  d63  los   dochod  wydatki  roznica\n",
            "0    1    2   11    5    2    1  ...    3    3  1.0  1191.41  1037.29   154.12\n",
            "1    1    2    6    1    2    1  ...    4    2  2.0   821.00   887.01   -66.01\n",
            "2    1    2    3    1    1    3  ...    4    1  4.0  6669.87  6792.13  -122.26\n",
            "3    1    2   12    5    2    1  ...    4    1  3.0  1872.59  1806.83    65.76\n",
            "4    1    2    1    5    1    3  ...    4    2  2.0  1731.44  2795.08 -1063.64\n",
            "\n",
            "[5 rows x 17 columns]\n"
          ],
          "name": "stdout"
        }
      ]
    },
    {
      "cell_type": "markdown",
      "metadata": {
        "id": "lsWUa3hHTxmb",
        "colab_type": "text"
      },
      "source": [
        "**Zadanie 17**. Oblicz ile było gospodarstw domowych ze wzgledu na poszczególne\n",
        "warianty zmiennej klm."
      ]
    },
    {
      "cell_type": "code",
      "metadata": {
        "id": "CQKwIRtXT0Kp",
        "colab_type": "code",
        "outputId": "6b37f70a-cd02-4ee1-d984-bd54c09d0e2f",
        "colab": {
          "base_uri": "https://localhost:8080/",
          "height": 156
        }
      },
      "source": [
        "dane.groupby(\"klm\").klm.count()"
      ],
      "execution_count": 0,
      "outputs": [
        {
          "output_type": "execute_result",
          "data": {
            "text/plain": [
              "klm\n",
              "1     4585\n",
              "2     3742\n",
              "3     2965\n",
              "4     6320\n",
              "5     4233\n",
              "6    10642\n",
              "Name: klm, dtype: int64"
            ]
          },
          "metadata": {
            "tags": []
          },
          "execution_count": 63
        }
      ]
    },
    {
      "cell_type": "code",
      "metadata": {
        "id": "OqutWG4IUYz5",
        "colab_type": "code",
        "outputId": "cdfb8b22-4704-4167-9cc6-2e6c3e21e788",
        "colab": {
          "base_uri": "https://localhost:8080/",
          "height": 156
        }
      },
      "source": [
        "## jaki był średni dochód według klm\n",
        "\n",
        "dane.groupby(\"klm\").dochod.mean()"
      ],
      "execution_count": 0,
      "outputs": [
        {
          "output_type": "execute_result",
          "data": {
            "text/plain": [
              "klm\n",
              "1    2711.245356\n",
              "2    2272.834334\n",
              "3    2097.023748\n",
              "4    2097.818083\n",
              "5    2022.226883\n",
              "6    1893.510959\n",
              "Name: dochod, dtype: float64"
            ]
          },
          "metadata": {
            "tags": []
          },
          "execution_count": 64
        }
      ]
    },
    {
      "cell_type": "code",
      "metadata": {
        "id": "Ja0VyR66VKIz",
        "colab_type": "code",
        "outputId": "2ecc5ccb-d25a-4578-a20b-516e1f996f34",
        "colab": {
          "base_uri": "https://localhost:8080/",
          "height": 260
        }
      },
      "source": [
        "dane.groupby([\"klm\",\"d21\"]).dochod.mean()"
      ],
      "execution_count": 0,
      "outputs": [
        {
          "output_type": "execute_result",
          "data": {
            "text/plain": [
              "klm  d21\n",
              "1    1      2736.174755\n",
              "     2      2708.800944\n",
              "2    1      2595.940787\n",
              "     2      2238.843230\n",
              "3    1      2450.216758\n",
              "     2      2052.554578\n",
              "4    1      2299.720729\n",
              "     2      2046.771906\n",
              "5    1      2099.462446\n",
              "     2      1987.676912\n",
              "6    1      1930.246444\n",
              "     2      1792.846689\n",
              "Name: dochod, dtype: float64"
            ]
          },
          "metadata": {
            "tags": []
          },
          "execution_count": 70
        }
      ]
    },
    {
      "cell_type": "code",
      "metadata": {
        "id": "03-dig6aVcUA",
        "colab_type": "code",
        "outputId": "35e49f36-494a-4d2b-bc95-ee8ae6460e57",
        "colab": {
          "base_uri": "https://localhost:8080/",
          "height": 263
        }
      },
      "source": [
        "dane.groupby(\"klm\")[\"dochod\", \"wydatki\"].mean()"
      ],
      "execution_count": 0,
      "outputs": [
        {
          "output_type": "execute_result",
          "data": {
            "text/html": [
              "<div>\n",
              "<style scoped>\n",
              "    .dataframe tbody tr th:only-of-type {\n",
              "        vertical-align: middle;\n",
              "    }\n",
              "\n",
              "    .dataframe tbody tr th {\n",
              "        vertical-align: top;\n",
              "    }\n",
              "\n",
              "    .dataframe thead th {\n",
              "        text-align: right;\n",
              "    }\n",
              "</style>\n",
              "<table border=\"1\" class=\"dataframe\">\n",
              "  <thead>\n",
              "    <tr style=\"text-align: right;\">\n",
              "      <th></th>\n",
              "      <th>dochod</th>\n",
              "      <th>wydatki</th>\n",
              "    </tr>\n",
              "    <tr>\n",
              "      <th>klm</th>\n",
              "      <th></th>\n",
              "      <th></th>\n",
              "    </tr>\n",
              "  </thead>\n",
              "  <tbody>\n",
              "    <tr>\n",
              "      <th>1</th>\n",
              "      <td>2711.245356</td>\n",
              "      <td>2529.691418</td>\n",
              "    </tr>\n",
              "    <tr>\n",
              "      <th>2</th>\n",
              "      <td>2272.834334</td>\n",
              "      <td>2144.037342</td>\n",
              "    </tr>\n",
              "    <tr>\n",
              "      <th>3</th>\n",
              "      <td>2097.023748</td>\n",
              "      <td>1997.231430</td>\n",
              "    </tr>\n",
              "    <tr>\n",
              "      <th>4</th>\n",
              "      <td>2097.818083</td>\n",
              "      <td>1989.254513</td>\n",
              "    </tr>\n",
              "    <tr>\n",
              "      <th>5</th>\n",
              "      <td>2022.226883</td>\n",
              "      <td>1907.465510</td>\n",
              "    </tr>\n",
              "    <tr>\n",
              "      <th>6</th>\n",
              "      <td>1893.510959</td>\n",
              "      <td>1804.656062</td>\n",
              "    </tr>\n",
              "  </tbody>\n",
              "</table>\n",
              "</div>"
            ],
            "text/plain": [
              "          dochod      wydatki\n",
              "klm                          \n",
              "1    2711.245356  2529.691418\n",
              "2    2272.834334  2144.037342\n",
              "3    2097.023748  1997.231430\n",
              "4    2097.818083  1989.254513\n",
              "5    2022.226883  1907.465510\n",
              "6    1893.510959  1804.656062"
            ]
          },
          "metadata": {
            "tags": []
          },
          "execution_count": 73
        }
      ]
    }
  ]
}