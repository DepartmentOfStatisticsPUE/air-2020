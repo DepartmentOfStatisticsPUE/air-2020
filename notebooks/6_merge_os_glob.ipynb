{
  "nbformat": 4,
  "nbformat_minor": 0,
  "metadata": {
    "colab": {
      "name": "6-merge-os-glob.ipynb",
      "provenance": [],
      "collapsed_sections": [],
      "include_colab_link": true
    },
    "kernelspec": {
      "name": "python3",
      "display_name": "Python 3"
    }
  },
  "cells": [
    {
      "cell_type": "markdown",
      "metadata": {
        "id": "view-in-github",
        "colab_type": "text"
      },
      "source": [
        "<a href=\"https://colab.research.google.com/github/DepartmentOfStatisticsPUE/air-2020/blob/master/notebooks/6_merge_os_glob.ipynb\" target=\"_parent\"><img src=\"https://colab.research.google.com/assets/colab-badge.svg\" alt=\"Open In Colab\"/></a>"
      ]
    },
    {
      "cell_type": "markdown",
      "metadata": {
        "id": "M4htPOjrkbq5",
        "colab_type": "text"
      },
      "source": [
        "# Łączenie danych\n",
        "\n",
        "1. cel -  wczytanie danych z plików MS Excel i połączenie ich z  funkcją `pd.concat`"
      ]
    },
    {
      "cell_type": "code",
      "metadata": {
        "id": "TgPh0UlokXGO",
        "colab_type": "code",
        "colab": {}
      },
      "source": [
        "import pandas as pd\n",
        "import numpy as np\n",
        "import os\n",
        "import glob"
      ],
      "execution_count": 0,
      "outputs": []
    },
    {
      "cell_type": "code",
      "metadata": {
        "id": "dYZp01-5lm6C",
        "colab_type": "code",
        "outputId": "41c23b05-e942-415f-c8fd-d7bde5673f51",
        "colab": {
          "base_uri": "https://localhost:8080/",
          "height": 35
        }
      },
      "source": [
        "!pwd"
      ],
      "execution_count": 0,
      "outputs": [
        {
          "output_type": "stream",
          "text": [
            "/content\n"
          ],
          "name": "stdout"
        }
      ]
    },
    {
      "cell_type": "code",
      "metadata": {
        "id": "hxqyvYRklRCQ",
        "colab_type": "code",
        "colab": {}
      },
      "source": [
        "dane2016 = pd.read_excel(io = '/content/wyn_2016.xlsx', sheet_name = 1)\n",
        "dane2018 = pd.read_excel(io = \"/content/wyn_2018.xlsx\", sheet_name = 1)"
      ],
      "execution_count": 0,
      "outputs": []
    },
    {
      "cell_type": "markdown",
      "metadata": {
        "id": "0nfPqr7bl9xY",
        "colab_type": "text"
      },
      "source": [
        "Stosujemy funkcję `pd.concat`"
      ]
    },
    {
      "cell_type": "code",
      "metadata": {
        "id": "KZN4bO36mLRc",
        "colab_type": "code",
        "outputId": "2f162374-e9cf-4236-eb8d-fa0cfc57c8da",
        "colab": {
          "base_uri": "https://localhost:8080/",
          "height": 90
        }
      },
      "source": [
        "dane_razem = pd.concat(objs = [dane2016, dane2018])\n",
        "dane_razem.Rok.value_counts()\n",
        "dane_razem.head()\n",
        "dane_razem.groupby(\"Rok\").Wartosc.mean()"
      ],
      "execution_count": 0,
      "outputs": [
        {
          "output_type": "execute_result",
          "data": {
            "text/plain": [
              "Rok\n",
              "2016    3661.146711\n",
              "2018    4142.137868\n",
              "Name: Wartosc, dtype: float64"
            ]
          },
          "metadata": {
            "tags": []
          },
          "execution_count": 20
        }
      ]
    },
    {
      "cell_type": "code",
      "metadata": {
        "id": "znpyiAXan2z8",
        "colab_type": "code",
        "outputId": "9fd9bbac-ea24-4cae-b8b0-0c910d695ea7",
        "colab": {
          "base_uri": "https://localhost:8080/",
          "height": 198
        }
      },
      "source": [
        "df2016 = dane2016[[\"Kod\", \"Wartosc\"]]\n",
        "df2018 = dane2018[[\"Kod\", \"Wartosc\"]]\n",
        "df2016 = df2016.rename(columns= {\"Wartosc\": \"wynagrodzenia2016\"})\n",
        "df2018 = df2018.rename(columns= {\"Wartosc\": \"wynagrodzenia2018\"})\n",
        "df2016.head()"
      ],
      "execution_count": 0,
      "outputs": [
        {
          "output_type": "execute_result",
          "data": {
            "text/html": [
              "<div>\n",
              "<style scoped>\n",
              "    .dataframe tbody tr th:only-of-type {\n",
              "        vertical-align: middle;\n",
              "    }\n",
              "\n",
              "    .dataframe tbody tr th {\n",
              "        vertical-align: top;\n",
              "    }\n",
              "\n",
              "    .dataframe thead th {\n",
              "        text-align: right;\n",
              "    }\n",
              "</style>\n",
              "<table border=\"1\" class=\"dataframe\">\n",
              "  <thead>\n",
              "    <tr style=\"text-align: right;\">\n",
              "      <th></th>\n",
              "      <th>Kod</th>\n",
              "      <th>wynagrodzenia2016</th>\n",
              "    </tr>\n",
              "  </thead>\n",
              "  <tbody>\n",
              "    <tr>\n",
              "      <th>0</th>\n",
              "      <td>201000</td>\n",
              "      <td>3666.19</td>\n",
              "    </tr>\n",
              "    <tr>\n",
              "      <th>1</th>\n",
              "      <td>202000</td>\n",
              "      <td>3562.63</td>\n",
              "    </tr>\n",
              "    <tr>\n",
              "      <th>2</th>\n",
              "      <td>203000</td>\n",
              "      <td>3723.59</td>\n",
              "    </tr>\n",
              "    <tr>\n",
              "      <th>3</th>\n",
              "      <td>204000</td>\n",
              "      <td>3386.93</td>\n",
              "    </tr>\n",
              "    <tr>\n",
              "      <th>4</th>\n",
              "      <td>205000</td>\n",
              "      <td>3546.24</td>\n",
              "    </tr>\n",
              "  </tbody>\n",
              "</table>\n",
              "</div>"
            ],
            "text/plain": [
              "      Kod  wynagrodzenia2016\n",
              "0  201000            3666.19\n",
              "1  202000            3562.63\n",
              "2  203000            3723.59\n",
              "3  204000            3386.93\n",
              "4  205000            3546.24"
            ]
          },
          "metadata": {
            "tags": []
          },
          "execution_count": 26
        }
      ]
    },
    {
      "cell_type": "markdown",
      "metadata": {
        "id": "pXctJYpZpBL_",
        "colab_type": "text"
      },
      "source": [
        "Łączymy dane z 2016 roku z danymi z 2018 roku po kluczu \"Kod\""
      ]
    },
    {
      "cell_type": "code",
      "metadata": {
        "id": "E3bpVg6zpAn4",
        "colab_type": "code",
        "outputId": "f7802445-cd6b-404e-a788-7fbe181acad7",
        "colab": {
          "base_uri": "https://localhost:8080/",
          "height": 297
        }
      },
      "source": [
        "wynik = pd.merge(left = df2016, right=df2018, how = \"inner\", on = \"Kod\")\n",
        "wynik.head()\n",
        "\n",
        "wynik.plot.scatter(\"wynagrodzenia2016\", \"wynagrodzenia2018\")"
      ],
      "execution_count": 0,
      "outputs": [
        {
          "output_type": "execute_result",
          "data": {
            "text/plain": [
              "<matplotlib.axes._subplots.AxesSubplot at 0x7f5007bd0438>"
            ]
          },
          "metadata": {
            "tags": []
          },
          "execution_count": 31
        },
        {
          "output_type": "display_data",
          "data": {
            "image/png": "[encoded data removed]",
            "text/plain": [
              "<Figure size 432x288 with 1 Axes>"
            ]
          },
          "metadata": {
            "tags": []
          }
        }
      ]
    },
    {
      "cell_type": "markdown",
      "metadata": {
        "id": "INMxWgUmq2AW",
        "colab_type": "text"
      },
      "source": [
        "Wykonamy łączenie left join czyli do zbioru pierwszego dołączymy drugi ale bierzemy wszystko ze zbioru pierwszego"
      ]
    },
    {
      "cell_type": "code",
      "metadata": {
        "id": "zOVcLJfRq1a-",
        "colab_type": "code",
        "outputId": "93fc76b2-47d2-4cde-c74b-241270b519ca",
        "colab": {
          "base_uri": "https://localhost:8080/",
          "height": 198
        }
      },
      "source": [
        "left_join = pd.merge(left = df2016, right = df2018, how = \"left\")\n",
        "left_join.head()"
      ],
      "execution_count": 0,
      "outputs": [
        {
          "output_type": "execute_result",
          "data": {
            "text/html": [
              "<div>\n",
              "<style scoped>\n",
              "    .dataframe tbody tr th:only-of-type {\n",
              "        vertical-align: middle;\n",
              "    }\n",
              "\n",
              "    .dataframe tbody tr th {\n",
              "        vertical-align: top;\n",
              "    }\n",
              "\n",
              "    .dataframe thead th {\n",
              "        text-align: right;\n",
              "    }\n",
              "</style>\n",
              "<table border=\"1\" class=\"dataframe\">\n",
              "  <thead>\n",
              "    <tr style=\"text-align: right;\">\n",
              "      <th></th>\n",
              "      <th>Kod</th>\n",
              "      <th>wynagrodzenia2016</th>\n",
              "      <th>wynagrodzenia2018</th>\n",
              "    </tr>\n",
              "  </thead>\n",
              "  <tbody>\n",
              "    <tr>\n",
              "      <th>0</th>\n",
              "      <td>201000</td>\n",
              "      <td>3666.19</td>\n",
              "      <td>4214.66</td>\n",
              "    </tr>\n",
              "    <tr>\n",
              "      <th>1</th>\n",
              "      <td>202000</td>\n",
              "      <td>3562.63</td>\n",
              "      <td>4024.94</td>\n",
              "    </tr>\n",
              "    <tr>\n",
              "      <th>2</th>\n",
              "      <td>203000</td>\n",
              "      <td>3723.59</td>\n",
              "      <td>4077.69</td>\n",
              "    </tr>\n",
              "    <tr>\n",
              "      <th>3</th>\n",
              "      <td>204000</td>\n",
              "      <td>3386.93</td>\n",
              "      <td>3815.89</td>\n",
              "    </tr>\n",
              "    <tr>\n",
              "      <th>4</th>\n",
              "      <td>205000</td>\n",
              "      <td>3546.24</td>\n",
              "      <td>4029.64</td>\n",
              "    </tr>\n",
              "  </tbody>\n",
              "</table>\n",
              "</div>"
            ],
            "text/plain": [
              "      Kod  wynagrodzenia2016  wynagrodzenia2018\n",
              "0  201000            3666.19            4214.66\n",
              "1  202000            3562.63            4024.94\n",
              "2  203000            3723.59            4077.69\n",
              "3  204000            3386.93            3815.89\n",
              "4  205000            3546.24            4029.64"
            ]
          },
          "metadata": {
            "tags": []
          },
          "execution_count": 32
        }
      ]
    },
    {
      "cell_type": "markdown",
      "metadata": {
        "id": "zZkTING8rprV",
        "colab_type": "text"
      },
      "source": [
        "Zmieniamy nazwy zmiennych określających klucz\n"
      ]
    },
    {
      "cell_type": "code",
      "metadata": {
        "id": "Id1AdB9NruMP",
        "colab_type": "code",
        "outputId": "19e06061-4a6b-4b20-fd70-11dca2f54b93",
        "colab": {
          "base_uri": "https://localhost:8080/",
          "height": 198
        }
      },
      "source": [
        "df2016 = df2016.rename(columns = {\"Kod\": \"kod2016\"})\n",
        "df2018 = df2018.rename(columns = {\"Kod\": \"kod2018\"})\n",
        "df2018.head()"
      ],
      "execution_count": 0,
      "outputs": [
        {
          "output_type": "execute_result",
          "data": {
            "text/html": [
              "<div>\n",
              "<style scoped>\n",
              "    .dataframe tbody tr th:only-of-type {\n",
              "        vertical-align: middle;\n",
              "    }\n",
              "\n",
              "    .dataframe tbody tr th {\n",
              "        vertical-align: top;\n",
              "    }\n",
              "\n",
              "    .dataframe thead th {\n",
              "        text-align: right;\n",
              "    }\n",
              "</style>\n",
              "<table border=\"1\" class=\"dataframe\">\n",
              "  <thead>\n",
              "    <tr style=\"text-align: right;\">\n",
              "      <th></th>\n",
              "      <th>kod2018</th>\n",
              "      <th>wynagrodzenia2018</th>\n",
              "    </tr>\n",
              "  </thead>\n",
              "  <tbody>\n",
              "    <tr>\n",
              "      <th>0</th>\n",
              "      <td>201000</td>\n",
              "      <td>4214.66</td>\n",
              "    </tr>\n",
              "    <tr>\n",
              "      <th>1</th>\n",
              "      <td>202000</td>\n",
              "      <td>4024.94</td>\n",
              "    </tr>\n",
              "    <tr>\n",
              "      <th>2</th>\n",
              "      <td>203000</td>\n",
              "      <td>4077.69</td>\n",
              "    </tr>\n",
              "    <tr>\n",
              "      <th>3</th>\n",
              "      <td>204000</td>\n",
              "      <td>3815.89</td>\n",
              "    </tr>\n",
              "    <tr>\n",
              "      <th>4</th>\n",
              "      <td>205000</td>\n",
              "      <td>4029.64</td>\n",
              "    </tr>\n",
              "  </tbody>\n",
              "</table>\n",
              "</div>"
            ],
            "text/plain": [
              "   kod2018  wynagrodzenia2018\n",
              "0   201000            4214.66\n",
              "1   202000            4024.94\n",
              "2   203000            4077.69\n",
              "3   204000            3815.89\n",
              "4   205000            4029.64"
            ]
          },
          "metadata": {
            "tags": []
          },
          "execution_count": 33
        }
      ]
    },
    {
      "cell_type": "code",
      "metadata": {
        "id": "HXXSdlYwr6K1",
        "colab_type": "code",
        "outputId": "d3b47617-317c-4c7c-f203-730f0135f7b4",
        "colab": {
          "base_uri": "https://localhost:8080/",
          "height": 198
        }
      },
      "source": [
        "razem2=pd.merge(left = df2016, right = df2018, left_on = \"kod2016\", right_on = \"kod2018\")\n",
        "razem2.head()"
      ],
      "execution_count": 0,
      "outputs": [
        {
          "output_type": "execute_result",
          "data": {
            "text/html": [
              "<div>\n",
              "<style scoped>\n",
              "    .dataframe tbody tr th:only-of-type {\n",
              "        vertical-align: middle;\n",
              "    }\n",
              "\n",
              "    .dataframe tbody tr th {\n",
              "        vertical-align: top;\n",
              "    }\n",
              "\n",
              "    .dataframe thead th {\n",
              "        text-align: right;\n",
              "    }\n",
              "</style>\n",
              "<table border=\"1\" class=\"dataframe\">\n",
              "  <thead>\n",
              "    <tr style=\"text-align: right;\">\n",
              "      <th></th>\n",
              "      <th>kod2016</th>\n",
              "      <th>wynagrodzenia2016</th>\n",
              "      <th>kod2018</th>\n",
              "      <th>wynagrodzenia2018</th>\n",
              "    </tr>\n",
              "  </thead>\n",
              "  <tbody>\n",
              "    <tr>\n",
              "      <th>0</th>\n",
              "      <td>201000</td>\n",
              "      <td>3666.19</td>\n",
              "      <td>201000</td>\n",
              "      <td>4214.66</td>\n",
              "    </tr>\n",
              "    <tr>\n",
              "      <th>1</th>\n",
              "      <td>202000</td>\n",
              "      <td>3562.63</td>\n",
              "      <td>202000</td>\n",
              "      <td>4024.94</td>\n",
              "    </tr>\n",
              "    <tr>\n",
              "      <th>2</th>\n",
              "      <td>203000</td>\n",
              "      <td>3723.59</td>\n",
              "      <td>203000</td>\n",
              "      <td>4077.69</td>\n",
              "    </tr>\n",
              "    <tr>\n",
              "      <th>3</th>\n",
              "      <td>204000</td>\n",
              "      <td>3386.93</td>\n",
              "      <td>204000</td>\n",
              "      <td>3815.89</td>\n",
              "    </tr>\n",
              "    <tr>\n",
              "      <th>4</th>\n",
              "      <td>205000</td>\n",
              "      <td>3546.24</td>\n",
              "      <td>205000</td>\n",
              "      <td>4029.64</td>\n",
              "    </tr>\n",
              "  </tbody>\n",
              "</table>\n",
              "</div>"
            ],
            "text/plain": [
              "   kod2016  wynagrodzenia2016  kod2018  wynagrodzenia2018\n",
              "0   201000            3666.19   201000            4214.66\n",
              "1   202000            3562.63   202000            4024.94\n",
              "2   203000            3723.59   203000            4077.69\n",
              "3   204000            3386.93   204000            3815.89\n",
              "4   205000            3546.24   205000            4029.64"
            ]
          },
          "metadata": {
            "tags": []
          },
          "execution_count": 36
        }
      ]
    },
    {
      "cell_type": "markdown",
      "metadata": {
        "id": "-vrTihyNtYwk",
        "colab_type": "text"
      },
      "source": [
        "# Funkcja map\n",
        "\n",
        "\n",
        "map(funkcja, obiekt interwalny)\n"
      ]
    },
    {
      "cell_type": "code",
      "metadata": {
        "id": "xIRtzoiKtfAH",
        "colab_type": "code",
        "outputId": "c3de0efa-ae8f-4bff-a843-10edc4c1de32",
        "colab": {
          "base_uri": "https://localhost:8080/",
          "height": 54
        }
      },
      "source": [
        "wektory = [ [1,  2, 5, 6, 1], [3, 325, 32, 25, 6]] \n",
        "wektory\n",
        "\n",
        "## po elementach wypisując je\n",
        "np.mean(wektory[0])\n",
        "np.mean(wektory[1])\n",
        "\n",
        "## w pętli\n",
        "for i in [0,1]:\n",
        "  print(np.mean(wektory[i]))"
      ],
      "execution_count": 0,
      "outputs": [
        {
          "output_type": "stream",
          "text": [
            "3.0\n",
            "78.2\n"
          ],
          "name": "stdout"
        }
      ]
    },
    {
      "cell_type": "code",
      "metadata": {
        "id": "biFBZoXvtxw4",
        "colab_type": "code",
        "outputId": "72871427-6186-49c9-abc0-2f2c93e06c47",
        "colab": {
          "base_uri": "https://localhost:8080/",
          "height": 35
        }
      },
      "source": [
        "wynik = map(np.mean, wektory)\n",
        "list(wynik)\n",
        "\n"
      ],
      "execution_count": 0,
      "outputs": [
        {
          "output_type": "execute_result",
          "data": {
            "text/plain": [
              "[3.0, 78.2]"
            ]
          },
          "metadata": {
            "tags": []
          },
          "execution_count": 49
        }
      ]
    },
    {
      "cell_type": "markdown",
      "metadata": {
        "id": "aNsvykjdvFJz",
        "colab_type": "text"
      },
      "source": [
        "Wczytujemy pliki MS Excel z dysku  z wykorzystaniem funkcji map"
      ]
    },
    {
      "cell_type": "code",
      "metadata": {
        "id": "5ZsA0x1RvEX8",
        "colab_type": "code",
        "colab": {}
      },
      "source": [
        "dane = map(pd.read_excel, \n",
        "           [\"/content/wyn_2016.xlsx\", \"/content/wyn_2018.xlsx\"])\n",
        "list(dane)"
      ],
      "execution_count": 0,
      "outputs": []
    },
    {
      "cell_type": "code",
      "metadata": {
        "id": "phmw_f-jwLzF",
        "colab_type": "code",
        "colab": {}
      },
      "source": [
        "def read_excels(io, sheet=1):\n",
        "  ark = pd.read_excel(io, sheet_name = sheet)\n",
        "  return(ark)"
      ],
      "execution_count": 0,
      "outputs": []
    },
    {
      "cell_type": "code",
      "metadata": {
        "id": "YUA1l2i1wVCP",
        "colab_type": "code",
        "outputId": "90247de9-4688-4556-9ae4-5927557f1e63",
        "colab": {
          "base_uri": "https://localhost:8080/",
          "height": 72
        }
      },
      "source": [
        "dane = map(read_excels, \n",
        "           [\"/content/wyn_2016.xlsx\", \"/content/wyn_2018.xlsx\"])\n",
        "\n",
        "pd.concat(dane).Rok.value_counts()"
      ],
      "execution_count": 0,
      "outputs": [
        {
          "output_type": "execute_result",
          "data": {
            "text/plain": [
              "2018    380\n",
              "2016    380\n",
              "Name: Rok, dtype: int64"
            ]
          },
          "metadata": {
            "tags": []
          },
          "execution_count": 67
        }
      ]
    },
    {
      "cell_type": "markdown",
      "metadata": {
        "id": "0kdBgUVjyOxf",
        "colab_type": "text"
      },
      "source": [
        "# Pokazujemy jakie pliki są w określonym folderze\n",
        "\n",
        "Wykorzystamy do tego funkcję z modułu `os`"
      ]
    },
    {
      "cell_type": "code",
      "metadata": {
        "id": "nvFABfhiyWE-",
        "colab_type": "code",
        "outputId": "51957258-0970-4e42-f47a-3eb71e36f6b9",
        "colab": {
          "base_uri": "https://localhost:8080/",
          "height": 35
        }
      },
      "source": [
        "pliki = os.listdir(\"/content\")\n",
        "\n",
        "[i.endswith(\"xlsx\") for i in pliki] ## comprehension"
      ],
      "execution_count": 0,
      "outputs": [
        {
          "output_type": "execute_result",
          "data": {
            "text/plain": [
              "[False, True, False, True]"
            ]
          },
          "metadata": {
            "tags": []
          },
          "execution_count": 76
        }
      ]
    },
    {
      "cell_type": "code",
      "metadata": {
        "id": "ibKeP_hOzwaV",
        "colab_type": "code",
        "outputId": "51053813-eb83-46ca-9558-5d50436bc7a8",
        "colab": {
          "base_uri": "https://localhost:8080/",
          "height": 35
        }
      },
      "source": [
        "glob.glob(\"/content/*.xlsx\")"
      ],
      "execution_count": 0,
      "outputs": [
        {
          "output_type": "execute_result",
          "data": {
            "text/plain": [
              "['/content/wyn_2018.xlsx', '/content/wyn_2016.xlsx']"
            ]
          },
          "metadata": {
            "tags": []
          },
          "execution_count": 78
        }
      ]
    },
    {
      "cell_type": "code",
      "metadata": {
        "id": "SLgW2T91zwPI",
        "colab_type": "code",
        "colab": {}
      },
      "source": [
        ""
      ],
      "execution_count": 0,
      "outputs": []
    }
  ]
}